{
 "cells": [
  {
   "cell_type": "markdown",
   "metadata": {},
   "source": [
    "### Linear Regression\n",
    "\n",
    "Other Sources:\n",
    "- Here is a <a href=\"https://www.hackerearth.com/practice/machine-learning/machine-learning-algorithms/beginners-guide-regression-analysis-plot-interpretations/tutorial/\">nice introductory article</a>.  It gives some additional attention to examining and evaluating the regression model. The code is written in R rather than Python, but it shouldn't be hard to interpret the few lines of R code. \n",
    "- Text section 18.6 cover the material theoretically and quickly.  Don't worry about the material on gradient descent.\n",
    "- Chapter 3 of <a href=\"https://www-bcf.usc.edu/~gareth/ISL/ISLR%20First%20Printing.pdf\">An Introduction to Statistical Learning</a> is your best bet for a deeper treatment, even though R is the language of choice.  In fact, that should be your go-to book for more machine learning material.\n",
    "\n",
    "Objectives:\n",
    "- Define data modeling and simple linear regression\n",
    "- Show various steps in examining a data set and preparing it for input to a learning library\n",
    "- Build a linear regression model using Python libraries\n",
    "- Understand how to evaluate the quality of a model and compare it alternative models"
   ]
  },
  {
   "cell_type": "markdown",
   "metadata": {},
   "source": [
    "##### The Bikeshare Data Set"
   ]
  },
  {
   "cell_type": "markdown",
   "metadata": {},
   "source": [
    "We'll be working with a data set from Capital Bikeshare that was used in a [Kaggle competition](https://www.kaggle.com/c/bike-sharing-demand/data), but heavily modified for this class!\n",
    "\n",
    "The goal is to predict total ridership of Capital Bikeshare in any given hour."
   ]
  },
  {
   "cell_type": "markdown",
   "metadata": {},
   "source": [
    "### Capital Bikeshare Data Dictionary"
   ]
  },
  {
   "cell_type": "markdown",
   "metadata": {},
   "source": [
    "| Variable| Description |\n",
    "|---------|----------------|\n",
    "|rental_hour| hourly date + timestamp  |\n",
    "|season|  'winter', 'spring', 'summer', 'fall' |\n",
    "|workingday| whether the day is neither a weekend nor holiday|\n",
    "|weather| 1 -> Clear or partly cloudy;  2 -> Clouds and mist; 3 -> Light rain or snow;  4 -> Heavy rain or snow|\n",
    "|temp| temperature in Celsius|\n",
    "|humidity| relative humidity|\n",
    "|windspeed| wind speed|\n",
    "|total_rentals| number of total rentals|\n",
    "|sunspots| sunspot activity (0-2, none to high)|\n"
   ]
  },
  {
   "cell_type": "code",
   "execution_count": 1,
   "metadata": {},
   "outputs": [],
   "source": [
    "import pandas as pd\n",
    "import numpy as np\n",
    "import seaborn as sns\n",
    "import matplotlib.pyplot as plt\n",
    "%matplotlib inline\n",
    "plt.rcParams['figure.figsize'] = (12, 6)\n",
    "plt.rcParams['font.size'] = 14"
   ]
  },
  {
   "cell_type": "code",
   "execution_count": 2,
   "metadata": {},
   "outputs": [],
   "source": [
    "bikes = pd.read_csv('bikeshare.csv', parse_dates=['rental_hour'])"
   ]
  },
  {
   "cell_type": "code",
   "execution_count": 4,
   "metadata": {},
   "outputs": [
    {
     "name": "stdout",
     "output_type": "stream",
     "text": [
      "<class 'pandas.core.frame.DataFrame'>\n",
      "RangeIndex: 10886 entries, 0 to 10885\n",
      "Data columns (total 9 columns):\n",
      "rental_hour      10886 non-null datetime64[ns]\n",
      "season           10886 non-null object\n",
      "workingday       10886 non-null int64\n",
      "weather          10886 non-null int64\n",
      "temp             10886 non-null float64\n",
      "humidity         10886 non-null int64\n",
      "windspeed        10886 non-null float64\n",
      "total_rentals    10886 non-null int64\n",
      "sunspots         10886 non-null int64\n",
      "dtypes: datetime64[ns](1), float64(2), int64(5), object(1)\n",
      "memory usage: 765.5+ KB\n"
     ]
    }
   ],
   "source": [
    "bikes.info()"
   ]
  },
  {
   "cell_type": "code",
   "execution_count": 7,
   "metadata": {},
   "outputs": [
    {
     "data": {
      "text/html": [
       "<div>\n",
       "<style scoped>\n",
       "    .dataframe tbody tr th:only-of-type {\n",
       "        vertical-align: middle;\n",
       "    }\n",
       "\n",
       "    .dataframe tbody tr th {\n",
       "        vertical-align: top;\n",
       "    }\n",
       "\n",
       "    .dataframe thead th {\n",
       "        text-align: right;\n",
       "    }\n",
       "</style>\n",
       "<table border=\"1\" class=\"dataframe\">\n",
       "  <thead>\n",
       "    <tr style=\"text-align: right;\">\n",
       "      <th></th>\n",
       "      <th>rental_hour</th>\n",
       "      <th>season</th>\n",
       "      <th>workingday</th>\n",
       "      <th>weather</th>\n",
       "      <th>temp</th>\n",
       "      <th>humidity</th>\n",
       "      <th>windspeed</th>\n",
       "      <th>total_rentals</th>\n",
       "      <th>sunspots</th>\n",
       "    </tr>\n",
       "  </thead>\n",
       "  <tbody>\n",
       "    <tr>\n",
       "      <th>0</th>\n",
       "      <td>2011-01-01 00:00:00</td>\n",
       "      <td>winter</td>\n",
       "      <td>0</td>\n",
       "      <td>1</td>\n",
       "      <td>9.84</td>\n",
       "      <td>81</td>\n",
       "      <td>0.0</td>\n",
       "      <td>16</td>\n",
       "      <td>0</td>\n",
       "    </tr>\n",
       "    <tr>\n",
       "      <th>1</th>\n",
       "      <td>2011-01-01 01:00:00</td>\n",
       "      <td>winter</td>\n",
       "      <td>0</td>\n",
       "      <td>1</td>\n",
       "      <td>9.02</td>\n",
       "      <td>80</td>\n",
       "      <td>0.0</td>\n",
       "      <td>40</td>\n",
       "      <td>1</td>\n",
       "    </tr>\n",
       "    <tr>\n",
       "      <th>2</th>\n",
       "      <td>2011-01-01 02:00:00</td>\n",
       "      <td>winter</td>\n",
       "      <td>0</td>\n",
       "      <td>1</td>\n",
       "      <td>9.02</td>\n",
       "      <td>80</td>\n",
       "      <td>0.0</td>\n",
       "      <td>32</td>\n",
       "      <td>1</td>\n",
       "    </tr>\n",
       "    <tr>\n",
       "      <th>3</th>\n",
       "      <td>2011-01-01 03:00:00</td>\n",
       "      <td>winter</td>\n",
       "      <td>0</td>\n",
       "      <td>1</td>\n",
       "      <td>9.84</td>\n",
       "      <td>75</td>\n",
       "      <td>0.0</td>\n",
       "      <td>13</td>\n",
       "      <td>0</td>\n",
       "    </tr>\n",
       "    <tr>\n",
       "      <th>4</th>\n",
       "      <td>2011-01-01 04:00:00</td>\n",
       "      <td>winter</td>\n",
       "      <td>0</td>\n",
       "      <td>1</td>\n",
       "      <td>9.84</td>\n",
       "      <td>75</td>\n",
       "      <td>0.0</td>\n",
       "      <td>1</td>\n",
       "      <td>1</td>\n",
       "    </tr>\n",
       "  </tbody>\n",
       "</table>\n",
       "</div>"
      ],
      "text/plain": [
       "          rental_hour  season  workingday  weather  temp  humidity  windspeed  \\\n",
       "0 2011-01-01 00:00:00  winter           0        1  9.84        81        0.0   \n",
       "1 2011-01-01 01:00:00  winter           0        1  9.02        80        0.0   \n",
       "2 2011-01-01 02:00:00  winter           0        1  9.02        80        0.0   \n",
       "3 2011-01-01 03:00:00  winter           0        1  9.84        75        0.0   \n",
       "4 2011-01-01 04:00:00  winter           0        1  9.84        75        0.0   \n",
       "\n",
       "   total_rentals  sunspots  \n",
       "0             16         0  \n",
       "1             40         1  \n",
       "2             32         1  \n",
       "3             13         0  \n",
       "4              1         1  "
      ]
     },
     "execution_count": 7,
     "metadata": {},
     "output_type": "execute_result"
    }
   ],
   "source": [
    "bikes.head(5)"
   ]
  },
  {
   "cell_type": "code",
   "execution_count": 8,
   "metadata": {},
   "outputs": [
    {
     "data": {
      "text/plain": [
       "(10886, 9)"
      ]
     },
     "execution_count": 8,
     "metadata": {},
     "output_type": "execute_result"
    }
   ],
   "source": [
    "bikes.shape"
   ]
  },
  {
   "cell_type": "code",
   "execution_count": 3,
   "metadata": {},
   "outputs": [
    {
     "data": {
      "text/html": [
       "<div>\n",
       "<style scoped>\n",
       "    .dataframe tbody tr th:only-of-type {\n",
       "        vertical-align: middle;\n",
       "    }\n",
       "\n",
       "    .dataframe tbody tr th {\n",
       "        vertical-align: top;\n",
       "    }\n",
       "\n",
       "    .dataframe thead th {\n",
       "        text-align: right;\n",
       "    }\n",
       "</style>\n",
       "<table border=\"1\" class=\"dataframe\">\n",
       "  <thead>\n",
       "    <tr style=\"text-align: right;\">\n",
       "      <th></th>\n",
       "      <th>workingday</th>\n",
       "      <th>weather</th>\n",
       "      <th>temp</th>\n",
       "      <th>humidity</th>\n",
       "      <th>windspeed</th>\n",
       "      <th>total_rentals</th>\n",
       "      <th>sunspots</th>\n",
       "    </tr>\n",
       "  </thead>\n",
       "  <tbody>\n",
       "    <tr>\n",
       "      <th>count</th>\n",
       "      <td>10886.000000</td>\n",
       "      <td>10886.000000</td>\n",
       "      <td>10886.00000</td>\n",
       "      <td>10886.000000</td>\n",
       "      <td>10886.000000</td>\n",
       "      <td>10886.000000</td>\n",
       "      <td>10886.000000</td>\n",
       "    </tr>\n",
       "    <tr>\n",
       "      <th>mean</th>\n",
       "      <td>0.680875</td>\n",
       "      <td>1.418427</td>\n",
       "      <td>20.23086</td>\n",
       "      <td>61.886460</td>\n",
       "      <td>12.799395</td>\n",
       "      <td>191.574132</td>\n",
       "      <td>0.998347</td>\n",
       "    </tr>\n",
       "    <tr>\n",
       "      <th>std</th>\n",
       "      <td>0.466159</td>\n",
       "      <td>0.633839</td>\n",
       "      <td>7.79159</td>\n",
       "      <td>19.245033</td>\n",
       "      <td>8.164537</td>\n",
       "      <td>181.144454</td>\n",
       "      <td>0.816232</td>\n",
       "    </tr>\n",
       "    <tr>\n",
       "      <th>min</th>\n",
       "      <td>0.000000</td>\n",
       "      <td>1.000000</td>\n",
       "      <td>0.82000</td>\n",
       "      <td>0.000000</td>\n",
       "      <td>0.000000</td>\n",
       "      <td>1.000000</td>\n",
       "      <td>0.000000</td>\n",
       "    </tr>\n",
       "    <tr>\n",
       "      <th>25%</th>\n",
       "      <td>0.000000</td>\n",
       "      <td>1.000000</td>\n",
       "      <td>13.94000</td>\n",
       "      <td>47.000000</td>\n",
       "      <td>7.001500</td>\n",
       "      <td>42.000000</td>\n",
       "      <td>0.000000</td>\n",
       "    </tr>\n",
       "    <tr>\n",
       "      <th>50%</th>\n",
       "      <td>1.000000</td>\n",
       "      <td>1.000000</td>\n",
       "      <td>20.50000</td>\n",
       "      <td>62.000000</td>\n",
       "      <td>12.998000</td>\n",
       "      <td>145.000000</td>\n",
       "      <td>1.000000</td>\n",
       "    </tr>\n",
       "    <tr>\n",
       "      <th>75%</th>\n",
       "      <td>1.000000</td>\n",
       "      <td>2.000000</td>\n",
       "      <td>26.24000</td>\n",
       "      <td>77.000000</td>\n",
       "      <td>16.997900</td>\n",
       "      <td>284.000000</td>\n",
       "      <td>2.000000</td>\n",
       "    </tr>\n",
       "    <tr>\n",
       "      <th>max</th>\n",
       "      <td>1.000000</td>\n",
       "      <td>4.000000</td>\n",
       "      <td>41.00000</td>\n",
       "      <td>100.000000</td>\n",
       "      <td>56.996900</td>\n",
       "      <td>977.000000</td>\n",
       "      <td>2.000000</td>\n",
       "    </tr>\n",
       "  </tbody>\n",
       "</table>\n",
       "</div>"
      ],
      "text/plain": [
       "         workingday       weather         temp      humidity     windspeed  \\\n",
       "count  10886.000000  10886.000000  10886.00000  10886.000000  10886.000000   \n",
       "mean       0.680875      1.418427     20.23086     61.886460     12.799395   \n",
       "std        0.466159      0.633839      7.79159     19.245033      8.164537   \n",
       "min        0.000000      1.000000      0.82000      0.000000      0.000000   \n",
       "25%        0.000000      1.000000     13.94000     47.000000      7.001500   \n",
       "50%        1.000000      1.000000     20.50000     62.000000     12.998000   \n",
       "75%        1.000000      2.000000     26.24000     77.000000     16.997900   \n",
       "max        1.000000      4.000000     41.00000    100.000000     56.996900   \n",
       "\n",
       "       total_rentals      sunspots  \n",
       "count   10886.000000  10886.000000  \n",
       "mean      191.574132      0.998347  \n",
       "std       181.144454      0.816232  \n",
       "min         1.000000      0.000000  \n",
       "25%        42.000000      0.000000  \n",
       "50%       145.000000      1.000000  \n",
       "75%       284.000000      2.000000  \n",
       "max       977.000000      2.000000  "
      ]
     },
     "execution_count": 3,
     "metadata": {},
     "output_type": "execute_result"
    }
   ],
   "source": [
    "bikes.describe()"
   ]
  },
  {
   "cell_type": "code",
   "execution_count": 6,
   "metadata": {},
   "outputs": [
    {
     "data": {
      "text/plain": [
       "fall      2734\n",
       "summer    2733\n",
       "spring    2733\n",
       "winter    2686\n",
       "Name: season, dtype: int64"
      ]
     },
     "execution_count": 6,
     "metadata": {},
     "output_type": "execute_result"
    }
   ],
   "source": [
    "bikes.season.value_counts()"
   ]
  },
  {
   "cell_type": "markdown",
   "metadata": {},
   "source": [
    "### Linear Regression Basics\n",
    "---"
   ]
  },
  {
   "cell_type": "markdown",
   "metadata": {},
   "source": [
    "### Regression (versus Classification)\n",
    "\n",
    "Both regression and classification are instances of *supervised learning*\n",
    "  * We have \"labeled training data\"\n",
    "  * Labeled data means we have an observations of X and observations of y\n",
    "  * X are the \"input values\" and y is the \"output value\" or the \"label\"\n",
    "  \n",
    "Regression:  y is numeric\n",
    "\n",
    "  * it makes sense to talk about $y_1 \\geq y_2$ (ordinal) or $y \\times 2$ (cardinal)\n",
    "  * commonly ask \"how much will $y$ *change* if $X$ changes?\"\n",
    "  \n",
    "Classification:  y is *categorical*\n",
    "  *  true or false\n",
    "  *  red, yellow, blue, green, blue purple\n",
    "  *  doesn't make sense to say \"yellow plus one\" or \"halfway between blue and green\"\n",
    "  *  commonly ask \"which value will $y$ be for this value of $X$?\"\n",
    "  \n",
    "**The fact that a variable is coded as a number in your data frame does not make it numeric!**\n",
    "  * code false/true as 0/1\n",
    "  * code red, yellow, orange as 0/1/2\n",
    "  * 0.5 is meaningless in both cases!\n",
    "  \n",
    "\n",
    "---\n",
    "\n",
    "### Linear Regression\n",
    "\n",
    "Think of our data frame as a set of observations of the form:  \n",
    "$$(x_{i1}, x_{i2}, \\ldots, x_{ik}, y_i)$$ \n",
    "\n",
    "where the $x$ are the \"independent variables\" and $y$ is the \"dependent variable\".  We are trying to find a function of the $x$ variables that predict the value of the $y$ variable.   We have $n$ observations and $k$ independent variables (features).\n",
    "\n",
    "Think matrix with $n$ rows and $k$ columns for the independent variables and a vector with $n$ rows for the dependent variable.\n",
    "\n",
    "*  *Regression*  the $y$ variable is numeric and ordered -- for example temperature or number of rentals\n",
    "*  *Classification* the $y$ variable is taken from a set -- for example true/false or {red, green, blue}\n",
    "\n",
    "*Linear* -- Start with the formula for a line:  $$y = \\alpha + \\beta x\\\\y = \\beta_0 + \\beta_1 x$$ \n",
    "\n",
    "(The second notation gives a consistent name to the coefficients.)\n",
    "\n",
    "* First statement of the linear regression problem:  find the values of $\\beta_0$ and $\\beta_1$ that best predict the $y$ values for all of our observations\n",
    "* Second statement of the problem:  since every model contains some amount of noise -- \"random irreducible error\" $\\epsilon$,  instead we are actually working optimizing $$y = \\beta_0 + \\beta_1  + \\epsilon$$\n",
    "where $\\epsilon$ is small and uncorrelated with $x$ and $y$.\n",
    "\n",
    "---\n",
    "\n",
    "Here, we will generalize this to $n$ independent variables as follows:\n",
    "\n",
    "$$y = \\beta_0 + \\beta_1x_1 + \\beta_2x_2 + ... + \\beta_nx_n + \\epsilon\\quad =\\quad \\beta_0 + (\\sum_{i=0}^{k} \\beta_ix_i) + \\epsilon$$\n",
    "\n",
    "- $y$ is the response.\n",
    "- $\\beta_0$ is the intercept.\n",
    "- $\\beta_1$ is the coefficient for $x_1$ (the first feature).\n",
    "- $\\beta_k$ is the coefficient for $x_k$ (the kth feature).\n",
    "- $\\epsilon$ is the _error_ term which is independent of x, y, and $k$\n"
   ]
  },
  {
   "cell_type": "markdown",
   "metadata": {},
   "source": [
    "A practical example of this applied to our data might be:\n",
    "\n",
    "$${\\tt total\\_rides} = 20 + -2 \\cdot {\\tt temp} + -3 \\cdot {\\tt windspeed}\\ +\\ ...\\ +\\ 0.1 \\cdot {\\tt sunspots}$$\n",
    "\n",
    "This equation is still called **linear** because the highest degree of the independent variables (e.g. $x_i$) is 1. Note that because the $\\beta$ values are constants, they will not be independent variables in the final model, as seen above.  The $\\beta_i$ are the parameters learned by the model."
   ]
  },
  {
   "cell_type": "markdown",
   "metadata": {},
   "source": [
    "#### Linearity Assumption\n",
    "\n",
    "* Linear regression is very widely used, because it is fast and simple and well understood\n",
    "* Even though most systems we model are not exactly linear\n",
    "* But ultimately that's not what matters -- what matters is whether the model we build does a *good enough* job of predicting $y$\n",
    "  * Means we can make good decisions about what to do based on our predictions\n",
    "  \n",
    "**Common Violations of Linearity**\n",
    "\n",
    "* $y$ is a function of $x^2$, not $x$.  For example, rentals increase with ${\\tt temp}^2$\n",
    "* Interaction effects:  the effect of heat and humidity jointly affect rentals\n",
    "* Effect depends on level:   for a while increase in **temp** causes **rentals** to increase, but if **temp** is high enough, **rentals** will start to decrease as **temp** increases"
   ]
  },
  {
   "cell_type": "markdown",
   "metadata": {},
   "source": [
    "---"
   ]
  },
  {
   "cell_type": "markdown",
   "metadata": {},
   "source": [
    "---\n",
    "\n",
    "In the regression equation\n",
    "$y = \\beta_0 + \\beta_1x_1 + \\beta_2x_2 + ... + \\beta_nx_k + \\epsilon$\n",
    "\n",
    "the $x$ and $y$ values come from data, and the $k+1$ $\\beta$ values are called the **model coefficients**:\n",
    "\n",
    "- The model coefficients are estimated (or \"learned\") during the model fitting process using the **least squares criterion**.\n",
    "- Specifically, we are trying to find the line (mathematically) that minimizes the **sum of squared residuals** (or \"sum of squared errors\").\n",
    "- Once we've learned these coefficients, we can use the model to predict the response for a new vector of independent variables:  $(x_1, x_2, \\ldots, x_k)$\n",
    "\n",
    "![Estimating coefficients](estimating_coefficients.png)\n",
    "\n",
    "We measure how well the model fits the data in terms of mean-squared error as follows:\n",
    "$$MSE = \\frac{1} {n} \\| \\hat{y}(\\mathbf{X}) - \\vec{y} \\|$$\n",
    "\n",
    "The linear regression algorithm finds the values for $\\beta_0, \\beta_1,  \\beta_2, \\ldots \\beta_n$ that maximize MSE *for a given data set (the training set)*\n",
    "\n",
    "In the diagram above:\n",
    "\n",
    "- The black dots are the **observed values** of x and y.\n",
    "- The blue line is our **least squares line**.\n",
    "- The red lines are the **residuals**, which are the vertical distances between the observed values and the least squares line.\n",
    "\n",
    "In two dimensions (i.e. a single $x$ and a single $y$, i.e. we are learning $\\beta_0$ and $\\beta_1$) think of the learning process as\n",
    "*  Moving the line up or down (changing the intercept $\\beta_0$)\n",
    "*  Changing the slope (increasing or decreasing $\\beta_1$)\n",
    "\n",
    "If there are two predictors $(x_1, x_2)$ then there are three parameters to learn, and the model fits a plane, and residuals are the distance between the observed value and the least squares plane.\n",
    "\n",
    "![Regression with Two Variates](multiple_regression_plane.png)\n",
    "\n",
    "If there are more than two predictors, it's hard to visualize.\n",
    "\n",
    "#### On To Implementation\n",
    "\n",
    "* $n$ observations (rows)\n",
    "* Each observation has $m$ columns (one for each $x$ attribute) and an observed value for $y$\n",
    "* $X$ is an $n\\times m$ matrix,  $y$ is an $n\\times 1$ vector\n"
   ]
  },
  {
   "cell_type": "markdown",
   "metadata": {},
   "source": [
    "<a id=\"building-a-linear-regression-model-in-sklearn\"></a>\n",
    "### Building a (Single) Linear Regression Model in sklearn"
   ]
  },
  {
   "cell_type": "markdown",
   "metadata": {},
   "source": [
    "#### Create a feature matrix called X that holds a `DataFrame` with only the temp variable and a `Series` called y that has the \"total_rentals\" column."
   ]
  },
  {
   "cell_type": "code",
   "execution_count": 9,
   "metadata": {},
   "outputs": [],
   "source": [
    "# Notice that we read both X and y in from the same file into the same data frame\n",
    "#   But from the perspective of the learning algorithm they are completely different\n",
    "#     so we immediately split them apart\n",
    "\n",
    "feature_cols = ['temp']\n",
    "X1 = bikes[feature_cols]\n",
    "y1 = bikes.total_rentals"
   ]
  },
  {
   "cell_type": "markdown",
   "metadata": {},
   "source": [
    "<span style=\"color:blue; font-size:120%\">\n",
    "Why do you think X is capitalized but y is not?\n",
    "\n",
    "Important terminology.  Now (X, y) is our *training set* or our *training data*.\n",
    "\n",
    "</span>"
   ]
  },
  {
   "cell_type": "code",
   "execution_count": 10,
   "metadata": {},
   "outputs": [
    {
     "name": "stdout",
     "output_type": "stream",
     "text": [
      "<class 'pandas.core.frame.DataFrame'>\n",
      "<class 'pandas.core.series.Series'>\n",
      "(10886, 1)\n",
      "(10886,)\n"
     ]
    }
   ],
   "source": [
    "print(type(X1))\n",
    "print(type(y1))\n",
    "print(X1.shape)\n",
    "print(y1.shape)"
   ]
  },
  {
   "cell_type": "markdown",
   "metadata": {},
   "source": [
    "\n",
    "### Scikit-learn's Four-Step Modeling Pattern -- Same for Many Learning Algorithms"
   ]
  },
  {
   "cell_type": "markdown",
   "metadata": {},
   "source": [
    "**Step 1:** Import the class you plan to use."
   ]
  },
  {
   "cell_type": "code",
   "execution_count": 12,
   "metadata": {},
   "outputs": [],
   "source": [
    "from sklearn.linear_model import LinearRegression"
   ]
  },
  {
   "cell_type": "markdown",
   "metadata": {},
   "source": [
    "**Step 2:** Create an instance of the algorithm "
   ]
  },
  {
   "cell_type": "code",
   "execution_count": 13,
   "metadata": {},
   "outputs": [
    {
     "data": {
      "text/plain": [
       "sklearn.linear_model.base.LinearRegression"
      ]
     },
     "execution_count": 13,
     "metadata": {},
     "output_type": "execute_result"
    }
   ],
   "source": [
    "lr1 = LinearRegression()\n",
    "type(lr1)"
   ]
  },
  {
   "cell_type": "markdown",
   "metadata": {},
   "source": [
    "- Created an object that \"knows\" how to do linear regression, and is just waiting for data. This is an \"unfitted\" or \"untrained\" model"
   ]
  },
  {
   "cell_type": "markdown",
   "metadata": {},
   "source": [
    "**Step 3:** Fit the model with data (aka \"model training\").\n",
    "\n",
    "- Model is \"learning\" the relationship between X and y in our \"training data.\"\n",
    "- Process through which learning occurs varies by model.\n",
    "- Occurs in-place."
   ]
  },
  {
   "cell_type": "code",
   "execution_count": 14,
   "metadata": {},
   "outputs": [
    {
     "data": {
      "text/plain": [
       "LinearRegression(copy_X=True, fit_intercept=True, n_jobs=1, normalize=False)"
      ]
     },
     "execution_count": 14,
     "metadata": {},
     "output_type": "execute_result"
    }
   ],
   "source": [
    "lr1.fit(X1, y1)"
   ]
  },
  {
   "cell_type": "markdown",
   "metadata": {},
   "source": [
    "- Once a model has been fit with data, it's called a \"fitted model.\"\n",
    "- Next steps\n",
    "  - We can predict y values from an X vector\n",
    "  - We need to assess how good the model is as a predictor"
   ]
  },
  {
   "cell_type": "code",
   "execution_count": 15,
   "metadata": {},
   "outputs": [
    {
     "name": "stdout",
     "output_type": "stream",
     "text": [
      "6.04621295961681\n",
      "[9.17054048]\n"
     ]
    }
   ],
   "source": [
    "print(lr1.intercept_)\n",
    "print(lr1.coef_)"
   ]
  },
  {
   "cell_type": "markdown",
   "metadata": {},
   "source": [
    "This is the equation\n",
    "\n",
    "${\\tt total\\_rentals} = 6.04 + 9.17 \\times{\\tt temp}$\n",
    "\n",
    "The intercept is $\\beta_0$. The coefficient(s) $\\beta_1$ is $9.17$.\n",
    "\n",
    "The coefficient vector has length one only because we are demonstrating single linear regression."
   ]
  },
  {
   "cell_type": "code",
   "execution_count": 16,
   "metadata": {},
   "outputs": [
    {
     "data": {
      "text/plain": [
       "(3, 1)"
      ]
     },
     "execution_count": 16,
     "metadata": {},
     "output_type": "execute_result"
    }
   ],
   "source": [
    "# This is how we get our model to predict:  give it a matrix of size (n,m)\n",
    "# In our case, m = 1 and we want to predict 3 values, so we need a 3x1 vector\n",
    "\n",
    "values_to_predict = [0, 1, 2]\n",
    "x_to_predict = np.array(values_to_predict).reshape(-1,1)\n",
    "x_to_predict.shape"
   ]
  },
  {
   "cell_type": "code",
   "execution_count": 17,
   "metadata": {},
   "outputs": [
    {
     "name": "stdout",
     "output_type": "stream",
     "text": [
      "[ 6.04621296 15.21675344 24.38729392]\n"
     ]
    }
   ],
   "source": [
    "# We can predict at multiple points.\n",
    "# We should see the intercept at x=0 and a bump of 9.17 for every increase in X\n",
    "\n",
    "print(lr1.predict(x_to_predict))"
   ]
  },
  {
   "cell_type": "code",
   "execution_count": 18,
   "metadata": {},
   "outputs": [
    {
     "name": "stdout",
     "output_type": "stream",
     "text": [
      "[ 96.2843313   88.7644881   88.7644881  ... 133.88354727 133.88354727\n",
      " 126.36370408]\n"
     ]
    }
   ],
   "source": [
    "# Most often we want to predict all values in a matrix\n",
    "print(lr1.predict(X1))"
   ]
  },
  {
   "cell_type": "code",
   "execution_count": null,
   "metadata": {},
   "outputs": [],
   "source": [
    "# Those are our predicted values .... we will be interested in how they\n",
    "#  compare to the actual (observed) y values\n",
    "print(list(y1))"
   ]
  },
  {
   "cell_type": "code",
   "execution_count": 19,
   "metadata": {},
   "outputs": [
    {
     "name": "stdout",
     "output_type": "stream",
     "text": [
      "27705.2238053288\n"
     ]
    }
   ],
   "source": [
    "from sklearn.metrics import mean_squared_error\n",
    "print(mean_squared_error(y1, lr1.predict(X1)))"
   ]
  },
  {
   "cell_type": "markdown",
   "metadata": {},
   "source": [
    "Interpreting the intercept ($\\beta_0$):\n",
    "\n",
    "- It is the value of $y$ when all independent variables are 0.\n",
    "- Here, it is the estimated number of rentals when the temperature is 0 degrees Celsius.\n",
    "- <span style=\"color:blue\">**Note:** It does not always make sense to interpret the intercept. (Why?)</span>\n",
    "\n",
    "Interpreting the \"temp\" coefficient ($\\beta_1$):\n",
    "\n",
    "- **Interpretation:** An increase of 1 degree Celcius is _associated with_ increasing the number of total rentals by $\\beta_1$.\n",
    "- Here, a temperature increase of 1 degree Celsius is _associated with_ a rental increase of 9.17 bikes.\n",
    "- This is not a statement of causation.\n",
    "- $\\beta_1$ would be **negative** if an increase in temperature was associated with a **decrease** in total rentals.\n",
    "- $\\beta_1$ would be **zero** if temperature is not associated with total rentals\n",
    "  - Seeing a $\\beta = 0$ is important to look for, it means that $x$ is not a useful variable and should be deleted!"
   ]
  },
  {
   "cell_type": "markdown",
   "metadata": {},
   "source": [
    "#### Add More Features, Get Better Predictions!"
   ]
  },
  {
   "cell_type": "code",
   "execution_count": 20,
   "metadata": {},
   "outputs": [
    {
     "data": {
      "text/plain": [
       "Index(['rental_hour', 'season', 'workingday', 'weather', 'temp', 'humidity',\n",
       "       'windspeed', 'total_rentals', 'sunspots'],\n",
       "      dtype='object')"
      ]
     },
     "execution_count": 20,
     "metadata": {},
     "output_type": "execute_result"
    }
   ],
   "source": [
    "bikes.columns"
   ]
  },
  {
   "cell_type": "markdown",
   "metadata": {},
   "source": [
    "rental_hour -> timestamp\n",
    "season -> string\n",
    "workingday -> 0/1\n",
    "weather -> 1,2,3,4\n",
    "sunspots -> 0,1,2"
   ]
  },
  {
   "cell_type": "code",
   "execution_count": 21,
   "metadata": {},
   "outputs": [],
   "source": [
    "# These are all the numeric features -- regression needs numbers!\n",
    "#  Omitting rental_hour (a date/time), omitting season (a string)\n",
    "feature_cols2 = ['workingday', 'weather', 'temp', 'humidity', 'windspeed', 'sunspots']\n",
    "X2 = bikes[feature_cols2]\n",
    "y2 = bikes.total_rentals"
   ]
  },
  {
   "cell_type": "code",
   "execution_count": 22,
   "metadata": {},
   "outputs": [
    {
     "data": {
      "text/plain": [
       "LinearRegression(copy_X=True, fit_intercept=True, n_jobs=1, normalize=False)"
      ]
     },
     "execution_count": 22,
     "metadata": {},
     "output_type": "execute_result"
    }
   ],
   "source": [
    "lr2 = LinearRegression()\n",
    "lr2.fit(X2, y2)"
   ]
  },
  {
   "cell_type": "code",
   "execution_count": 23,
   "metadata": {},
   "outputs": [
    {
     "name": "stdout",
     "output_type": "stream",
     "text": [
      "180.96434370104075\n",
      "[-1.35048855  3.09471515  8.7489077  -2.75668603  0.32618071 -3.43731298]\n"
     ]
    }
   ],
   "source": [
    "print(lr2.intercept_)\n",
    "print(lr2.coef_)"
   ]
  },
  {
   "cell_type": "code",
   "execution_count": null,
   "metadata": {},
   "outputs": [],
   "source": [
    "# Adding more variables makes a big difference ... temp is the 4th variable"
   ]
  },
  {
   "cell_type": "code",
   "execution_count": 24,
   "metadata": {},
   "outputs": [
    {
     "name": "stdout",
     "output_type": "stream",
     "text": [
      "6.04621295961681\n",
      "[9.17054048]\n"
     ]
    }
   ],
   "source": [
    "print(lr1.intercept_)\n",
    "print(lr1.coef_)"
   ]
  },
  {
   "cell_type": "code",
   "execution_count": 25,
   "metadata": {},
   "outputs": [
    {
     "name": "stdout",
     "output_type": "stream",
     "text": [
      "(10886, 1)\n",
      "(10886, 6)\n"
     ]
    }
   ],
   "source": [
    "print(X1.shape)\n",
    "print(X2.shape)"
   ]
  },
  {
   "cell_type": "markdown",
   "metadata": {},
   "source": [
    "#####  Evaluating the Model -- First Cut\n",
    "\n",
    "* Remember the regression algorithm is supposed to minimize MSE.\n",
    "* Observe that MSE is a function only of the predicted and actual $y$ values\n",
    "* Observe that scikit-learn makes it easy to compute these metrics\n",
    "* Observe that adding the more variables makes MSE decrease.  Good!"
   ]
  },
  {
   "cell_type": "code",
   "execution_count": 26,
   "metadata": {},
   "outputs": [
    {
     "name": "stdout",
     "output_type": "stream",
     "text": [
      "27705.2238053288\n",
      "24881.290399662896\n"
     ]
    }
   ],
   "source": [
    "from sklearn.metrics import mean_squared_error\n",
    "print(mean_squared_error(y1, lr1.predict(X1)))\n",
    "print(mean_squared_error(y2, lr2.predict(X2)))"
   ]
  },
  {
   "cell_type": "markdown",
   "metadata": {},
   "source": [
    "####  A Quick Diversion:  MSE vs R-Squared\n",
    "\n",
    "We are minimizing MSE, but MSE is sensitive to magnitudes of the X variables.\n",
    "If we were to change our X values, it can change the MSE\n",
    "\n",
    "  * Temperature in F instead of C\n",
    "  * Multiplying 'sunspot activity' by 10\n",
    "  \n",
    "This intuitively doesn't affect the quality of the model.\n",
    "\n",
    "Instead of MSE we use $R^2$ (R-squared) which normalizes for X magnitude\n",
    "  * $R^2$ guaranteed to be $\\leq$ 1\n",
    "  * Values close to 1 are better\n",
    "  * Value of 0 means model is no better than ignoring $X$ completely and predicting a $y$ value equal to the mean\n",
    "  * Negative value means the model is *worse* than predicting at the mean\n"
   ]
  },
  {
   "cell_type": "code",
   "execution_count": 27,
   "metadata": {},
   "outputs": [
    {
     "name": "stdout",
     "output_type": "stream",
     "text": [
      "0.0\n"
     ]
    }
   ],
   "source": [
    "#  Proof that R^2 is 0 if we predict at the mean!\n",
    "#  Notice that model evaluation works the same for any metric.\n",
    "\n",
    "from sklearn.metrics import r2_score\n",
    "mean = y2.mean()\n",
    "ynull = np.full((len(y2),1), mean)\n",
    "print(r2_score(y2, ynull))"
   ]
  },
  {
   "cell_type": "code",
   "execution_count": 28,
   "metadata": {},
   "outputs": [
    {
     "name": "stdout",
     "output_type": "stream",
     "text": [
      "0.15559367802794855\n",
      "0.2416621840009524\n"
     ]
    }
   ],
   "source": [
    "#  Compare our two models\n",
    "from sklearn.metrics import r2_score\n",
    "print(r2_score(y1, lr1.predict(X1)))\n",
    "print(r2_score(y2, lr2.predict(X2)))"
   ]
  },
  {
   "cell_type": "markdown",
   "metadata": {},
   "source": [
    "#### Standard Regression Output\n",
    "\n",
    "The **statsmodel** package gives more information about the regression."
   ]
  },
  {
   "cell_type": "code",
   "execution_count": 29,
   "metadata": {},
   "outputs": [
    {
     "name": "stdout",
     "output_type": "stream",
     "text": [
      "                            OLS Regression Results                            \n",
      "==============================================================================\n",
      "Dep. Variable:          total_rentals   R-squared:                       0.242\n",
      "Model:                            OLS   Adj. R-squared:                  0.241\n",
      "Method:                 Least Squares   F-statistic:                     577.8\n",
      "Date:                Mon, 25 Nov 2019   Prob (F-statistic):               0.00\n",
      "Time:                        17:13:08   Log-Likelihood:                -70540.\n",
      "No. Observations:               10886   AIC:                         1.411e+05\n",
      "Df Residuals:                   10879   BIC:                         1.411e+05\n",
      "Df Model:                           6                                         \n",
      "Covariance Type:            nonrobust                                         \n",
      "==============================================================================\n",
      "                 coef    std err          t      P>|t|      [0.025      0.975]\n",
      "------------------------------------------------------------------------------\n",
      "const        180.9643      8.471     21.363      0.000     164.360     197.569\n",
      "workingday    -1.3505      3.249     -0.416      0.678      -7.719       5.018\n",
      "weather        3.0947      2.648      1.169      0.242      -2.095       8.285\n",
      "temp           8.7489      0.195     44.904      0.000       8.367       9.131\n",
      "humidity      -2.7567      0.092    -29.947      0.000      -2.937      -2.576\n",
      "windspeed      0.3262      0.198      1.647      0.100      -0.062       0.714\n",
      "sunspots      -3.4373      1.853     -1.855      0.064      -7.070       0.195\n",
      "==============================================================================\n",
      "Omnibus:                     2155.888   Durbin-Watson:                   0.418\n",
      "Prob(Omnibus):                  0.000   Jarque-Bera (JB):             4162.251\n",
      "Skew:                           1.210   Prob(JB):                         0.00\n",
      "Kurtosis:                       4.823   Cond. No.                         387.\n",
      "==============================================================================\n",
      "\n",
      "Warnings:\n",
      "[1] Standard Errors assume that the covariance matrix of the errors is correctly specified.\n"
     ]
    }
   ],
   "source": [
    "import statsmodels.api as sm\n",
    "# We can fit a line with or without an intercept.  Default for scikit-learn is to \n",
    "# fit an intercept.  Default for statsmodel is not to fit an intercept.\n",
    "\n",
    "X2C = sm.add_constant(X2)\n",
    "results = sm.OLS(y2, X2C).fit()\n",
    "print(results.summary())"
   ]
  },
  {
   "cell_type": "markdown",
   "metadata": {},
   "source": [
    "#####  Things of interest in the report\n",
    "\n",
    "* $R^2$ (same)\n",
    "* Adjusted $R^2$\n",
    "  * Adding new variables to a model *always* makes $R^2$ decrease\n",
    "  * But adding a new variable isn't always a good thing (adding a random $X$ attribute doesn't improve the model)\n",
    "  * So Adjusted $R^2$ incorporates a penalty for number of variables\n",
    "  * So we can compare two models on the same training set, one has more variables than the other\n",
    "* F Statistic\n",
    "  * Tests the hypothesis that all coefficients are = 0\n",
    "  * If they are, the model has no predictive power i.e. it's useless\n",
    "     * If it happens, you did something seriously wrong\n",
    "     * In this case there is 0 probability that this model is useless\n",
    "* T Statistics on the intercept and slopes\n",
    "  * Tests the hypothesis that the variable's coefficient is 0\n",
    "     * If it is, that particular variable is not contributing to the regression\n",
    "  * The p statistic is a the probability that the coefficient is 0\n",
    "     * So the intercept and temp and humidity are probably useful\n",
    "     * Working day and weather are probably not useful\n",
    "     * Windspeed and sunspots might or not be useful\n",
    "  * The confidence intervals tell you the same thing\n",
    "     * If the confidence interval on a coefficient does not contain 0, then there's at least a 95% chance that the true coefficient is different from 0 (i.e useful for prediction purposes)\n",
    "     \n",
    "##### Summary\n",
    "\n",
    "* So far we have used only numeric attributes\n",
    "* Our $R^2$ is not impressive\n",
    "* We could eliminate several variables from the model with hurting its \"quality\"\n",
    "  * Quality defined by $R^2$\n"
   ]
  },
  {
   "cell_type": "markdown",
   "metadata": {},
   "source": [
    "###  Revisit Our Attributes\n",
    "\n",
    "* 'rental_hour' a timestamp  -- OUT\n",
    "* 'season'  a string (four values)  -- OUT\n",
    "* 'workingday' a 0-1 boolean -- IN\n",
    "* 'weather' ranges from 1 to 4 -- IN\n",
    "* 'temp' real-valued -- IN\n",
    "* 'humidity' real-valued -- IN\n",
    "* 'windspeed' real-valued -- IN\n",
    "* 'sunspots'  0 to 2 from \"none\" to \"high\" -- IN\n",
    "\n",
    "Remember \n",
    "  * Regression assigns a coefficient to each $x_i$\n",
    "  * The coefficient $\\beta_i$ means \"if I increase (decrease) $x_i$ by 1 unit, I expect $y$ to increase (decrease) by $\\beta_i$ units\n",
    "  \n",
    "For which of these variables does this make sense?"
   ]
  },
  {
   "cell_type": "markdown",
   "metadata": {},
   "source": [
    "### Numeric vs Categorical Variables\n",
    "\n",
    "*  Numeric $x$\n",
    "  *  It make sense to think about $x+1$ or even $x \\div 2$\n",
    "    * This is a property of the data.  For example, wind speed\n",
    "  *  It always must be the case the $x$ increasing has the same effect on $y$\n",
    "    * This is a property of the linear model.  For example, if we see a unit increase in windspeed, we predict an increase of 3.26 number of rentals, all other variables being equal\n",
    "  \n",
    "* Categorical $x$\n",
    "  *  Selected from a (usually) small set of values\n",
    "    *  \\{ red, white, blue \\}\n",
    "    * \\{ true, false \\} \n",
    "  * It doesn't make sense to say \"halfway between red and white\"\n",
    "  * It doesn't make sense to say that the change from red to white will have the same effect as the change from white to blue\n",
    "    \n",
    "***NOTICE:  Just because your data frame has something coded as an integer doesn't make it numeric!!***\n",
    "***NOTICE:  If a variable is categorical, it can't stay in the model as is!!***\n",
    "\n",
    "#####  Is our Y variable categorical or is it numeric?  Must it be one or the other always??\n",
    "\n",
    "Which of our X variables are numeric, and which are categorical?\n"
   ]
  },
  {
   "cell_type": "code",
   "execution_count": null,
   "metadata": {},
   "outputs": [],
   "source": [
    "bikes.info()"
   ]
  },
  {
   "cell_type": "markdown",
   "metadata": {},
   "source": [
    "#### Dealing With the Categorical Variables\n",
    "\n",
    "* season -- string (four values)\n",
    "* workingday -- 0/1\n",
    "* weather (1-4)\n",
    "* sunspots (0-2)"
   ]
  },
  {
   "cell_type": "markdown",
   "metadata": {},
   "source": [
    "##### Work on season first;  make it a number, then decide what to do next"
   ]
  },
  {
   "cell_type": "code",
   "execution_count": 30,
   "metadata": {},
   "outputs": [
    {
     "data": {
      "text/plain": [
       "fall      2734\n",
       "summer    2733\n",
       "spring    2733\n",
       "winter    2686\n",
       "Name: season, dtype: int64"
      ]
     },
     "execution_count": 30,
     "metadata": {},
     "output_type": "execute_result"
    }
   ],
   "source": [
    "bikes['season'].value_counts()"
   ]
  },
  {
   "cell_type": "code",
   "execution_count": 31,
   "metadata": {},
   "outputs": [],
   "source": [
    "bikes['season'] = bikes.season.replace({'fall': 0, 'summer': 1, 'spring': 2, 'winter': 3})"
   ]
  },
  {
   "cell_type": "code",
   "execution_count": 32,
   "metadata": {},
   "outputs": [
    {
     "name": "stdout",
     "output_type": "stream",
     "text": [
      "<class 'pandas.core.frame.DataFrame'>\n",
      "RangeIndex: 10886 entries, 0 to 10885\n",
      "Data columns (total 9 columns):\n",
      "rental_hour      10886 non-null datetime64[ns]\n",
      "season           10886 non-null int64\n",
      "workingday       10886 non-null int64\n",
      "weather          10886 non-null int64\n",
      "temp             10886 non-null float64\n",
      "humidity         10886 non-null int64\n",
      "windspeed        10886 non-null float64\n",
      "total_rentals    10886 non-null int64\n",
      "sunspots         10886 non-null int64\n",
      "dtypes: datetime64[ns](1), float64(2), int64(6)\n",
      "memory usage: 765.5 KB\n"
     ]
    }
   ],
   "source": [
    "bikes.info()"
   ]
  },
  {
   "cell_type": "code",
   "execution_count": 33,
   "metadata": {},
   "outputs": [
    {
     "data": {
      "text/plain": [
       "0    2734\n",
       "2    2733\n",
       "1    2733\n",
       "3    2686\n",
       "Name: season, dtype: int64"
      ]
     },
     "execution_count": 33,
     "metadata": {},
     "output_type": "execute_result"
    }
   ],
   "source": [
    "bikes.season.value_counts()"
   ]
  },
  {
   "cell_type": "markdown",
   "metadata": {},
   "source": [
    "##### Dummy Variables\n",
    "\n",
    "The problem is we don't want to talk about the effect of fall to summer the same as the effect of summer to summer to spring, and spring to winter in terms of their effects on number of rentals.  Instead we would like to talk about the \"summer effect\" separate from the \"winter effect\" etc.\n",
    "\n",
    "* I have a categorical variable that takes on $n$ values\n",
    "* Since it's categorical, the difference between 3 and 4 is not the same as the difference between 1 and 2\n",
    "* All I want to say is that it has to take on exactly one of the $n$ values\n",
    "* So for season we create 4 new variables, each of which is either 0 or 1\n"
   ]
  },
  {
   "cell_type": "code",
   "execution_count": 34,
   "metadata": {},
   "outputs": [],
   "source": [
    "season_dummies = pd.get_dummies(bikes.season, prefix='season')"
   ]
  },
  {
   "cell_type": "code",
   "execution_count": 35,
   "metadata": {},
   "outputs": [
    {
     "data": {
      "text/html": [
       "<div>\n",
       "<style scoped>\n",
       "    .dataframe tbody tr th:only-of-type {\n",
       "        vertical-align: middle;\n",
       "    }\n",
       "\n",
       "    .dataframe tbody tr th {\n",
       "        vertical-align: top;\n",
       "    }\n",
       "\n",
       "    .dataframe thead th {\n",
       "        text-align: right;\n",
       "    }\n",
       "</style>\n",
       "<table border=\"1\" class=\"dataframe\">\n",
       "  <thead>\n",
       "    <tr style=\"text-align: right;\">\n",
       "      <th></th>\n",
       "      <th>season_0</th>\n",
       "      <th>season_1</th>\n",
       "      <th>season_2</th>\n",
       "      <th>season_3</th>\n",
       "    </tr>\n",
       "  </thead>\n",
       "  <tbody>\n",
       "    <tr>\n",
       "      <th>7594</th>\n",
       "      <td>0</td>\n",
       "      <td>0</td>\n",
       "      <td>1</td>\n",
       "      <td>0</td>\n",
       "    </tr>\n",
       "    <tr>\n",
       "      <th>5741</th>\n",
       "      <td>0</td>\n",
       "      <td>0</td>\n",
       "      <td>0</td>\n",
       "      <td>1</td>\n",
       "    </tr>\n",
       "    <tr>\n",
       "      <th>5958</th>\n",
       "      <td>0</td>\n",
       "      <td>0</td>\n",
       "      <td>0</td>\n",
       "      <td>1</td>\n",
       "    </tr>\n",
       "    <tr>\n",
       "      <th>7521</th>\n",
       "      <td>0</td>\n",
       "      <td>0</td>\n",
       "      <td>1</td>\n",
       "      <td>0</td>\n",
       "    </tr>\n",
       "    <tr>\n",
       "      <th>5870</th>\n",
       "      <td>0</td>\n",
       "      <td>0</td>\n",
       "      <td>0</td>\n",
       "      <td>1</td>\n",
       "    </tr>\n",
       "  </tbody>\n",
       "</table>\n",
       "</div>"
      ],
      "text/plain": [
       "      season_0  season_1  season_2  season_3\n",
       "7594         0         0         1         0\n",
       "5741         0         0         0         1\n",
       "5958         0         0         0         1\n",
       "7521         0         0         1         0\n",
       "5870         0         0         0         1"
      ]
     },
     "execution_count": 35,
     "metadata": {},
     "output_type": "execute_result"
    }
   ],
   "source": [
    "season_dummies.sample(n=5)"
   ]
  },
  {
   "cell_type": "code",
   "execution_count": 37,
   "metadata": {},
   "outputs": [],
   "source": [
    "# And we replace the categorical variable in the data frame with the dummies.\n",
    "#  BE SURE TO DROP THE ORIGINAL VARIABLE!!!!\n",
    "\n",
    "bikes = pd.concat([bikes, season_dummies], axis=1)\n",
    "bikes.drop(['season'], axis=1, inplace=True)"
   ]
  },
  {
   "cell_type": "code",
   "execution_count": 38,
   "metadata": {},
   "outputs": [
    {
     "data": {
      "text/html": [
       "<div>\n",
       "<style scoped>\n",
       "    .dataframe tbody tr th:only-of-type {\n",
       "        vertical-align: middle;\n",
       "    }\n",
       "\n",
       "    .dataframe tbody tr th {\n",
       "        vertical-align: top;\n",
       "    }\n",
       "\n",
       "    .dataframe thead th {\n",
       "        text-align: right;\n",
       "    }\n",
       "</style>\n",
       "<table border=\"1\" class=\"dataframe\">\n",
       "  <thead>\n",
       "    <tr style=\"text-align: right;\">\n",
       "      <th></th>\n",
       "      <th>rental_hour</th>\n",
       "      <th>workingday</th>\n",
       "      <th>weather</th>\n",
       "      <th>temp</th>\n",
       "      <th>humidity</th>\n",
       "      <th>windspeed</th>\n",
       "      <th>total_rentals</th>\n",
       "      <th>sunspots</th>\n",
       "      <th>season_0</th>\n",
       "      <th>season_1</th>\n",
       "      <th>season_2</th>\n",
       "      <th>season_3</th>\n",
       "    </tr>\n",
       "  </thead>\n",
       "  <tbody>\n",
       "    <tr>\n",
       "      <th>0</th>\n",
       "      <td>2011-01-01 00:00:00</td>\n",
       "      <td>0</td>\n",
       "      <td>1</td>\n",
       "      <td>9.84</td>\n",
       "      <td>81</td>\n",
       "      <td>0.0</td>\n",
       "      <td>16</td>\n",
       "      <td>0</td>\n",
       "      <td>0</td>\n",
       "      <td>0</td>\n",
       "      <td>0</td>\n",
       "      <td>1</td>\n",
       "    </tr>\n",
       "    <tr>\n",
       "      <th>1</th>\n",
       "      <td>2011-01-01 01:00:00</td>\n",
       "      <td>0</td>\n",
       "      <td>1</td>\n",
       "      <td>9.02</td>\n",
       "      <td>80</td>\n",
       "      <td>0.0</td>\n",
       "      <td>40</td>\n",
       "      <td>1</td>\n",
       "      <td>0</td>\n",
       "      <td>0</td>\n",
       "      <td>0</td>\n",
       "      <td>1</td>\n",
       "    </tr>\n",
       "    <tr>\n",
       "      <th>2</th>\n",
       "      <td>2011-01-01 02:00:00</td>\n",
       "      <td>0</td>\n",
       "      <td>1</td>\n",
       "      <td>9.02</td>\n",
       "      <td>80</td>\n",
       "      <td>0.0</td>\n",
       "      <td>32</td>\n",
       "      <td>1</td>\n",
       "      <td>0</td>\n",
       "      <td>0</td>\n",
       "      <td>0</td>\n",
       "      <td>1</td>\n",
       "    </tr>\n",
       "    <tr>\n",
       "      <th>3</th>\n",
       "      <td>2011-01-01 03:00:00</td>\n",
       "      <td>0</td>\n",
       "      <td>1</td>\n",
       "      <td>9.84</td>\n",
       "      <td>75</td>\n",
       "      <td>0.0</td>\n",
       "      <td>13</td>\n",
       "      <td>0</td>\n",
       "      <td>0</td>\n",
       "      <td>0</td>\n",
       "      <td>0</td>\n",
       "      <td>1</td>\n",
       "    </tr>\n",
       "    <tr>\n",
       "      <th>4</th>\n",
       "      <td>2011-01-01 04:00:00</td>\n",
       "      <td>0</td>\n",
       "      <td>1</td>\n",
       "      <td>9.84</td>\n",
       "      <td>75</td>\n",
       "      <td>0.0</td>\n",
       "      <td>1</td>\n",
       "      <td>1</td>\n",
       "      <td>0</td>\n",
       "      <td>0</td>\n",
       "      <td>0</td>\n",
       "      <td>1</td>\n",
       "    </tr>\n",
       "  </tbody>\n",
       "</table>\n",
       "</div>"
      ],
      "text/plain": [
       "          rental_hour  workingday  weather  temp  humidity  windspeed  \\\n",
       "0 2011-01-01 00:00:00           0        1  9.84        81        0.0   \n",
       "1 2011-01-01 01:00:00           0        1  9.02        80        0.0   \n",
       "2 2011-01-01 02:00:00           0        1  9.02        80        0.0   \n",
       "3 2011-01-01 03:00:00           0        1  9.84        75        0.0   \n",
       "4 2011-01-01 04:00:00           0        1  9.84        75        0.0   \n",
       "\n",
       "   total_rentals  sunspots  season_0  season_1  season_2  season_3  \n",
       "0             16         0         0         0         0         1  \n",
       "1             40         1         0         0         0         1  \n",
       "2             32         1         0         0         0         1  \n",
       "3             13         0         0         0         0         1  \n",
       "4              1         1         0         0         0         1  "
      ]
     },
     "execution_count": 38,
     "metadata": {},
     "output_type": "execute_result"
    }
   ],
   "source": [
    "bikes.head(5)"
   ]
  },
  {
   "cell_type": "markdown",
   "metadata": {},
   "source": [
    "<span style=\"color:blue; font-size:120%\">\n",
    "\n",
    "* What about workingday?  (it's kind of categorical)\n",
    "* What about weather (it's kind of categorical)\n",
    "* What about sunspots (it's kind of categorical)\n",
    "\n",
    "</span>"
   ]
  },
  {
   "cell_type": "markdown",
   "metadata": {},
   "source": [
    "#### Dealing with rental_hour (the timestamp)\n",
    "\n",
    "* Rental hour is the hour at which the $y$ variable was measured\n",
    "* It is strictly increasing over time\n",
    "  * Is that like an index or row number?   And if so do we keep it?\n",
    "  * Another question:  is there simply a time effect (business is expanding over time, independent of other factors)\n",
    "* There certainly should be time effects (i.e. attributes that depend only on time / rental_hour)\n",
    "  * workingday is a time effect\n",
    "  * others?\n",
    "  \n",
    "Our job is \n",
    "* Figure out what is interesting about the timestamp information\n",
    "* Transform it into one or more *numeric* variables that can be added "
   ]
  },
  {
   "cell_type": "markdown",
   "metadata": {},
   "source": [
    "##### Transformations on the timestamp\n",
    "\n",
    "* The concept of \"regular working hour\" must be significant!\n",
    "* The number of hours since opening might be significant if there is a general trend toward rentals increasing separate from any other effect in the data set\n"
   ]
  },
  {
   "cell_type": "code",
   "execution_count": 39,
   "metadata": {},
   "outputs": [
    {
     "data": {
      "text/plain": [
       "Timestamp('2011-01-01 00:00:00')"
      ]
     },
     "execution_count": 39,
     "metadata": {},
     "output_type": "execute_result"
    }
   ],
   "source": [
    "bikes.rental_hour[0]"
   ]
  },
  {
   "cell_type": "code",
   "execution_count": 40,
   "metadata": {},
   "outputs": [
    {
     "data": {
      "text/plain": [
       "(0, 23)"
      ]
     },
     "execution_count": 40,
     "metadata": {},
     "output_type": "execute_result"
    }
   ],
   "source": [
    "# Verify that the hour attribute is actually hour of the day\n",
    "(bikes.rental_hour.map(lambda t: t.hour).min(), bikes.rental_hour.map(lambda t: t.hour).max())"
   ]
  },
  {
   "cell_type": "code",
   "execution_count": 41,
   "metadata": {},
   "outputs": [],
   "source": [
    "daytime = bikes.rental_hour.apply(lambda t: t.hour > 8 and t.hour < 18).replace({False: 0, True:1})"
   ]
  },
  {
   "cell_type": "code",
   "execution_count": 42,
   "metadata": {},
   "outputs": [],
   "source": [
    "bikes['daytime'] = daytime"
   ]
  },
  {
   "cell_type": "code",
   "execution_count": 43,
   "metadata": {},
   "outputs": [],
   "source": [
    "bikes['hours_since_open'] = range(0, bikes.shape[0])"
   ]
  },
  {
   "cell_type": "code",
   "execution_count": 44,
   "metadata": {},
   "outputs": [],
   "source": [
    "bikes.drop(['rental_hour'], axis=1, inplace=True)"
   ]
  },
  {
   "cell_type": "code",
   "execution_count": 45,
   "metadata": {},
   "outputs": [
    {
     "data": {
      "text/html": [
       "<div>\n",
       "<style scoped>\n",
       "    .dataframe tbody tr th:only-of-type {\n",
       "        vertical-align: middle;\n",
       "    }\n",
       "\n",
       "    .dataframe tbody tr th {\n",
       "        vertical-align: top;\n",
       "    }\n",
       "\n",
       "    .dataframe thead th {\n",
       "        text-align: right;\n",
       "    }\n",
       "</style>\n",
       "<table border=\"1\" class=\"dataframe\">\n",
       "  <thead>\n",
       "    <tr style=\"text-align: right;\">\n",
       "      <th></th>\n",
       "      <th>workingday</th>\n",
       "      <th>weather</th>\n",
       "      <th>temp</th>\n",
       "      <th>humidity</th>\n",
       "      <th>windspeed</th>\n",
       "      <th>total_rentals</th>\n",
       "      <th>sunspots</th>\n",
       "      <th>season_0</th>\n",
       "      <th>season_1</th>\n",
       "      <th>season_2</th>\n",
       "      <th>season_3</th>\n",
       "      <th>daytime</th>\n",
       "      <th>hours_since_open</th>\n",
       "    </tr>\n",
       "  </thead>\n",
       "  <tbody>\n",
       "    <tr>\n",
       "      <th>0</th>\n",
       "      <td>0</td>\n",
       "      <td>1</td>\n",
       "      <td>9.84</td>\n",
       "      <td>81</td>\n",
       "      <td>0.0</td>\n",
       "      <td>16</td>\n",
       "      <td>0</td>\n",
       "      <td>0</td>\n",
       "      <td>0</td>\n",
       "      <td>0</td>\n",
       "      <td>1</td>\n",
       "      <td>0</td>\n",
       "      <td>0</td>\n",
       "    </tr>\n",
       "    <tr>\n",
       "      <th>1</th>\n",
       "      <td>0</td>\n",
       "      <td>1</td>\n",
       "      <td>9.02</td>\n",
       "      <td>80</td>\n",
       "      <td>0.0</td>\n",
       "      <td>40</td>\n",
       "      <td>1</td>\n",
       "      <td>0</td>\n",
       "      <td>0</td>\n",
       "      <td>0</td>\n",
       "      <td>1</td>\n",
       "      <td>0</td>\n",
       "      <td>1</td>\n",
       "    </tr>\n",
       "    <tr>\n",
       "      <th>2</th>\n",
       "      <td>0</td>\n",
       "      <td>1</td>\n",
       "      <td>9.02</td>\n",
       "      <td>80</td>\n",
       "      <td>0.0</td>\n",
       "      <td>32</td>\n",
       "      <td>1</td>\n",
       "      <td>0</td>\n",
       "      <td>0</td>\n",
       "      <td>0</td>\n",
       "      <td>1</td>\n",
       "      <td>0</td>\n",
       "      <td>2</td>\n",
       "    </tr>\n",
       "    <tr>\n",
       "      <th>3</th>\n",
       "      <td>0</td>\n",
       "      <td>1</td>\n",
       "      <td>9.84</td>\n",
       "      <td>75</td>\n",
       "      <td>0.0</td>\n",
       "      <td>13</td>\n",
       "      <td>0</td>\n",
       "      <td>0</td>\n",
       "      <td>0</td>\n",
       "      <td>0</td>\n",
       "      <td>1</td>\n",
       "      <td>0</td>\n",
       "      <td>3</td>\n",
       "    </tr>\n",
       "    <tr>\n",
       "      <th>4</th>\n",
       "      <td>0</td>\n",
       "      <td>1</td>\n",
       "      <td>9.84</td>\n",
       "      <td>75</td>\n",
       "      <td>0.0</td>\n",
       "      <td>1</td>\n",
       "      <td>1</td>\n",
       "      <td>0</td>\n",
       "      <td>0</td>\n",
       "      <td>0</td>\n",
       "      <td>1</td>\n",
       "      <td>0</td>\n",
       "      <td>4</td>\n",
       "    </tr>\n",
       "  </tbody>\n",
       "</table>\n",
       "</div>"
      ],
      "text/plain": [
       "   workingday  weather  temp  humidity  windspeed  total_rentals  sunspots  \\\n",
       "0           0        1  9.84        81        0.0             16         0   \n",
       "1           0        1  9.02        80        0.0             40         1   \n",
       "2           0        1  9.02        80        0.0             32         1   \n",
       "3           0        1  9.84        75        0.0             13         0   \n",
       "4           0        1  9.84        75        0.0              1         1   \n",
       "\n",
       "   season_0  season_1  season_2  season_3  daytime  hours_since_open  \n",
       "0         0         0         0         1        0                 0  \n",
       "1         0         0         0         1        0                 1  \n",
       "2         0         0         0         1        0                 2  \n",
       "3         0         0         0         1        0                 3  \n",
       "4         0         0         0         1        0                 4  "
      ]
     },
     "execution_count": 45,
     "metadata": {},
     "output_type": "execute_result"
    }
   ],
   "source": [
    "bikes.head(5)"
   ]
  },
  {
   "cell_type": "markdown",
   "metadata": {},
   "source": [
    "###  New Variables!\n",
    "* Dummies for the season\n",
    "* Working day (boolean)\n",
    "* Hours since opening"
   ]
  },
  {
   "cell_type": "code",
   "execution_count": 46,
   "metadata": {},
   "outputs": [
    {
     "data": {
      "text/plain": [
       "Index(['workingday', 'weather', 'temp', 'humidity', 'windspeed',\n",
       "       'total_rentals', 'sunspots', 'season_0', 'season_1', 'season_2',\n",
       "       'season_3', 'daytime', 'hours_since_open'],\n",
       "      dtype='object')"
      ]
     },
     "execution_count": 46,
     "metadata": {},
     "output_type": "execute_result"
    }
   ],
   "source": [
    "bikes.columns"
   ]
  },
  {
   "cell_type": "code",
   "execution_count": 48,
   "metadata": {},
   "outputs": [],
   "source": [
    "feature_cols3 = list(bikes.columns)\n",
    "feature_cols3.remove('total_rentals')\n",
    "X3 = bikes[feature_cols3]\n",
    "y3 = bikes.total_rentals"
   ]
  },
  {
   "cell_type": "code",
   "execution_count": 49,
   "metadata": {},
   "outputs": [
    {
     "data": {
      "text/plain": [
       "['workingday',\n",
       " 'weather',\n",
       " 'temp',\n",
       " 'humidity',\n",
       " 'windspeed',\n",
       " 'sunspots',\n",
       " 'season_0',\n",
       " 'season_1',\n",
       " 'season_2',\n",
       " 'season_3',\n",
       " 'daytime',\n",
       " 'hours_since_open']"
      ]
     },
     "execution_count": 49,
     "metadata": {},
     "output_type": "execute_result"
    }
   ],
   "source": [
    "feature_cols3"
   ]
  },
  {
   "cell_type": "code",
   "execution_count": 50,
   "metadata": {},
   "outputs": [
    {
     "name": "stdout",
     "output_type": "stream",
     "text": [
      "                            OLS Regression Results                            \n",
      "==============================================================================\n",
      "Dep. Variable:          total_rentals   R-squared:                       0.348\n",
      "Model:                            OLS   Adj. R-squared:                  0.347\n",
      "Method:                 Least Squares   F-statistic:                     526.9\n",
      "Date:                Mon, 25 Nov 2019   Prob (F-statistic):               0.00\n",
      "Time:                        17:29:02   Log-Likelihood:                -69720.\n",
      "No. Observations:               10886   AIC:                         1.395e+05\n",
      "Df Residuals:                   10874   BIC:                         1.396e+05\n",
      "Df Model:                          11                                         \n",
      "Covariance Type:            nonrobust                                         \n",
      "====================================================================================\n",
      "                       coef    std err          t      P>|t|      [0.025      0.975]\n",
      "------------------------------------------------------------------------------------\n",
      "const               35.2552      8.050      4.380      0.000      19.476      51.034\n",
      "workingday          -0.6046      3.017     -0.200      0.841      -6.518       5.308\n",
      "weather             -7.4443      2.502     -2.976      0.003     -12.348      -2.541\n",
      "temp                 8.8229      0.313     28.219      0.000       8.210       9.436\n",
      "humidity            -2.0573      0.093    -22.065      0.000      -2.240      -1.875\n",
      "windspeed            0.3501      0.185      1.890      0.059      -0.013       0.713\n",
      "sunspots            -3.4336      1.719     -1.997      0.046      -6.804      -0.063\n",
      "season_0            27.2924      3.397      8.035      0.000      20.634      33.951\n",
      "season_1           -28.9752      4.962     -5.839      0.000     -38.702     -19.248\n",
      "season_2            17.8504      3.527      5.061      0.000      10.937      24.764\n",
      "season_3            19.0876      3.013      6.335      0.000      13.181      24.994\n",
      "daytime             67.9608      3.235     21.005      0.000      61.619      74.303\n",
      "hours_since_open     0.0148      0.001     28.849      0.000       0.014       0.016\n",
      "==============================================================================\n",
      "Omnibus:                     2134.513   Durbin-Watson:                   0.534\n",
      "Prob(Omnibus):                  0.000   Jarque-Bera (JB):             4087.602\n",
      "Skew:                           1.203   Prob(JB):                         0.00\n",
      "Kurtosis:                       4.796   Cond. No.                     4.49e+17\n",
      "==============================================================================\n",
      "\n",
      "Warnings:\n",
      "[1] Standard Errors assume that the covariance matrix of the errors is correctly specified.\n",
      "[2] The smallest eigenvalue is 2.13e-24. This might indicate that there are\n",
      "strong multicollinearity problems or that the design matrix is singular.\n"
     ]
    }
   ],
   "source": [
    "X3C = sm.add_constant(X3)\n",
    "results = sm.OLS(y3, X3C).fit()\n",
    "print(results.summary())"
   ]
  },
  {
   "cell_type": "markdown",
   "metadata": {},
   "source": [
    "#####  Observations\n",
    "* Model got a little better!\n",
    "* Workingday had no effect!\n",
    "* Hours since open had a significant but small positive effect\n",
    "* How do we interpret coefficients of the season dummies?\n",
    "  * winter, spring, summer, fall\n",
    "\n"
   ]
  },
  {
   "cell_type": "code",
   "execution_count": 60,
   "metadata": {},
   "outputs": [
    {
     "ename": "NameError",
     "evalue": "name 'feature_col4' is not defined",
     "output_type": "error",
     "traceback": [
      "\u001b[1;31m---------------------------------------------------------------------------\u001b[0m",
      "\u001b[1;31mNameError\u001b[0m                                 Traceback (most recent call last)",
      "\u001b[1;32m<ipython-input-60-fa412c8a0e55>\u001b[0m in \u001b[0;36m<module>\u001b[1;34m()\u001b[0m\n\u001b[0;32m      3\u001b[0m \u001b[0mfeature_cols4\u001b[0m\u001b[1;33m.\u001b[0m\u001b[0mremove\u001b[0m\u001b[1;33m(\u001b[0m\u001b[1;34m'windspeed'\u001b[0m\u001b[1;33m)\u001b[0m\u001b[1;33m\u001b[0m\u001b[0m\n\u001b[0;32m      4\u001b[0m \u001b[0mfeature_cols4\u001b[0m\u001b[1;33m.\u001b[0m\u001b[0mremove\u001b[0m\u001b[1;33m(\u001b[0m\u001b[1;34m'sunspots'\u001b[0m\u001b[1;33m)\u001b[0m\u001b[1;33m\u001b[0m\u001b[0m\n\u001b[1;32m----> 5\u001b[1;33m \u001b[0mfeature_col4\u001b[0m\u001b[1;33m.\u001b[0m\u001b[0mremove\u001b[0m\u001b[1;33m(\u001b[0m\u001b[1;34m'total_rentals'\u001b[0m\u001b[1;33m)\u001b[0m\u001b[1;33m\u001b[0m\u001b[0m\n\u001b[0m\u001b[0;32m      6\u001b[0m \u001b[1;31m#  I'm deliberately leaving one out!\u001b[0m\u001b[1;33m\u001b[0m\u001b[1;33m\u001b[0m\u001b[0m\n",
      "\u001b[1;31mNameError\u001b[0m: name 'feature_col4' is not defined"
     ]
    }
   ],
   "source": [
    "feature_cols4 = list(bikes.columns)\n",
    "feature_cols4.remove('workingday')\n",
    "feature_cols4.remove('windspeed')\n",
    "feature_cols4.remove('sunspots')\n",
    "feature_col4.remove('total_rentals')\n",
    "#  I'm deliberately leaving one out!"
   ]
  },
  {
   "cell_type": "code",
   "execution_count": 62,
   "metadata": {},
   "outputs": [],
   "source": [
    "feature_cols4.remove('total_rentals')"
   ]
  },
  {
   "cell_type": "code",
   "execution_count": 64,
   "metadata": {},
   "outputs": [],
   "source": [
    "# get rid of workingday, \n",
    "X4 = bikes[feature_cols4]\n",
    "y4 = bikes.total_rentals"
   ]
  },
  {
   "cell_type": "code",
   "execution_count": 65,
   "metadata": {},
   "outputs": [
    {
     "name": "stdout",
     "output_type": "stream",
     "text": [
      "                            OLS Regression Results                            \n",
      "==============================================================================\n",
      "Dep. Variable:          total_rentals   R-squared:                       0.347\n",
      "Model:                            OLS   Adj. R-squared:                  0.347\n",
      "Method:                 Least Squares   F-statistic:                     723.2\n",
      "Date:                Mon, 25 Nov 2019   Prob (F-statistic):               0.00\n",
      "Time:                        17:40:38   Log-Likelihood:                -69724.\n",
      "No. Observations:               10886   AIC:                         1.395e+05\n",
      "Df Residuals:                   10877   BIC:                         1.395e+05\n",
      "Df Model:                           8                                         \n",
      "Covariance Type:            nonrobust                                         \n",
      "====================================================================================\n",
      "                       coef    std err          t      P>|t|      [0.025      0.975]\n",
      "------------------------------------------------------------------------------------\n",
      "const               37.3324      7.275      5.132      0.000      23.073      51.592\n",
      "weather             -6.7903      2.478     -2.740      0.006     -11.647      -1.933\n",
      "temp                 8.8302      0.312     28.272      0.000       8.218       9.442\n",
      "humidity            -2.1049      0.090    -23.509      0.000      -2.280      -1.929\n",
      "season_0            27.7775      3.297      8.425      0.000      21.314      34.241\n",
      "season_1           -28.7990      4.915     -5.860      0.000     -38.433     -19.165\n",
      "season_2            18.4604      3.407      5.419      0.000      11.783      25.138\n",
      "season_3            19.8935      2.829      7.033      0.000      14.349      25.438\n",
      "daytime             68.4659      3.225     21.229      0.000      62.144      74.788\n",
      "hours_since_open     0.0148      0.001     28.771      0.000       0.014       0.016\n",
      "==============================================================================\n",
      "Omnibus:                     2138.409   Durbin-Watson:                   0.534\n",
      "Prob(Omnibus):                  0.000   Jarque-Bera (JB):             4101.168\n",
      "Skew:                           1.204   Prob(JB):                         0.00\n",
      "Kurtosis:                       4.801   Cond. No.                     4.77e+17\n",
      "==============================================================================\n",
      "\n",
      "Warnings:\n",
      "[1] Standard Errors assume that the covariance matrix of the errors is correctly specified.\n",
      "[2] The smallest eigenvalue is 1.89e-24. This might indicate that there are\n",
      "strong multicollinearity problems or that the design matrix is singular.\n"
     ]
    }
   ],
   "source": [
    "X4C = sm.add_constant(X4)\n",
    "results = sm.OLS(y4, X4C).fit()\n",
    "print(results.summary())"
   ]
  },
  {
   "cell_type": "markdown",
   "metadata": {},
   "source": [
    "### Evaluating Models / Comparing Models\n",
    "---\n",
    "\n",
    "We can make linear models now, but how do we select the \"best\" model to use for our applications? \n",
    "\n",
    "These are three different questions:\n",
    "1.  How well does the model fit the observed data (training set)\n",
    "2.  How well will the model predict future observations\n",
    "3.  What is the best model for the business scenario (i.e. taking into account the reward for predicting correctly and the penalty for making an error).\n",
    "\n",
    "Accuracy on the training set may differ from accuracy when the model goes into production for two reasons\n",
    "1.  The training set was too small -- important features in the population didn't show up enough to be noticed\n",
    "2.  The model found spurious signal in the training set \"total sales is higher on days that begin with 'T'.\" (Overfitting)\n"
   ]
  },
  {
   "cell_type": "markdown",
   "metadata": {},
   "source": [
    "#### Training Accuracy vs Test Accuracy\n",
    "\n",
    "* We have been measuring *training accuracy* -- we have been evaluating the model on the training data\n",
    "* We are interested in *production accuracy* or *test accuracy* -- how well will the model work on a data set (X) it has not \"seen before\" -- i.e. that was not used for training\n",
    "* Training accuracy might or might not be a good measure of test accuracy\n",
    "  * How big is the training set\n",
    "  * How representative is the training set of test or production data?\n",
    "\n",
    "##### Train/Test Split\n",
    "\n",
    "* Split the data set into a training set and a test set (usually 75%/25%, but that is a real trade-off)\n",
    "* Use the training set only for training -- no evaluation\n",
    "* Use the test set only for evaluation -- no training\n"
   ]
  },
  {
   "cell_type": "code",
   "execution_count": 59,
   "metadata": {},
   "outputs": [
    {
     "data": {
      "text/plain": [
       "Index(['weather', 'temp', 'humidity', 'total_rentals', 'season_0', 'season_1',\n",
       "       'season_2', 'season_3', 'daytime', 'hours_since_open'],\n",
       "      dtype='object')"
      ]
     },
     "execution_count": 59,
     "metadata": {},
     "output_type": "execute_result"
    }
   ],
   "source": [
    "X4.columns"
   ]
  },
  {
   "cell_type": "code",
   "execution_count": 66,
   "metadata": {},
   "outputs": [],
   "source": [
    "from sklearn.model_selection import train_test_split\n",
    "X_train, X_test, y_train, y_test = train_test_split(X4, y4, train_size=0.75, test_size=0.25)"
   ]
  },
  {
   "cell_type": "code",
   "execution_count": 55,
   "metadata": {},
   "outputs": [
    {
     "data": {
      "text/plain": [
       "(8164, 10)"
      ]
     },
     "execution_count": 55,
     "metadata": {},
     "output_type": "execute_result"
    }
   ],
   "source": [
    "X_train.shape"
   ]
  },
  {
   "cell_type": "code",
   "execution_count": 56,
   "metadata": {},
   "outputs": [
    {
     "data": {
      "text/plain": [
       "(2722, 10)"
      ]
     },
     "execution_count": 56,
     "metadata": {},
     "output_type": "execute_result"
    }
   ],
   "source": [
    "X_test.shape"
   ]
  },
  {
   "cell_type": "code",
   "execution_count": 67,
   "metadata": {},
   "outputs": [
    {
     "data": {
      "text/plain": [
       "LinearRegression(copy_X=True, fit_intercept=True, n_jobs=1, normalize=False)"
      ]
     },
     "execution_count": 67,
     "metadata": {},
     "output_type": "execute_result"
    }
   ],
   "source": [
    "lr = LinearRegression()\n",
    "lr.fit(X_train, y_train)"
   ]
  },
  {
   "cell_type": "code",
   "execution_count": 68,
   "metadata": {},
   "outputs": [
    {
     "name": "stdout",
     "output_type": "stream",
     "text": [
      "Training error\n",
      "21318.21\n",
      "0.3473\n",
      "\n",
      "Test error\n",
      "21757.17\n",
      "0.3457\n"
     ]
    }
   ],
   "source": [
    "print(\"Training error\")\n",
    "print(round(mean_squared_error(y_train, lr.predict(X_train)), 2))\n",
    "print(round(r2_score(y_train, lr.predict(X_train)), 4))\n",
    "print(\"\")\n",
    "print(\"Test error\")\n",
    "print(round(mean_squared_error(y_test, lr.predict(X_test)), 2))\n",
    "print(round(r2_score(y_test, lr.predict(X_test)), 4))"
   ]
  },
  {
   "cell_type": "markdown",
   "metadata": {},
   "source": [
    "#### Even better -- cross validation!\n",
    "\n",
    "* A problem with train/test fit is that you lose some training data \n",
    "* Cross validation works like this (10-fold cross-validation)\n",
    "* Divide the training set into 10 pieces (test/train split)\n",
    "* For each piece\n",
    "  * Train and test on this split\n",
    "* Test accuracy is average accuracy over all the splits"
   ]
  },
  {
   "cell_type": "code",
   "execution_count": 69,
   "metadata": {},
   "outputs": [],
   "source": [
    "from sklearn.model_selection import cross_val_score\n",
    "lr = LinearRegression()\n",
    "scores = cross_val_score(lr, X4, y4, cv=10, scoring='neg_mean_squared_error')"
   ]
  },
  {
   "cell_type": "code",
   "execution_count": 70,
   "metadata": {},
   "outputs": [
    {
     "data": {
      "text/plain": [
       "array([ -7022.56929604, -11103.32750916, -19473.96496981, -15010.30709843,\n",
       "       -11554.08967607, -14043.45542322, -32130.58123428, -37927.08423448,\n",
       "       -43586.87350276, -27942.27827604])"
      ]
     },
     "execution_count": 70,
     "metadata": {},
     "output_type": "execute_result"
    }
   ],
   "source": [
    "scores"
   ]
  },
  {
   "cell_type": "code",
   "execution_count": 71,
   "metadata": {},
   "outputs": [
    {
     "name": "stdout",
     "output_type": "stream",
     "text": [
      "21979.45 11951.24\n"
     ]
    }
   ],
   "source": [
    "print(round(-scores.mean(), 2), round(scores.std(), 2))"
   ]
  },
  {
   "cell_type": "code",
   "execution_count": 72,
   "metadata": {},
   "outputs": [
    {
     "name": "stdout",
     "output_type": "stream",
     "text": [
      "39352.38 5227.66\n",
      "22558.24 10071.94\n",
      "21979.45 11951.24\n",
      "21581.65 13048.27\n",
      "21578.08 17785.66\n",
      "22457.97 38127.32\n",
      "22754.55 43228.4\n"
     ]
    }
   ],
   "source": [
    "for folds in (2, 3, 10, 100, 1000, 5000, 10000):\n",
    "    scores = cross_val_score(lr, X4, y4, cv=folds, scoring='neg_mean_squared_error')\n",
    "    print(round(-scores.mean(), 2), round(scores.std(), 2))"
   ]
  },
  {
   "cell_type": "code",
   "execution_count": null,
   "metadata": {},
   "outputs": [],
   "source": []
  }
 ],
 "metadata": {
  "kernelspec": {
   "display_name": "Python 3",
   "language": "python",
   "name": "python3"
  },
  "language_info": {
   "codemirror_mode": {
    "name": "ipython",
    "version": 3
   },
   "file_extension": ".py",
   "mimetype": "text/x-python",
   "name": "python",
   "nbconvert_exporter": "python",
   "pygments_lexer": "ipython3",
   "version": "3.7.0"
  }
 },
 "nbformat": 4,
 "nbformat_minor": 1
}
