{
 "cells": [
  {
   "cell_type": "markdown",
   "metadata": {},
   "source": [
    "### Linear Regression\n",
    "\n",
    "Other Sources:\n",
    "- Here is a <a href=\"https://www.hackerearth.com/practice/machine-learning/machine-learning-algorithms/beginners-guide-regression-analysis-plot-interpretations/tutorial/\">nice introductory article</a>.  It gives some additional attention to examining and evaluating the regression model. The code is written in R rather than Python, but it shouldn't be hard to interpret the few lines of R code. \n",
    "- Text section 18.6 cover the material theoretically and quickly.  Don't worry about the material on gradient descent.\n",
    "- Chapter 3 of <a href=\"https://www-bcf.usc.edu/~gareth/ISL/ISLR%20First%20Printing.pdf\">An Introduction to Statistical Learning</a> is your best bet for a deeper treatment, even though R is the language of choice.  In fact, that should be your go-to book for more machine learning material.\n",
    "\n",
    "Objectives:\n",
    "- Define data modeling and simple linear regression\n",
    "- Show various steps in examining a data set and preparing it for input to a learning library\n",
    "- Build a linear regression model using Python libraries\n",
    "- Understand how to evaluate the quality of a model and compare it alternative models"
   ]
  },
  {
   "cell_type": "markdown",
   "metadata": {},
   "source": [
    "##### The Bikeshare Data Set"
   ]
  },
  {
   "cell_type": "markdown",
   "metadata": {},
   "source": [
    "We'll be working with a data set from Capital Bikeshare that was used in a [Kaggle competition](https://www.kaggle.com/c/bike-sharing-demand/data), but heavily modified for this class!\n",
    "\n",
    "The goal is to predict total ridership of Capital Bikeshare in any given hour."
   ]
  },
  {
   "cell_type": "markdown",
   "metadata": {},
   "source": [
    "### Capital Bikeshare Data Dictionary"
   ]
  },
  {
   "cell_type": "markdown",
   "metadata": {},
   "source": [
    "| Variable| Description |\n",
    "|---------|----------------|\n",
    "|rental_hour| hourly date + timestamp  |\n",
    "|season|  'winter', 'spring', 'summer', 'fall' |\n",
    "|workingday| whether the day is neither a weekend nor holiday|\n",
    "|weather| 1 -> Clear or partly cloudy;  2 -> Clouds and mist; 3 -> Light rain or snow;  4 -> Heavy rain or snow|\n",
    "|temp| temperature in Celsius|\n",
    "|humidity| relative humidity|\n",
    "|windspeed| wind speed|\n",
    "|total_rentals| number of total rentals|\n",
    "|sunspots| sunspot activity (0-2, none to high)|\n"
   ]
  },
  {
   "cell_type": "code",
   "execution_count": 14,
   "metadata": {},
   "outputs": [],
   "source": [
    "import pandas as pd\n",
    "import numpy as np\n",
    "import seaborn as sns\n",
    "import matplotlib.pyplot as plt\n",
    "%matplotlib inline\n",
    "plt.rcParams['figure.figsize'] = (12, 6)\n",
    "plt.rcParams['font.size'] = 14"
   ]
  },
  {
   "cell_type": "code",
   "execution_count": 15,
   "metadata": {},
   "outputs": [],
   "source": [
    "bikes = pd.read_csv('bikeshare.csv', parse_dates=['rental_hour'])"
   ]
  },
  {
   "cell_type": "code",
   "execution_count": 16,
   "metadata": {},
   "outputs": [
    {
     "name": "stdout",
     "output_type": "stream",
     "text": [
      "<class 'pandas.core.frame.DataFrame'>\n",
      "RangeIndex: 10886 entries, 0 to 10885\n",
      "Data columns (total 9 columns):\n",
      "rental_hour      10886 non-null datetime64[ns]\n",
      "season           10886 non-null object\n",
      "workingday       10886 non-null int64\n",
      "weather          10886 non-null int64\n",
      "temp             10886 non-null float64\n",
      "humidity         10886 non-null int64\n",
      "windspeed        10886 non-null float64\n",
      "total_rentals    10886 non-null int64\n",
      "sunspots         10886 non-null int64\n",
      "dtypes: datetime64[ns](1), float64(2), int64(5), object(1)\n",
      "memory usage: 765.5+ KB\n"
     ]
    }
   ],
   "source": [
    "bikes.info()"
   ]
  },
  {
   "cell_type": "code",
   "execution_count": 17,
   "metadata": {},
   "outputs": [
    {
     "data": {
      "text/html": [
       "<div>\n",
       "<style scoped>\n",
       "    .dataframe tbody tr th:only-of-type {\n",
       "        vertical-align: middle;\n",
       "    }\n",
       "\n",
       "    .dataframe tbody tr th {\n",
       "        vertical-align: top;\n",
       "    }\n",
       "\n",
       "    .dataframe thead th {\n",
       "        text-align: right;\n",
       "    }\n",
       "</style>\n",
       "<table border=\"1\" class=\"dataframe\">\n",
       "  <thead>\n",
       "    <tr style=\"text-align: right;\">\n",
       "      <th></th>\n",
       "      <th>rental_hour</th>\n",
       "      <th>season</th>\n",
       "      <th>workingday</th>\n",
       "      <th>weather</th>\n",
       "      <th>temp</th>\n",
       "      <th>humidity</th>\n",
       "      <th>windspeed</th>\n",
       "      <th>total_rentals</th>\n",
       "      <th>sunspots</th>\n",
       "    </tr>\n",
       "  </thead>\n",
       "  <tbody>\n",
       "    <tr>\n",
       "      <th>0</th>\n",
       "      <td>2011-01-01 00:00:00</td>\n",
       "      <td>winter</td>\n",
       "      <td>0</td>\n",
       "      <td>1</td>\n",
       "      <td>9.84</td>\n",
       "      <td>81</td>\n",
       "      <td>0.0</td>\n",
       "      <td>16</td>\n",
       "      <td>0</td>\n",
       "    </tr>\n",
       "    <tr>\n",
       "      <th>1</th>\n",
       "      <td>2011-01-01 01:00:00</td>\n",
       "      <td>winter</td>\n",
       "      <td>0</td>\n",
       "      <td>1</td>\n",
       "      <td>9.02</td>\n",
       "      <td>80</td>\n",
       "      <td>0.0</td>\n",
       "      <td>40</td>\n",
       "      <td>1</td>\n",
       "    </tr>\n",
       "    <tr>\n",
       "      <th>2</th>\n",
       "      <td>2011-01-01 02:00:00</td>\n",
       "      <td>winter</td>\n",
       "      <td>0</td>\n",
       "      <td>1</td>\n",
       "      <td>9.02</td>\n",
       "      <td>80</td>\n",
       "      <td>0.0</td>\n",
       "      <td>32</td>\n",
       "      <td>1</td>\n",
       "    </tr>\n",
       "    <tr>\n",
       "      <th>3</th>\n",
       "      <td>2011-01-01 03:00:00</td>\n",
       "      <td>winter</td>\n",
       "      <td>0</td>\n",
       "      <td>1</td>\n",
       "      <td>9.84</td>\n",
       "      <td>75</td>\n",
       "      <td>0.0</td>\n",
       "      <td>13</td>\n",
       "      <td>0</td>\n",
       "    </tr>\n",
       "    <tr>\n",
       "      <th>4</th>\n",
       "      <td>2011-01-01 04:00:00</td>\n",
       "      <td>winter</td>\n",
       "      <td>0</td>\n",
       "      <td>1</td>\n",
       "      <td>9.84</td>\n",
       "      <td>75</td>\n",
       "      <td>0.0</td>\n",
       "      <td>1</td>\n",
       "      <td>1</td>\n",
       "    </tr>\n",
       "  </tbody>\n",
       "</table>\n",
       "</div>"
      ],
      "text/plain": [
       "          rental_hour  season  workingday  weather  temp  humidity  windspeed  \\\n",
       "0 2011-01-01 00:00:00  winter           0        1  9.84        81        0.0   \n",
       "1 2011-01-01 01:00:00  winter           0        1  9.02        80        0.0   \n",
       "2 2011-01-01 02:00:00  winter           0        1  9.02        80        0.0   \n",
       "3 2011-01-01 03:00:00  winter           0        1  9.84        75        0.0   \n",
       "4 2011-01-01 04:00:00  winter           0        1  9.84        75        0.0   \n",
       "\n",
       "   total_rentals  sunspots  \n",
       "0             16         0  \n",
       "1             40         1  \n",
       "2             32         1  \n",
       "3             13         0  \n",
       "4              1         1  "
      ]
     },
     "execution_count": 17,
     "metadata": {},
     "output_type": "execute_result"
    }
   ],
   "source": [
    "bikes.head(5)"
   ]
  },
  {
   "cell_type": "markdown",
   "metadata": {},
   "source": [
    "### Linear Regression Basics\n",
    "---"
   ]
  },
  {
   "cell_type": "markdown",
   "metadata": {},
   "source": [
    "### Form of Linear Regression\n",
    "\n",
    "Think of our data frame as a set of observations of the form:  \n",
    "$$(x_{i1}, x_{i2}, \\ldots, x_{ik}, y_i)$$ \n",
    "\n",
    "where the $x$ are the \"independent variables\" and $y$ is the \"dependent variable\".  We are trying to find a function of the $x$ variables that predict the value of the $y$ variable.   We have $n$ observations and $k$ independent variables (features).\n",
    "\n",
    "*  *Regression*  the $y$ variable is numeric and ordered -- for example temperature or number of rentals\n",
    "*  *Classification* the $y$ variable is taken from a set -- for example true/false or {red, green, blue}\n",
    "\n",
    "*Linear* -- Start with the formula for a line:  $$y = \\alpha + \\beta x\\\\y = \\beta_0 + \\beta_1 x$$ \n",
    "(The second notation gives a consistent name to the coefficients.)\n",
    "\n",
    "* First statement of the linear regression problem:  find the values of $\\beta_0$ and $\\beta_1$ that best predict the $y$ values for all of our observations\n",
    "* Second statement of the problem:  since every model contains some amount of noise -- \"random irreducible error\" $\\epsilon$,  instead we are actually working optimizing $$y = \\beta_0 + \\beta_1  + \\epsilon$$\n",
    "where $\\epsilon$ is small and uncorrelated with $x$ and $y$.\n",
    "\n",
    "---\n",
    "\n",
    "Here, we will generalize this to $n$ independent variables as follows:\n",
    "\n",
    "$$y = \\beta_0 + \\beta_1x_1 + \\beta_2x_2 + ... + \\beta_nx_n + \\epsilon\\quad =\\quad \\beta_0 + (\\sum_{i=0}^{k} \\beta_ix_i) + \\epsilon$$\n",
    "\n",
    "- $y$ is the response.\n",
    "- $\\beta_0$ is the intercept.\n",
    "- $\\beta_1$ is the coefficient for $x_1$ (the first feature).\n",
    "- $\\beta_k$ is the coefficient for $x_k$ (the kth feature).\n",
    "- $\\epsilon$ is the _error_ term which is independent of x, y, and $k$\n"
   ]
  },
  {
   "cell_type": "markdown",
   "metadata": {},
   "source": [
    "A practical example of this applied to our data might be:\n",
    "\n",
    "$${\\tt total\\_rides} = 20 + -2 \\cdot {\\tt temp} + -3 \\cdot {\\tt windspeed}\\ +\\ ...\\ +\\ 0.1 \\cdot {\\tt sunspots}$$\n",
    "\n",
    "This equation is still called **linear** because the highest degree of the independent variables (e.g. $x_i$) is 1. Note that because the $\\beta$ values are constants, they will not be independent variables in the final model, as seen above."
   ]
  },
  {
   "cell_type": "markdown",
   "metadata": {},
   "source": [
    "<span style=\"color:blue; font-size:120%\"> What are the limits of this linearity assumption?  What kind of relationships can't we capture?  Can you think of real examples where linearity is violated?</span>"
   ]
  },
  {
   "cell_type": "markdown",
   "metadata": {},
   "source": [
    "---\n",
    "\n",
    "In the regression equation\n",
    "$y = \\beta_0 + \\beta_1x_1 + \\beta_2x_2 + ... + \\beta_nx_n + \\epsilon$\n",
    "\n",
    "the $\\beta$ values are called the **model coefficients**:\n",
    "\n",
    "- These values are estimated (or \"learned\") during the model fitting process using the **least squares criterion**.\n",
    "- Specifically, we are trying to find the line (mathematically) that minimizes the **sum of squared residuals** (or \"sum of squared errors\").\n",
    "- Once we've learned these coefficients, we can use the model to predict the response.\n",
    "\n",
    "![Estimating coefficients](estimating_coefficients.png)\n",
    "\n",
    "We measure how well the model fits the data in terms of mean-squared error as follows:\n",
    "$$MSE = \\frac{1} {n} \\| \\hat{y}(\\mathbf{X}) - \\vec{y} \\|$$\n",
    "\n",
    "The linear regression algorithm finds the values for $\\beta_0, \\beta_1 + \\beta_2 + ... + \\beta_n$ that maximize MSE *for a given data set (the training set)*\n",
    "\n",
    "In the diagram above:\n",
    "\n",
    "- The black dots are the **observed values** of x and y.\n",
    "- The blue line is our **least squares line**.\n",
    "- The red lines are the **residuals**, which are the vertical distances between the observed values and the least squares line.\n",
    "\n",
    "If there are two predictors, the model fits a plane, and residuals are the distance between the observed value and the least squares plane.\n",
    "\n",
    "![Regression with Two Variates](multiple_regression_plane.png)\n",
    "\n",
    "If there are more than two predictors, it's hard to visualize."
   ]
  },
  {
   "cell_type": "markdown",
   "metadata": {},
   "source": [
    "### Running a Regression using scikit-learn\n",
    "\n",
    "To fit the skitkit-learn data we have to make our observation data fit its model\n",
    "\n",
    "1. Features and response should be separate objects\n",
    "2. Features and response should be entirely numeric\n",
    "3. Features and response should be NumPy arrays (or easily converted to NumPy arrays)\n",
    "4. Features and response should have specific shapes (outlined below)"
   ]
  },
  {
   "cell_type": "markdown",
   "metadata": {},
   "source": [
    "<a id=\"building-a-linear-regression-model-in-sklearn\"></a>\n",
    "### Building a (Single) Linear Regression Model in sklearn"
   ]
  },
  {
   "cell_type": "markdown",
   "metadata": {},
   "source": [
    "#### Create a feature matrix called X that holds a `DataFrame` with only the temp variable and a `Series` called y that has the \"total_rentals\" column."
   ]
  },
  {
   "cell_type": "code",
   "execution_count": 47,
   "metadata": {},
   "outputs": [],
   "source": [
    "# Create X and y  try to predict total rentals from temperature (only)\n",
    "feature_cols = ['temp']\n",
    "X1 = bikes[feature_cols]\n",
    "y1 = bikes.total_rentals"
   ]
  },
  {
   "cell_type": "markdown",
   "metadata": {},
   "source": [
    "<span style=\"color:blue; font-size:120%\">Why do you think X is capitalized but y is not?</span>"
   ]
  },
  {
   "cell_type": "code",
   "execution_count": 48,
   "metadata": {},
   "outputs": [
    {
     "name": "stdout",
     "output_type": "stream",
     "text": [
      "<class 'pandas.core.frame.DataFrame'>\n",
      "<class 'pandas.core.series.Series'>\n",
      "(10886, 1)\n",
      "(10886,)\n"
     ]
    }
   ],
   "source": [
    "print(type(X1))\n",
    "print(type(y1))\n",
    "print(X1.shape)\n",
    "print(y1.shape)"
   ]
  },
  {
   "cell_type": "markdown",
   "metadata": {},
   "source": [
    "\n",
    "### scikit-learn's Four-Step Modeling Pattern -- Same for Many Prediction Algorithms"
   ]
  },
  {
   "cell_type": "markdown",
   "metadata": {},
   "source": [
    "**Step 1:** Import the class you plan to use."
   ]
  },
  {
   "cell_type": "code",
   "execution_count": 20,
   "metadata": {},
   "outputs": [],
   "source": [
    "from sklearn.linear_model import LinearRegression"
   ]
  },
  {
   "cell_type": "code",
   "execution_count": 50,
   "metadata": {},
   "outputs": [
    {
     "data": {
      "text/plain": [
       "sklearn.linear_model.base.LinearRegression"
      ]
     },
     "execution_count": 50,
     "metadata": {},
     "output_type": "execute_result"
    }
   ],
   "source": [
    "# Make an instance of a LinearRegression object.\n",
    "lr1 = LinearRegression()\n",
    "type(lr1)"
   ]
  },
  {
   "cell_type": "markdown",
   "metadata": {},
   "source": [
    "- Created an object that \"knows\" how to do linear regression, and is just waiting for data."
   ]
  },
  {
   "cell_type": "markdown",
   "metadata": {},
   "source": [
    "**Step 3:** Fit the model with data (aka \"model training\").\n",
    "\n",
    "- Model is \"learning\" the relationship between X and y in our \"training data.\"\n",
    "- Process through which learning occurs varies by model.\n",
    "- Occurs in-place."
   ]
  },
  {
   "cell_type": "code",
   "execution_count": 51,
   "metadata": {},
   "outputs": [
    {
     "data": {
      "text/plain": [
       "LinearRegression(copy_X=True, fit_intercept=True, n_jobs=1, normalize=False)"
      ]
     },
     "execution_count": 51,
     "metadata": {},
     "output_type": "execute_result"
    }
   ],
   "source": [
    "lr1.fit(X1, y1)"
   ]
  },
  {
   "cell_type": "markdown",
   "metadata": {},
   "source": [
    "- Once a model has been fit with data, it's called a \"fitted model.\"\n",
    "- Next steps\n",
    "  - We can predict y values from an X vector\n",
    "  - We need to assess how good the model is as a predictor"
   ]
  },
  {
   "cell_type": "code",
   "execution_count": 52,
   "metadata": {},
   "outputs": [
    {
     "name": "stdout",
     "output_type": "stream",
     "text": [
      "6.04621295961681\n",
      "[9.17054048]\n"
     ]
    }
   ],
   "source": [
    "print(lr1.intercept_)\n",
    "print(lr1.coef_)"
   ]
  },
  {
   "cell_type": "markdown",
   "metadata": {},
   "source": [
    "This is the equation\n",
    "\n",
    "${\\tt total\\_rentals} = 6.04 + 9.17 \\times{\\tt temp}$"
   ]
  },
  {
   "cell_type": "code",
   "execution_count": 53,
   "metadata": {},
   "outputs": [
    {
     "name": "stdout",
     "output_type": "stream",
     "text": [
      "[6.04621296]\n"
     ]
    }
   ],
   "source": [
    "# If we predict at x=0 we will get the intercept\n",
    "print(lr1.predict(np.array([0]).reshape(-1,1)))"
   ]
  },
  {
   "cell_type": "code",
   "execution_count": 54,
   "metadata": {},
   "outputs": [
    {
     "name": "stdout",
     "output_type": "stream",
     "text": [
      "[ 6.04621296 15.21675344 24.38729392]\n"
     ]
    }
   ],
   "source": [
    "# We can predict at multiple points.\n",
    "# We should see a bump of 9.17 for every increase in X\n",
    "\n",
    "print(lr1.predict(np.array([0,1,2]).reshape(-1,1)))"
   ]
  },
  {
   "cell_type": "code",
   "execution_count": 55,
   "metadata": {},
   "outputs": [
    {
     "name": "stdout",
     "output_type": "stream",
     "text": [
      "[ 96.2843313   88.7644881   88.7644881  ... 133.88354727 133.88354727\n",
      " 126.36370408]\n"
     ]
    }
   ],
   "source": [
    "# Most often we want to predict all values in a matrix\n",
    "print(lr1.predict(X1))"
   ]
  },
  {
   "cell_type": "markdown",
   "metadata": {},
   "source": [
    "Interpreting the intercept ($\\beta_0$):\n",
    "\n",
    "- It is the value of $y$ when all independent variables are 0.\n",
    "- Here, it is the estimated number of rentals when the temperature is 0 degrees Celsius.\n",
    "- <span style=\"color:blue\">**Note:** It does not always make sense to interpret the intercept. (Why?)</span>\n",
    "\n",
    "Interpreting the \"temp\" coefficient ($\\beta_1$):\n",
    "\n",
    "- **Interpretation:** An increase of 1 degree Celcius is _associated with_ increasing the number of total rentals by $\\beta_1$.\n",
    "- Here, a temperature increase of 1 degree Celsius is _associated with_ a rental increase of 9.17 bikes.\n",
    "- This is not a statement of causation.\n",
    "- $\\beta_1$ would be **negative** if an increase in temperature was associated with a **decrease** in total rentals.\n",
    "- $\\beta_1$ would be **zero** if temperature is not associated with total rentals."
   ]
  },
  {
   "cell_type": "markdown",
   "metadata": {},
   "source": [
    "#### More Features!"
   ]
  },
  {
   "cell_type": "code",
   "execution_count": 30,
   "metadata": {},
   "outputs": [
    {
     "data": {
      "text/plain": [
       "Index(['rental_hour', 'season', 'workingday', 'weather', 'temp', 'humidity',\n",
       "       'windspeed', 'total_rentals', 'sunspots'],\n",
       "      dtype='object')"
      ]
     },
     "execution_count": 30,
     "metadata": {},
     "output_type": "execute_result"
    }
   ],
   "source": [
    "bikes.columns"
   ]
  },
  {
   "cell_type": "code",
   "execution_count": 65,
   "metadata": {},
   "outputs": [],
   "source": [
    "# These are all the numeric features -- regression needs numbers!\n",
    "feature_cols2 = ['workingday', 'weather', 'temp', 'humidity', 'windspeed', 'sunspots']\n",
    "X2 = bikes[feature_cols2]\n",
    "y2 = bikes.total_rentals"
   ]
  },
  {
   "cell_type": "code",
   "execution_count": 58,
   "metadata": {},
   "outputs": [
    {
     "data": {
      "text/plain": [
       "LinearRegression(copy_X=True, fit_intercept=True, n_jobs=1, normalize=False)"
      ]
     },
     "execution_count": 58,
     "metadata": {},
     "output_type": "execute_result"
    }
   ],
   "source": [
    "lr2 = LinearRegression()\n",
    "lr2.fit(X2, y2)"
   ]
  },
  {
   "cell_type": "code",
   "execution_count": 59,
   "metadata": {},
   "outputs": [
    {
     "name": "stdout",
     "output_type": "stream",
     "text": [
      "180.96434370104075\n",
      "[-1.35048855  3.09471515  8.7489077  -2.75668603  0.32618071 -3.43731298]\n"
     ]
    }
   ],
   "source": [
    "print(lr2.intercept_)\n",
    "print(lr2.coef_)"
   ]
  },
  {
   "cell_type": "code",
   "execution_count": 46,
   "metadata": {},
   "outputs": [
    {
     "data": {
      "text/plain": [
       "(10886, 6)"
      ]
     },
     "execution_count": 46,
     "metadata": {},
     "output_type": "execute_result"
    }
   ],
   "source": [
    "X.shape"
   ]
  },
  {
   "cell_type": "code",
   "execution_count": 61,
   "metadata": {},
   "outputs": [
    {
     "name": "stdout",
     "output_type": "stream",
     "text": [
      "24881.290399662896\n",
      "27705.2238053288\n"
     ]
    }
   ],
   "source": [
    "from sklearn.metrics import mean_squared_error\n",
    "print(mean_squared_error(y2, lr2.predict(X2)))\n",
    "print(mean_squared_error(y1, lr1.predict(X1)))"
   ]
  },
  {
   "cell_type": "markdown",
   "metadata": {},
   "source": [
    "####  A Quick Diversion:  MSE vs R-Squared\n",
    "\n",
    "We are minimizing MSE, but MSE is sensitive to magnitudes of the X variables\n",
    "  * Temperature in F instead of C\n",
    "  * Multiplying 'sunspot activity' by 10\n",
    "  \n",
    "This intuitively doesn't affect the quality of the model.\n",
    "\n",
    "Instead use $R^2$ (R-squared) which normalizes for X magnitude\n",
    "  * $R^2$ guaranteed to be $\\leq$ 1\n",
    "  * Values close to 1 are better\n",
    "  * Value of 0 means model is no better than ignoring $X$ completely and predicting a $y$ value equal to the mean\n",
    "  * Negative value means the model is *worse* than predicting at the mean"
   ]
  },
  {
   "cell_type": "code",
   "execution_count": 62,
   "metadata": {},
   "outputs": [
    {
     "name": "stdout",
     "output_type": "stream",
     "text": [
      "0.2416621840009524\n",
      "0.15559367802794855\n"
     ]
    }
   ],
   "source": [
    "from sklearn.metrics import r2_score\n",
    "print(r2_score(y2, lr2.predict(X2)))\n",
    "print(r2_score(y1, lr1.predict(X1)))"
   ]
  },
  {
   "cell_type": "code",
   "execution_count": 68,
   "metadata": {},
   "outputs": [
    {
     "data": {
      "text/plain": [
       "[('workingday', -1.3504885452995659),\n",
       " ('weather', 3.0947151494371967),\n",
       " ('temp', 8.748907695621075),\n",
       " ('humidity', -2.756686028546445),\n",
       " ('windspeed', 0.3261807055805291),\n",
       " ('sunspots', -3.4373129750294273)]"
      ]
     },
     "execution_count": 68,
     "metadata": {},
     "output_type": "execute_result"
    }
   ],
   "source": [
    "list(zip(feature_cols2, lr2.coef_))"
   ]
  },
  {
   "cell_type": "markdown",
   "metadata": {},
   "source": [
    "#### Standard Regression Output"
   ]
  },
  {
   "cell_type": "code",
   "execution_count": 69,
   "metadata": {},
   "outputs": [
    {
     "name": "stdout",
     "output_type": "stream",
     "text": [
      "                            OLS Regression Results                            \n",
      "==============================================================================\n",
      "Dep. Variable:          total_rentals   R-squared:                       0.242\n",
      "Model:                            OLS   Adj. R-squared:                  0.241\n",
      "Method:                 Least Squares   F-statistic:                     577.8\n",
      "Date:                Wed, 20 Nov 2019   Prob (F-statistic):               0.00\n",
      "Time:                        14:06:42   Log-Likelihood:                -70540.\n",
      "No. Observations:               10886   AIC:                         1.411e+05\n",
      "Df Residuals:                   10879   BIC:                         1.411e+05\n",
      "Df Model:                           6                                         \n",
      "Covariance Type:            nonrobust                                         \n",
      "==============================================================================\n",
      "                 coef    std err          t      P>|t|      [0.025      0.975]\n",
      "------------------------------------------------------------------------------\n",
      "const        180.9643      8.471     21.363      0.000     164.360     197.569\n",
      "workingday    -1.3505      3.249     -0.416      0.678      -7.719       5.018\n",
      "weather        3.0947      2.648      1.169      0.242      -2.095       8.285\n",
      "temp           8.7489      0.195     44.904      0.000       8.367       9.131\n",
      "humidity      -2.7567      0.092    -29.947      0.000      -2.937      -2.576\n",
      "windspeed      0.3262      0.198      1.647      0.100      -0.062       0.714\n",
      "sunspots      -3.4373      1.853     -1.855      0.064      -7.070       0.195\n",
      "==============================================================================\n",
      "Omnibus:                     2155.888   Durbin-Watson:                   0.418\n",
      "Prob(Omnibus):                  0.000   Jarque-Bera (JB):             4162.251\n",
      "Skew:                           1.210   Prob(JB):                         0.00\n",
      "Kurtosis:                       4.823   Cond. No.                         387.\n",
      "==============================================================================\n",
      "\n",
      "Warnings:\n",
      "[1] Standard Errors assume that the covariance matrix of the errors is correctly specified.\n"
     ]
    }
   ],
   "source": [
    "import statsmodels.api as sm\n",
    "X2C = sm.add_constant(X2)\n",
    "results = sm.OLS(y2, X2C).fit()\n",
    "print(results.summary())"
   ]
  },
  {
   "cell_type": "markdown",
   "metadata": {},
   "source": [
    "###  Revisit Our Attributes\n",
    "\n",
    "* 'rental_hour' a timestamp  -- OUT\n",
    "* 'season'  a string (four values)  -- OUT\n",
    "* 'workingday' a 0-1 boolean -- IN\n",
    "* 'weather' ranges from 1 to 4 -- IN\n",
    "* 'temp' real-valued -- IN\n",
    "* 'humidity' real-valued -- IN\n",
    "* 'windspeed' real-valued -- IN\n",
    "* 'sunspots'  0 to 2 from \"none\" to \"high\" -- IN\n",
    "\n",
    "Remember \n",
    "  * Regression assigns a coefficient to each $x_i$\n",
    "  * The coefficient $\\beta_i$ means \"if I increase (decrease) $x_i$ by 1 unit, I expect $y$ to increase (decrease) by $\\beta_i$ units\n",
    "  \n",
    "For which of these variables does this make sense?"
   ]
  },
  {
   "cell_type": "markdown",
   "metadata": {},
   "source": [
    "### Numeric vs Categorical Variables\n",
    "\n",
    "*  Numeric $x$\n",
    "  *  It make sense to think about $x+1$ or even $x \\div 2$\n",
    "  *  It always must be the case the $x$ increasing has the same effect on $y$\n",
    "  \n",
    "* Categorical $x$\n",
    "  *  Selected from a (usually) small set of values\n",
    "    *  \\{ red, white, blue \\}\n",
    "    * \\{ true, false \\} \n",
    "    \n",
    "*** NOTICE:  Just because your data frame has something coded as an integer doesn't make it numeric!! ***\n",
    "\n",
    "#####  Is our Y variable categorical or is it numeric?  Must it be one or the other always??\n",
    "\n",
    "Which of our X variables are numeric, and which are categorical?\n"
   ]
  },
  {
   "cell_type": "markdown",
   "metadata": {},
   "source": [
    "#### Dealing With the Categorical Variables\n",
    "\n",
    "* season -- string (four values)\n",
    "* workingday -- 0/1\n",
    "* weather (1-4)\n",
    "* sunspots (0-2)"
   ]
  },
  {
   "cell_type": "code",
   "execution_count": 70,
   "metadata": {},
   "outputs": [
    {
     "data": {
      "text/plain": [
       "fall      2734\n",
       "summer    2733\n",
       "spring    2733\n",
       "winter    2686\n",
       "Name: season, dtype: int64"
      ]
     },
     "execution_count": 70,
     "metadata": {},
     "output_type": "execute_result"
    }
   ],
   "source": [
    "bikes['season'].value_counts()"
   ]
  },
  {
   "cell_type": "code",
   "execution_count": 71,
   "metadata": {},
   "outputs": [],
   "source": [
    "bikes['season'] = bikes.season.replace({'fall': 0, 'summer': 1, 'spring': 2, 'winter': 3})"
   ]
  },
  {
   "cell_type": "code",
   "execution_count": 73,
   "metadata": {},
   "outputs": [
    {
     "name": "stdout",
     "output_type": "stream",
     "text": [
      "<class 'pandas.core.frame.DataFrame'>\n",
      "RangeIndex: 10886 entries, 0 to 10885\n",
      "Data columns (total 9 columns):\n",
      "rental_hour      10886 non-null datetime64[ns]\n",
      "season           10886 non-null int64\n",
      "workingday       10886 non-null int64\n",
      "weather          10886 non-null int64\n",
      "temp             10886 non-null float64\n",
      "humidity         10886 non-null int64\n",
      "windspeed        10886 non-null float64\n",
      "total_rentals    10886 non-null int64\n",
      "sunspots         10886 non-null int64\n",
      "dtypes: datetime64[ns](1), float64(2), int64(6)\n",
      "memory usage: 765.5 KB\n"
     ]
    }
   ],
   "source": [
    "bikes.info()"
   ]
  },
  {
   "cell_type": "code",
   "execution_count": 80,
   "metadata": {},
   "outputs": [
    {
     "ename": "AttributeError",
     "evalue": "'DataFrame' object has no attribute 'season'",
     "output_type": "error",
     "traceback": [
      "\u001b[1;31m---------------------------------------------------------------------------\u001b[0m",
      "\u001b[1;31mAttributeError\u001b[0m                            Traceback (most recent call last)",
      "\u001b[1;32m<ipython-input-80-bf4266c3071e>\u001b[0m in \u001b[0;36m<module>\u001b[1;34m()\u001b[0m\n\u001b[1;32m----> 1\u001b[1;33m \u001b[0mbikes\u001b[0m\u001b[1;33m.\u001b[0m\u001b[0mseason\u001b[0m\u001b[1;33m.\u001b[0m\u001b[0mvalue_counts\u001b[0m\u001b[1;33m(\u001b[0m\u001b[1;33m)\u001b[0m\u001b[1;33m\u001b[0m\u001b[0m\n\u001b[0m",
      "\u001b[1;32mC:\\ProgramData\\Anaconda3\\lib\\site-packages\\pandas\\core\\generic.py\u001b[0m in \u001b[0;36m__getattr__\u001b[1;34m(self, name)\u001b[0m\n\u001b[0;32m   4374\u001b[0m             \u001b[1;32mif\u001b[0m \u001b[0mself\u001b[0m\u001b[1;33m.\u001b[0m\u001b[0m_info_axis\u001b[0m\u001b[1;33m.\u001b[0m\u001b[0m_can_hold_identifiers_and_holds_name\u001b[0m\u001b[1;33m(\u001b[0m\u001b[0mname\u001b[0m\u001b[1;33m)\u001b[0m\u001b[1;33m:\u001b[0m\u001b[1;33m\u001b[0m\u001b[0m\n\u001b[0;32m   4375\u001b[0m                 \u001b[1;32mreturn\u001b[0m \u001b[0mself\u001b[0m\u001b[1;33m[\u001b[0m\u001b[0mname\u001b[0m\u001b[1;33m]\u001b[0m\u001b[1;33m\u001b[0m\u001b[0m\n\u001b[1;32m-> 4376\u001b[1;33m             \u001b[1;32mreturn\u001b[0m \u001b[0mobject\u001b[0m\u001b[1;33m.\u001b[0m\u001b[0m__getattribute__\u001b[0m\u001b[1;33m(\u001b[0m\u001b[0mself\u001b[0m\u001b[1;33m,\u001b[0m \u001b[0mname\u001b[0m\u001b[1;33m)\u001b[0m\u001b[1;33m\u001b[0m\u001b[0m\n\u001b[0m\u001b[0;32m   4377\u001b[0m \u001b[1;33m\u001b[0m\u001b[0m\n\u001b[0;32m   4378\u001b[0m     \u001b[1;32mdef\u001b[0m \u001b[0m__setattr__\u001b[0m\u001b[1;33m(\u001b[0m\u001b[0mself\u001b[0m\u001b[1;33m,\u001b[0m \u001b[0mname\u001b[0m\u001b[1;33m,\u001b[0m \u001b[0mvalue\u001b[0m\u001b[1;33m)\u001b[0m\u001b[1;33m:\u001b[0m\u001b[1;33m\u001b[0m\u001b[0m\n",
      "\u001b[1;31mAttributeError\u001b[0m: 'DataFrame' object has no attribute 'season'"
     ]
    }
   ],
   "source": [
    "bikes.season.value_counts()"
   ]
  },
  {
   "cell_type": "code",
   "execution_count": 76,
   "metadata": {},
   "outputs": [],
   "source": [
    "season_dummies = pd.get_dummies(bikes.season, prefix='season')"
   ]
  },
  {
   "cell_type": "code",
   "execution_count": 77,
   "metadata": {},
   "outputs": [
    {
     "data": {
      "text/html": [
       "<div>\n",
       "<style scoped>\n",
       "    .dataframe tbody tr th:only-of-type {\n",
       "        vertical-align: middle;\n",
       "    }\n",
       "\n",
       "    .dataframe tbody tr th {\n",
       "        vertical-align: top;\n",
       "    }\n",
       "\n",
       "    .dataframe thead th {\n",
       "        text-align: right;\n",
       "    }\n",
       "</style>\n",
       "<table border=\"1\" class=\"dataframe\">\n",
       "  <thead>\n",
       "    <tr style=\"text-align: right;\">\n",
       "      <th></th>\n",
       "      <th>season_0</th>\n",
       "      <th>season_1</th>\n",
       "      <th>season_2</th>\n",
       "      <th>season_3</th>\n",
       "    </tr>\n",
       "  </thead>\n",
       "  <tbody>\n",
       "    <tr>\n",
       "      <th>6229</th>\n",
       "      <td>0</td>\n",
       "      <td>0</td>\n",
       "      <td>0</td>\n",
       "      <td>1</td>\n",
       "    </tr>\n",
       "    <tr>\n",
       "      <th>1413</th>\n",
       "      <td>0</td>\n",
       "      <td>0</td>\n",
       "      <td>1</td>\n",
       "      <td>0</td>\n",
       "    </tr>\n",
       "    <tr>\n",
       "      <th>3235</th>\n",
       "      <td>0</td>\n",
       "      <td>1</td>\n",
       "      <td>0</td>\n",
       "      <td>0</td>\n",
       "    </tr>\n",
       "    <tr>\n",
       "      <th>5461</th>\n",
       "      <td>0</td>\n",
       "      <td>0</td>\n",
       "      <td>0</td>\n",
       "      <td>1</td>\n",
       "    </tr>\n",
       "    <tr>\n",
       "      <th>9334</th>\n",
       "      <td>0</td>\n",
       "      <td>1</td>\n",
       "      <td>0</td>\n",
       "      <td>0</td>\n",
       "    </tr>\n",
       "  </tbody>\n",
       "</table>\n",
       "</div>"
      ],
      "text/plain": [
       "      season_0  season_1  season_2  season_3\n",
       "6229         0         0         0         1\n",
       "1413         0         0         1         0\n",
       "3235         0         1         0         0\n",
       "5461         0         0         0         1\n",
       "9334         0         1         0         0"
      ]
     },
     "execution_count": 77,
     "metadata": {},
     "output_type": "execute_result"
    }
   ],
   "source": [
    "season_dummies.sample(n=5)"
   ]
  },
  {
   "cell_type": "code",
   "execution_count": 78,
   "metadata": {},
   "outputs": [],
   "source": [
    "season_dummies.drop(season_dummies.columns[0], axis=1, inplace=True)\n",
    "bikes = pd.concat([bikes, season_dummies], axis=1)\n",
    "bikes.drop(['season'], axis=1, inplace=True)"
   ]
  },
  {
   "cell_type": "code",
   "execution_count": 79,
   "metadata": {},
   "outputs": [
    {
     "data": {
      "text/html": [
       "<div>\n",
       "<style scoped>\n",
       "    .dataframe tbody tr th:only-of-type {\n",
       "        vertical-align: middle;\n",
       "    }\n",
       "\n",
       "    .dataframe tbody tr th {\n",
       "        vertical-align: top;\n",
       "    }\n",
       "\n",
       "    .dataframe thead th {\n",
       "        text-align: right;\n",
       "    }\n",
       "</style>\n",
       "<table border=\"1\" class=\"dataframe\">\n",
       "  <thead>\n",
       "    <tr style=\"text-align: right;\">\n",
       "      <th></th>\n",
       "      <th>rental_hour</th>\n",
       "      <th>workingday</th>\n",
       "      <th>weather</th>\n",
       "      <th>temp</th>\n",
       "      <th>humidity</th>\n",
       "      <th>windspeed</th>\n",
       "      <th>total_rentals</th>\n",
       "      <th>sunspots</th>\n",
       "      <th>season_1</th>\n",
       "      <th>season_2</th>\n",
       "      <th>season_3</th>\n",
       "    </tr>\n",
       "  </thead>\n",
       "  <tbody>\n",
       "    <tr>\n",
       "      <th>0</th>\n",
       "      <td>2011-01-01 00:00:00</td>\n",
       "      <td>0</td>\n",
       "      <td>1</td>\n",
       "      <td>9.84</td>\n",
       "      <td>81</td>\n",
       "      <td>0.0</td>\n",
       "      <td>16</td>\n",
       "      <td>0</td>\n",
       "      <td>0</td>\n",
       "      <td>0</td>\n",
       "      <td>1</td>\n",
       "    </tr>\n",
       "    <tr>\n",
       "      <th>1</th>\n",
       "      <td>2011-01-01 01:00:00</td>\n",
       "      <td>0</td>\n",
       "      <td>1</td>\n",
       "      <td>9.02</td>\n",
       "      <td>80</td>\n",
       "      <td>0.0</td>\n",
       "      <td>40</td>\n",
       "      <td>1</td>\n",
       "      <td>0</td>\n",
       "      <td>0</td>\n",
       "      <td>1</td>\n",
       "    </tr>\n",
       "    <tr>\n",
       "      <th>2</th>\n",
       "      <td>2011-01-01 02:00:00</td>\n",
       "      <td>0</td>\n",
       "      <td>1</td>\n",
       "      <td>9.02</td>\n",
       "      <td>80</td>\n",
       "      <td>0.0</td>\n",
       "      <td>32</td>\n",
       "      <td>1</td>\n",
       "      <td>0</td>\n",
       "      <td>0</td>\n",
       "      <td>1</td>\n",
       "    </tr>\n",
       "    <tr>\n",
       "      <th>3</th>\n",
       "      <td>2011-01-01 03:00:00</td>\n",
       "      <td>0</td>\n",
       "      <td>1</td>\n",
       "      <td>9.84</td>\n",
       "      <td>75</td>\n",
       "      <td>0.0</td>\n",
       "      <td>13</td>\n",
       "      <td>0</td>\n",
       "      <td>0</td>\n",
       "      <td>0</td>\n",
       "      <td>1</td>\n",
       "    </tr>\n",
       "    <tr>\n",
       "      <th>4</th>\n",
       "      <td>2011-01-01 04:00:00</td>\n",
       "      <td>0</td>\n",
       "      <td>1</td>\n",
       "      <td>9.84</td>\n",
       "      <td>75</td>\n",
       "      <td>0.0</td>\n",
       "      <td>1</td>\n",
       "      <td>1</td>\n",
       "      <td>0</td>\n",
       "      <td>0</td>\n",
       "      <td>1</td>\n",
       "    </tr>\n",
       "  </tbody>\n",
       "</table>\n",
       "</div>"
      ],
      "text/plain": [
       "          rental_hour  workingday  weather  temp  humidity  windspeed  \\\n",
       "0 2011-01-01 00:00:00           0        1  9.84        81        0.0   \n",
       "1 2011-01-01 01:00:00           0        1  9.02        80        0.0   \n",
       "2 2011-01-01 02:00:00           0        1  9.02        80        0.0   \n",
       "3 2011-01-01 03:00:00           0        1  9.84        75        0.0   \n",
       "4 2011-01-01 04:00:00           0        1  9.84        75        0.0   \n",
       "\n",
       "   total_rentals  sunspots  season_1  season_2  season_3  \n",
       "0             16         0         0         0         1  \n",
       "1             40         1         0         0         1  \n",
       "2             32         1         0         0         1  \n",
       "3             13         0         0         0         1  \n",
       "4              1         1         0         0         1  "
      ]
     },
     "execution_count": 79,
     "metadata": {},
     "output_type": "execute_result"
    }
   ],
   "source": [
    "bikes.head(5)"
   ]
  },
  {
   "cell_type": "markdown",
   "metadata": {},
   "source": [
    "####  What about weather (it's kind of categorical)\n",
    "####  What about sunspots (it's kind of categorical)"
   ]
  },
  {
   "cell_type": "markdown",
   "metadata": {},
   "source": [
    "#### Dealing with rental_hour\n",
    "\n",
    "* Rental hour is the hour at which the $y$ variable was measured\n",
    "* It is strictly increasing over time\n",
    "  * Is that like an index or row number?   And if so do we keep it?\n",
    "  * Another question:  is there simply a time effect (business is expanding over time, independent of other factors)\n",
    "* There certainly should be time effects (i.e. attributes that depend only on time / rental_hour)\n",
    "  * workingday is a time effect\n",
    "  * others?"
   ]
  },
  {
   "cell_type": "code",
   "execution_count": 81,
   "metadata": {},
   "outputs": [
    {
     "data": {
      "text/plain": [
       "Timestamp('2011-01-01 00:00:00')"
      ]
     },
     "execution_count": 81,
     "metadata": {},
     "output_type": "execute_result"
    }
   ],
   "source": [
    "bikes.rental_hour[0]"
   ]
  },
  {
   "cell_type": "code",
   "execution_count": 86,
   "metadata": {},
   "outputs": [
    {
     "data": {
      "text/plain": [
       "0"
      ]
     },
     "execution_count": 86,
     "metadata": {},
     "output_type": "execute_result"
    }
   ],
   "source": [
    "bikes.rental_hour.map(lambda t: t.hour).min()"
   ]
  },
  {
   "cell_type": "code",
   "execution_count": 90,
   "metadata": {},
   "outputs": [],
   "source": [
    "daytime = bikes.rental_hour.apply(lambda t: t.hour > 8 and t.hour < 18).replace({False: 0, True:1})"
   ]
  },
  {
   "cell_type": "code",
   "execution_count": 92,
   "metadata": {},
   "outputs": [],
   "source": [
    "bikes['daytime'] = daytime"
   ]
  },
  {
   "cell_type": "code",
   "execution_count": 93,
   "metadata": {},
   "outputs": [],
   "source": [
    "bikes['hours_since_open'] = range(0, bikes.shape[0])"
   ]
  },
  {
   "cell_type": "code",
   "execution_count": 94,
   "metadata": {},
   "outputs": [
    {
     "data": {
      "text/html": [
       "<div>\n",
       "<style scoped>\n",
       "    .dataframe tbody tr th:only-of-type {\n",
       "        vertical-align: middle;\n",
       "    }\n",
       "\n",
       "    .dataframe tbody tr th {\n",
       "        vertical-align: top;\n",
       "    }\n",
       "\n",
       "    .dataframe thead th {\n",
       "        text-align: right;\n",
       "    }\n",
       "</style>\n",
       "<table border=\"1\" class=\"dataframe\">\n",
       "  <thead>\n",
       "    <tr style=\"text-align: right;\">\n",
       "      <th></th>\n",
       "      <th>rental_hour</th>\n",
       "      <th>workingday</th>\n",
       "      <th>weather</th>\n",
       "      <th>temp</th>\n",
       "      <th>humidity</th>\n",
       "      <th>windspeed</th>\n",
       "      <th>total_rentals</th>\n",
       "      <th>sunspots</th>\n",
       "      <th>season_1</th>\n",
       "      <th>season_2</th>\n",
       "      <th>season_3</th>\n",
       "      <th>daytime</th>\n",
       "      <th>hours_since_open</th>\n",
       "    </tr>\n",
       "  </thead>\n",
       "  <tbody>\n",
       "    <tr>\n",
       "      <th>0</th>\n",
       "      <td>2011-01-01 00:00:00</td>\n",
       "      <td>0</td>\n",
       "      <td>1</td>\n",
       "      <td>9.84</td>\n",
       "      <td>81</td>\n",
       "      <td>0.0</td>\n",
       "      <td>16</td>\n",
       "      <td>0</td>\n",
       "      <td>0</td>\n",
       "      <td>0</td>\n",
       "      <td>1</td>\n",
       "      <td>0</td>\n",
       "      <td>0</td>\n",
       "    </tr>\n",
       "    <tr>\n",
       "      <th>1</th>\n",
       "      <td>2011-01-01 01:00:00</td>\n",
       "      <td>0</td>\n",
       "      <td>1</td>\n",
       "      <td>9.02</td>\n",
       "      <td>80</td>\n",
       "      <td>0.0</td>\n",
       "      <td>40</td>\n",
       "      <td>1</td>\n",
       "      <td>0</td>\n",
       "      <td>0</td>\n",
       "      <td>1</td>\n",
       "      <td>0</td>\n",
       "      <td>1</td>\n",
       "    </tr>\n",
       "    <tr>\n",
       "      <th>2</th>\n",
       "      <td>2011-01-01 02:00:00</td>\n",
       "      <td>0</td>\n",
       "      <td>1</td>\n",
       "      <td>9.02</td>\n",
       "      <td>80</td>\n",
       "      <td>0.0</td>\n",
       "      <td>32</td>\n",
       "      <td>1</td>\n",
       "      <td>0</td>\n",
       "      <td>0</td>\n",
       "      <td>1</td>\n",
       "      <td>0</td>\n",
       "      <td>2</td>\n",
       "    </tr>\n",
       "    <tr>\n",
       "      <th>3</th>\n",
       "      <td>2011-01-01 03:00:00</td>\n",
       "      <td>0</td>\n",
       "      <td>1</td>\n",
       "      <td>9.84</td>\n",
       "      <td>75</td>\n",
       "      <td>0.0</td>\n",
       "      <td>13</td>\n",
       "      <td>0</td>\n",
       "      <td>0</td>\n",
       "      <td>0</td>\n",
       "      <td>1</td>\n",
       "      <td>0</td>\n",
       "      <td>3</td>\n",
       "    </tr>\n",
       "    <tr>\n",
       "      <th>4</th>\n",
       "      <td>2011-01-01 04:00:00</td>\n",
       "      <td>0</td>\n",
       "      <td>1</td>\n",
       "      <td>9.84</td>\n",
       "      <td>75</td>\n",
       "      <td>0.0</td>\n",
       "      <td>1</td>\n",
       "      <td>1</td>\n",
       "      <td>0</td>\n",
       "      <td>0</td>\n",
       "      <td>1</td>\n",
       "      <td>0</td>\n",
       "      <td>4</td>\n",
       "    </tr>\n",
       "  </tbody>\n",
       "</table>\n",
       "</div>"
      ],
      "text/plain": [
       "          rental_hour  workingday  weather  temp  humidity  windspeed  \\\n",
       "0 2011-01-01 00:00:00           0        1  9.84        81        0.0   \n",
       "1 2011-01-01 01:00:00           0        1  9.02        80        0.0   \n",
       "2 2011-01-01 02:00:00           0        1  9.02        80        0.0   \n",
       "3 2011-01-01 03:00:00           0        1  9.84        75        0.0   \n",
       "4 2011-01-01 04:00:00           0        1  9.84        75        0.0   \n",
       "\n",
       "   total_rentals  sunspots  season_1  season_2  season_3  daytime  \\\n",
       "0             16         0         0         0         1        0   \n",
       "1             40         1         0         0         1        0   \n",
       "2             32         1         0         0         1        0   \n",
       "3             13         0         0         0         1        0   \n",
       "4              1         1         0         0         1        0   \n",
       "\n",
       "   hours_since_open  \n",
       "0                 0  \n",
       "1                 1  \n",
       "2                 2  \n",
       "3                 3  \n",
       "4                 4  "
      ]
     },
     "execution_count": 94,
     "metadata": {},
     "output_type": "execute_result"
    }
   ],
   "source": [
    "bikes.head(5)"
   ]
  },
  {
   "cell_type": "code",
   "execution_count": 96,
   "metadata": {},
   "outputs": [],
   "source": [
    "feature_cols3 = ['workingday', 'weather', 'temp', 'humidity', 'windspeed', 'sunspots', 'season_1', 'season_2', 'season_3', 'daytime', 'hours_since_open']\n",
    "X3 = bikes[feature_cols3]\n",
    "y3 = bikes.total_rentals"
   ]
  },
  {
   "cell_type": "code",
   "execution_count": 97,
   "metadata": {},
   "outputs": [
    {
     "name": "stdout",
     "output_type": "stream",
     "text": [
      "                            OLS Regression Results                            \n",
      "==============================================================================\n",
      "Dep. Variable:          total_rentals   R-squared:                       0.348\n",
      "Model:                            OLS   Adj. R-squared:                  0.347\n",
      "Method:                 Least Squares   F-statistic:                     526.9\n",
      "Date:                Wed, 20 Nov 2019   Prob (F-statistic):               0.00\n",
      "Time:                        14:44:05   Log-Likelihood:                -69720.\n",
      "No. Observations:               10886   AIC:                         1.395e+05\n",
      "Df Residuals:                   10874   BIC:                         1.396e+05\n",
      "Df Model:                          11                                         \n",
      "Covariance Type:            nonrobust                                         \n",
      "====================================================================================\n",
      "                       coef    std err          t      P>|t|      [0.025      0.975]\n",
      "------------------------------------------------------------------------------------\n",
      "const               62.5476     10.227      6.116      0.000      42.501      82.595\n",
      "workingday          -0.6046      3.017     -0.200      0.841      -6.518       5.308\n",
      "weather             -7.4443      2.502     -2.976      0.003     -12.348      -2.541\n",
      "temp                 8.8229      0.313     28.219      0.000       8.210       9.436\n",
      "humidity            -2.0573      0.093    -22.065      0.000      -2.240      -1.875\n",
      "windspeed            0.3501      0.185      1.890      0.059      -0.013       0.713\n",
      "sunspots            -3.4336      1.719     -1.997      0.046      -6.804      -0.063\n",
      "season_1           -56.2676      5.574    -10.094      0.000     -67.194     -45.341\n",
      "season_2            -9.4420      4.691     -2.013      0.044     -18.638      -0.246\n",
      "season_3            -8.2048      4.743     -1.730      0.084     -17.501       1.092\n",
      "daytime             67.9608      3.235     21.005      0.000      61.619      74.303\n",
      "hours_since_open     0.0148      0.001     28.849      0.000       0.014       0.016\n",
      "==============================================================================\n",
      "Omnibus:                     2134.513   Durbin-Watson:                   0.534\n",
      "Prob(Omnibus):                  0.000   Jarque-Bera (JB):             4087.602\n",
      "Skew:                           1.203   Prob(JB):                         0.00\n",
      "Kurtosis:                       4.796   Cond. No.                     4.78e+04\n",
      "==============================================================================\n",
      "\n",
      "Warnings:\n",
      "[1] Standard Errors assume that the covariance matrix of the errors is correctly specified.\n",
      "[2] The condition number is large, 4.78e+04. This might indicate that there are\n",
      "strong multicollinearity or other numerical problems.\n"
     ]
    }
   ],
   "source": [
    "X3C = sm.add_constant(X3)\n",
    "results = sm.OLS(y3, X3C).fit()\n",
    "print(results.summary())"
   ]
  },
  {
   "cell_type": "code",
   "execution_count": 98,
   "metadata": {},
   "outputs": [],
   "source": [
    "feature_cols4 = ['temp', 'humidity', 'season_1', 'season_2', 'daytime', 'hours_since_open']\n",
    "X4 = bikes[feature_cols4]\n",
    "y4 = bikes.total_rentals"
   ]
  },
  {
   "cell_type": "code",
   "execution_count": 99,
   "metadata": {},
   "outputs": [
    {
     "name": "stdout",
     "output_type": "stream",
     "text": [
      "                            OLS Regression Results                            \n",
      "==============================================================================\n",
      "Dep. Variable:          total_rentals   R-squared:                       0.347\n",
      "Model:                            OLS   Adj. R-squared:                  0.346\n",
      "Method:                 Least Squares   F-statistic:                     961.6\n",
      "Date:                Wed, 20 Nov 2019   Prob (F-statistic):               0.00\n",
      "Time:                        14:47:06   Log-Likelihood:                -69730.\n",
      "No. Observations:               10886   AIC:                         1.395e+05\n",
      "Df Residuals:                   10879   BIC:                         1.395e+05\n",
      "Df Model:                           6                                         \n",
      "Covariance Type:            nonrobust                                         \n",
      "====================================================================================\n",
      "                       coef    std err          t      P>|t|      [0.025      0.975]\n",
      "------------------------------------------------------------------------------------\n",
      "const               52.6050      7.258      7.248      0.000      38.378      66.832\n",
      "temp                 8.9587      0.303     29.605      0.000       8.365       9.552\n",
      "humidity            -2.1794      0.078    -27.907      0.000      -2.332      -2.026\n",
      "season_1           -54.0104      5.469     -9.876      0.000     -64.731     -43.290\n",
      "season_2            -6.0962      4.302     -1.417      0.157     -14.529       2.337\n",
      "daytime             66.9835      3.178     21.075      0.000      60.753      73.214\n",
      "hours_since_open     0.0152      0.000     32.503      0.000       0.014       0.016\n",
      "==============================================================================\n",
      "Omnibus:                     2122.414   Durbin-Watson:                   0.533\n",
      "Prob(Omnibus):                  0.000   Jarque-Bera (JB):             4054.125\n",
      "Skew:                           1.198   Prob(JB):                         0.00\n",
      "Kurtosis:                       4.789   Cond. No.                     3.55e+04\n",
      "==============================================================================\n",
      "\n",
      "Warnings:\n",
      "[1] Standard Errors assume that the covariance matrix of the errors is correctly specified.\n",
      "[2] The condition number is large, 3.55e+04. This might indicate that there are\n",
      "strong multicollinearity or other numerical problems.\n"
     ]
    }
   ],
   "source": [
    "X4C = sm.add_constant(X4)\n",
    "results = sm.OLS(y4, X4C).fit()\n",
    "print(results.summary())"
   ]
  },
  {
   "cell_type": "markdown",
   "metadata": {},
   "source": [
    "### Evaluating Models / Comparing Models\n",
    "---\n",
    "\n",
    "We can make linear models now, but how do we select the \"best\" model to use for our applications? \n",
    "\n",
    "These are three different questions:\n",
    "1.  How well does the model fit the observed data (training set)\n",
    "2.  How well will the model predict future observations\n",
    "3.  What is the best model for the business scenario (i.e. taking into account the reward for predicting correctly and the penalty for making an error).\n",
    "\n",
    "Accuracy on the training set may differ from accuracy when the model goes into production for two reasons\n",
    "1.  The training set was too small -- important features in the population didn't show up enough to be noticed\n",
    "2.  The model found spurious signal in the training set \"total sales is higher on days that begin with 'T'.\" (Overfitting)\n"
   ]
  },
  {
   "cell_type": "code",
   "execution_count": null,
   "metadata": {},
   "outputs": [],
   "source": []
  }
 ],
 "metadata": {
  "kernelspec": {
   "display_name": "Python 3",
   "language": "python",
   "name": "python3"
  },
  "language_info": {
   "codemirror_mode": {
    "name": "ipython",
    "version": 3
   },
   "file_extension": ".py",
   "mimetype": "text/x-python",
   "name": "python",
   "nbconvert_exporter": "python",
   "pygments_lexer": "ipython3",
   "version": "3.7.0"
  }
 },
 "nbformat": 4,
 "nbformat_minor": 1
}
