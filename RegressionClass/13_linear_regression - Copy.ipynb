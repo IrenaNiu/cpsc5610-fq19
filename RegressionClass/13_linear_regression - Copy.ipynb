{
 "cells": [
  {
   "cell_type": "markdown",
   "metadata": {},
   "source": [
    "### Linear Regression\n",
    "\n",
    "Other Sources:\n",
    "- Here is a <a href=\"https://www.hackerearth.com/practice/machine-learning/machine-learning-algorithms/beginners-guide-regression-analysis-plot-interpretations/tutorial/\">nice introductory article</a>.  It gives some additional attention to examining and evaluating the regression model. The code is written in R rather than Python, but it shouldn't be hard to interpret the few lines of R code. \n",
    "- Text section 18.6 cover the material theoretically and quickly.  Don't worry about the material on gradient descent.\n",
    "- Chapter 3 of <a href=\"https://www-bcf.usc.edu/~gareth/ISL/ISLR%20First%20Printing.pdf\">An Introduction to Statistical Learning</a> is your best bet for a deeper treatment, even though R is the language of choice.  In fact, that should be your go-to book for more machine learning material.\n",
    "\n",
    "Objectives:\n",
    "- Define data modeling and simple linear regression\n",
    "- Show various steps in examining a data set and preparing it for input to a learning library\n",
    "- Build a linear regression model using Python libraries\n",
    "- Understand how to evaluate the quality of a model and compare it alternative models"
   ]
  },
  {
   "cell_type": "markdown",
   "metadata": {},
   "source": [
    "##### The Bikeshare Data Set"
   ]
  },
  {
   "cell_type": "markdown",
   "metadata": {},
   "source": [
    "We'll be working with a data set from Capital Bikeshare that was used in a [Kaggle competition](https://www.kaggle.com/c/bike-sharing-demand/data), but heavily modified for this class!\n",
    "\n",
    "The goal is to predict total ridership of Capital Bikeshare in any given hour."
   ]
  },
  {
   "cell_type": "markdown",
   "metadata": {},
   "source": [
    "### Capital Bikeshare Data Dictionary"
   ]
  },
  {
   "cell_type": "markdown",
   "metadata": {},
   "source": [
    "| Variable| Description |\n",
    "|---------|----------------|\n",
    "|rental_hour| hourly date + timestamp  |\n",
    "|season|  'winter', 'spring', 'summer', 'fall' |\n",
    "|workingday| whether the day is neither a weekend nor holiday|\n",
    "|weather| 1 -> Clear or partly cloudy;  2 -> Clouds and mist; 3 -> Light rain or snow;  4 -> Heavy rain or snow|\n",
    "|temp| temperature in Celsius|\n",
    "|humidity| relative humidity|\n",
    "|windspeed| wind speed|\n",
    "|total_rentals| number of total rentals|\n",
    "|sunspots| sunspot activity (0-2, none to high)|\n"
   ]
  },
  {
   "cell_type": "code",
   "execution_count": 2,
   "metadata": {},
   "outputs": [],
   "source": [
    "import pandas as pd\n",
    "import numpy as np\n",
    "import seaborn as sns\n",
    "import matplotlib.pyplot as plt\n",
    "%matplotlib inline\n",
    "plt.rcParams['figure.figsize'] = (12, 6)\n",
    "plt.rcParams['font.size'] = 14"
   ]
  },
  {
   "cell_type": "code",
   "execution_count": 3,
   "metadata": {},
   "outputs": [],
   "source": [
    "bikes = pd.read_csv('bikeshare.csv', parse_dates=['datetime'])"
   ]
  },
  {
   "cell_type": "code",
   "execution_count": 4,
   "metadata": {
    "scrolled": false
   },
   "outputs": [
    {
     "name": "stdout",
     "output_type": "stream",
     "text": [
      "<class 'pandas.core.frame.DataFrame'>\n",
      "RangeIndex: 10886 entries, 0 to 10885\n",
      "Data columns (total 12 columns):\n",
      "datetime      10886 non-null datetime64[ns]\n",
      "season        10886 non-null int64\n",
      "holiday       10886 non-null int64\n",
      "workingday    10886 non-null int64\n",
      "weather       10886 non-null int64\n",
      "temp          10886 non-null float64\n",
      "atemp         10886 non-null float64\n",
      "humidity      10886 non-null int64\n",
      "windspeed     10886 non-null float64\n",
      "casual        10886 non-null int64\n",
      "registered    10886 non-null int64\n",
      "count         10886 non-null int64\n",
      "dtypes: datetime64[ns](1), float64(3), int64(8)\n",
      "memory usage: 1020.6 KB\n"
     ]
    }
   ],
   "source": [
    "bikes.info()"
   ]
  },
  {
   "cell_type": "code",
   "execution_count": 5,
   "metadata": {},
   "outputs": [],
   "source": [
    "##  Drop holiday;  convert season;  keep weather;  drop atemp; drop casual and registered;  rename count"
   ]
  },
  {
   "cell_type": "code",
   "execution_count": 6,
   "metadata": {},
   "outputs": [],
   "source": [
    "bikes = pd.read_csv('bikeshare.csv', parse_dates=['datetime'])\n",
    "bikes.drop(columns=['holiday', 'atemp', 'casual', 'registered'], inplace=True)\n",
    "bikes.rename(columns={'count': 'total_rentals', 'datetime': 'rental_hour'}, inplace=True)\n",
    "bikes.season = bikes.season.replace({1: 'winter', 2: 'spring', 3: 'summer', 4: 'fall'})\n",
    "bikes['sunspots'] = np.random.randint(0, 3, bikes.shape[0])"
   ]
  },
  {
   "cell_type": "code",
   "execution_count": 7,
   "metadata": {},
   "outputs": [
    {
     "name": "stdout",
     "output_type": "stream",
     "text": [
      "<class 'pandas.core.frame.DataFrame'>\n",
      "RangeIndex: 10886 entries, 0 to 10885\n",
      "Data columns (total 9 columns):\n",
      "rental_hour      10886 non-null datetime64[ns]\n",
      "season           10886 non-null object\n",
      "workingday       10886 non-null int64\n",
      "weather          10886 non-null int64\n",
      "temp             10886 non-null float64\n",
      "humidity         10886 non-null int64\n",
      "windspeed        10886 non-null float64\n",
      "total_rentals    10886 non-null int64\n",
      "sunspots         10886 non-null int32\n",
      "dtypes: datetime64[ns](1), float64(2), int32(1), int64(4), object(1)\n",
      "memory usage: 723.0+ KB\n"
     ]
    }
   ],
   "source": [
    "bikes.info()"
   ]
  },
  {
   "cell_type": "markdown",
   "metadata": {},
   "source": [
    "### Linear Regression Basics\n",
    "---"
   ]
  },
  {
   "cell_type": "markdown",
   "metadata": {},
   "source": [
    "### Form of Linear Regression\n",
    "\n",
    "Think of our data frame as a set of observations of the form:  \n",
    "$$(x_{i1}, x_{i2}, \\ldots, x_{ik}, y_i)$$ \n",
    "\n",
    "where the $x$ are the \"independent variables\" and $y$ is the \"dependent variable\".  We are trying to find a function of the $x$ variables that predict the value of the $y$ variable.   We have $n$ observations and $k$ independent variables (features).\n",
    "\n",
    "*  *Regression*  the $y$ variable is numeric and ordered -- for example temperature or number of rentals\n",
    "*  *Classification* the $y$ variable is taken from a set -- for example true/false or {red, green, blue}\n",
    "\n",
    "*Linear* -- Start with the formula for a line:  $$y = \\alpha + \\beta x\\\\y = \\beta_0 + \\beta_1 x$$ \n",
    "(The second notation gives a consistent name to the coefficients.)\n",
    "\n",
    "* First statement of the linear regression problem:  find the values of $\\beta_0$ and $\\beta_1$ that best predict the $y$ values for all of our observations\n",
    "* Second statement of the problem:  since every model contains some amount of noise -- \"random irreducible error\" $\\epsilon$,  instead we are actually working optimizing $$y = \\beta_0 + \\beta_1  + \\epsilon$$\n",
    "where $\\epsilon$ is small and uncorrelated with $x$ and $y$.\n",
    "\n",
    "---\n",
    "\n",
    "Here, we will generalize this to $n$ independent variables as follows:\n",
    "\n",
    "$$y = \\beta_0 + \\beta_1x_1 + \\beta_2x_2 + ... + \\beta_nx_n + \\epsilon\\quad =\\quad \\beta_0 + (\\sum_{i=0}^{k} \\beta_ix_i) + \\epsilon$$\n",
    "\n",
    "- $y$ is the response.\n",
    "- $\\beta_0$ is the intercept.\n",
    "- $\\beta_1$ is the coefficient for $x_1$ (the first feature).\n",
    "- $\\beta_k$ is the coefficient for $x_k$ (the kth feature).\n",
    "- $\\epsilon$ is the _error_ term which is independent of x, y, and $k$\n"
   ]
  },
  {
   "cell_type": "markdown",
   "metadata": {},
   "source": [
    "A practical example of this applied to our data might be:\n",
    "\n",
    "$${\\tt total\\_rides} = 20 + -2 \\cdot {\\tt temp} + -3 \\cdot {\\tt windspeed}\\ +\\ ...\\ +\\ 0.1 \\cdot {\\tt sunspots}$$\n",
    "\n",
    "This equation is still called **linear** because the highest degree of the independent variables (e.g. $x_i$) is 1. Note that because the $\\beta$ values are constants, they will not be independent variables in the final model, as seen above."
   ]
  },
  {
   "cell_type": "markdown",
   "metadata": {},
   "source": [
    "<span style=\"color:blue; font-size:120%\"> What are the limits of this linearity assumption?  What kind of relationships can't we capture?  Can you think of real examples where linearity is violated?</span>"
   ]
  },
  {
   "cell_type": "markdown",
   "metadata": {},
   "source": [
    "---\n",
    "\n",
    "In the regression equation\n",
    "$y = \\beta_0 + \\beta_1x_1 + \\beta_2x_2 + ... + \\beta_nx_n + \\epsilon$\n",
    "\n",
    "the $\\beta$ values are called the **model coefficients**:\n",
    "\n",
    "- These values are estimated (or \"learned\") during the model fitting process using the **least squares criterion**.\n",
    "- Specifically, we are trying to find the line (mathematically) that minimizes the **sum of squared residuals** (or \"sum of squared errors\").\n",
    "- Once we've learned these coefficients, we can use the model to predict the response.\n",
    "\n",
    "![Estimating coefficients](notebook-files/estimating_coefficients.png)\n",
    "\n",
    "Earlier in the quarter we defined mean-squared error as follows:\n",
    "$$MSE = \\frac{1} {n} \\| \\hat{y}(\\mathbf{X}) - \\vec{y} \\|$$\n",
    "\n",
    "and said the algorithm chooses coefficients that minimize this quantity.\n",
    "\n",
    "In the diagram above:\n",
    "\n",
    "- The black dots are the **observed values** of x and y.\n",
    "- The blue line is our **least squares line**.\n",
    "- The red lines are the **residuals**, which are the vertical distances between the observed values and the least squares line.\n",
    "\n",
    "If there are two predictors, the model fits a plane, and residuals are the distance between the observed value and the least squares plane.\n",
    "\n",
    "![Regression with Two Variates](notebook-files/multiple_regression_plane.png)\n",
    "\n",
    "If there are more than two predictors, it's hard to visualize."
   ]
  },
  {
   "cell_type": "markdown",
   "metadata": {},
   "source": [
    "### Running a Regression using scikit-learn\n",
    "\n",
    "To fit the skitkit-learn data we have to make our observation data fit its model\n",
    "\n",
    "1. Features and response should be separate objects\n",
    "2. Features and response should be entirely numeric\n",
    "3. Features and response should be NumPy arrays (or easily converted to NumPy arrays)\n",
    "4. Features and response should have specific shapes (outlined below)"
   ]
  },
  {
   "cell_type": "markdown",
   "metadata": {},
   "source": [
    "<a id=\"building-a-linear-regression-model-in-sklearn\"></a>\n",
    "### Building a (Single) Linear Regression Model in sklearn"
   ]
  },
  {
   "cell_type": "markdown",
   "metadata": {},
   "source": [
    "#### Create a feature matrix called X that holds a `DataFrame` with only the temp variable and a `Series` called y that has the \"total_rentals\" column."
   ]
  },
  {
   "cell_type": "code",
   "execution_count": 8,
   "metadata": {},
   "outputs": [],
   "source": [
    "# Create X and y  try to predict total rentals from temperature (only)\n",
    "feature_cols = ['temp']\n",
    "X = bikes[feature_cols]\n",
    "y = bikes.total_rentals"
   ]
  },
  {
   "cell_type": "markdown",
   "metadata": {},
   "source": [
    "<span style=\"color:blue; font-size:120%\">Why do you think X is capitalized but y is not?</span>"
   ]
  },
  {
   "cell_type": "code",
   "execution_count": null,
   "metadata": {},
   "outputs": [],
   "source": [
    "print(type(X))\n",
    "print(type(y))\n",
    "print(X.shape)\n",
    "print(y.shape)"
   ]
  },
  {
   "cell_type": "markdown",
   "metadata": {},
   "source": [
    "\n",
    "### scikit-learn's Four-Step Modeling Pattern -- Same for Many Prediction Algorithms"
   ]
  },
  {
   "cell_type": "markdown",
   "metadata": {},
   "source": [
    "**Step 1:** Import the class you plan to use."
   ]
  },
  {
   "cell_type": "code",
   "execution_count": 11,
   "metadata": {},
   "outputs": [],
   "source": [
    "from sklearn.linear_model import LinearRegression"
   ]
  },
  {
   "cell_type": "code",
   "execution_count": 12,
   "metadata": {},
   "outputs": [
    {
     "data": {
      "text/plain": [
       "sklearn.linear_model.base.LinearRegression"
      ]
     },
     "execution_count": 12,
     "metadata": {},
     "output_type": "execute_result"
    }
   ],
   "source": [
    "# Make an instance of a LinearRegression object.\n",
    "lr = LinearRegression()\n",
    "type(lr)"
   ]
  },
  {
   "cell_type": "markdown",
   "metadata": {},
   "source": [
    "- Created an object that \"knows\" how to do linear regression, and is just waiting for data.\n",
    "- There are some algorithm-specific parameters to control the learner;  all have default values\n",
    "\n",
    "To view the possible parameters, either use the `help` built-in function or evaluate the newly instantiated model, as follows:"
   ]
  },
  {
   "cell_type": "code",
   "execution_count": null,
   "metadata": {},
   "outputs": [],
   "source": [
    "#help(lr)\n",
    "lr"
   ]
  },
  {
   "cell_type": "markdown",
   "metadata": {},
   "source": [
    "**Step 3:** Fit the model with data (aka \"model training\").\n",
    "\n",
    "- Model is \"learning\" the relationship between X and y in our \"training data.\"\n",
    "- Process through which learning occurs varies by model.\n",
    "- Occurs in-place."
   ]
  },
  {
   "cell_type": "code",
   "execution_count": 13,
   "metadata": {},
   "outputs": [
    {
     "data": {
      "text/plain": [
       "LinearRegression(copy_X=True, fit_intercept=True, n_jobs=1, normalize=False)"
      ]
     },
     "execution_count": 13,
     "metadata": {},
     "output_type": "execute_result"
    }
   ],
   "source": [
    "lr.fit(X, y)"
   ]
  },
  {
   "cell_type": "markdown",
   "metadata": {},
   "source": [
    "- Once a model has been fit with data, it's called a \"fitted model.\"\n",
    "- Next steps\n",
    "  - We can predict y values from an X vector\n",
    "  - We need to assess how good the model is as a predictor"
   ]
  },
  {
   "cell_type": "code",
   "execution_count": null,
   "metadata": {},
   "outputs": [],
   "source": [
    "# To get a prediction for one observation and one variable, we need a (1,1) array\n",
    "#    to predict two observations we need a (2,1) array, etc.\n",
    "print(lr.predict(np.array([11]).reshape(-1,1)))\n",
    "print(lr.predict(np.array([11, 5]).reshape(-1,1)))\n"
   ]
  },
  {
   "cell_type": "code",
   "execution_count": null,
   "metadata": {},
   "outputs": [],
   "source": [
    "# If we predict at x=0 we will get the intercept\n",
    "lr.predict(np.array([0]).reshape(-1,1))"
   ]
  },
  {
   "cell_type": "code",
   "execution_count": null,
   "metadata": {},
   "outputs": [],
   "source": [
    "lr.predict(np.array([0]).reshape(1,-1))"
   ]
  },
  {
   "cell_type": "code",
   "execution_count": null,
   "metadata": {},
   "outputs": [],
   "source": [
    "#  Just for convenience -- take a number (x) gets its predicted y\n",
    "def lrpred(xval):\n",
    "    return lr.predict(np.array([xval]).reshape(1,-1))[0]\n"
   ]
  },
  {
   "cell_type": "code",
   "execution_count": null,
   "metadata": {},
   "outputs": [],
   "source": [
    "# f(n+1) - f(n) should give us the slope always\n",
    "print(lrpred(4) - lrpred(3))\n",
    "print(lrpred(21) - lrpred(20))"
   ]
  },
  {
   "cell_type": "code",
   "execution_count": null,
   "metadata": {},
   "outputs": [],
   "source": [
    "lr.coef_"
   ]
  },
  {
   "cell_type": "code",
   "execution_count": null,
   "metadata": {},
   "outputs": [],
   "source": [
    "lr.intercept_"
   ]
  },
  {
   "cell_type": "code",
   "execution_count": null,
   "metadata": {},
   "outputs": [],
   "source": [
    "lr.predict([[0], [10], [100]])\n"
   ]
  },
  {
   "cell_type": "markdown",
   "metadata": {},
   "source": [
    "What we just predicted using our model is, \"If the temperature is 0 degrees, the total number of bike rentals will be ~6.046, and if the temperature is 10 degrees the total number of bike rentals will ~97.751.\""
   ]
  },
  {
   "cell_type": "markdown",
   "metadata": {},
   "source": [
    "<span style=\"color:blue;font-size=120%\">How would you informally confirm that these are reasonable predictions?</span>"
   ]
  },
  {
   "cell_type": "markdown",
   "metadata": {},
   "source": [
    "Interpreting the intercept ($\\beta_0$):\n",
    "\n",
    "- It is the value of $y$ when all independent variables are 0.\n",
    "- Here, it is the estimated number of rentals when the temperature is 0 degrees Celsius.\n",
    "- <span style=\"color:blue\">**Note:** It does not always make sense to interpret the intercept. (Why?)</span>\n",
    "\n",
    "Interpreting the \"temp\" coefficient ($\\beta_1$):\n",
    "\n",
    "- **Interpretation:** An increase of 1 degree Celcius is _associated with_ increasing the number of total rentals by $\\beta_1$.\n",
    "- Here, a temperature increase of 1 degree Celsius is _associated with_ a rental increase of 9.17 bikes.\n",
    "- This is not a statement of causation.\n",
    "- $\\beta_1$ would be **negative** if an increase in temperature was associated with a **decrease** in total rentals.\n",
    "- $\\beta_1$ would be **zero** if temperature is not associated with total rentals."
   ]
  },
  {
   "cell_type": "markdown",
   "metadata": {},
   "source": [
    "<a id=\"visualizing-the-data-part-\"></a>\n",
    "### Visualizing the Data (Part 2)"
   ]
  },
  {
   "cell_type": "markdown",
   "metadata": {},
   "source": [
    "#### Explore more features."
   ]
  },
  {
   "cell_type": "code",
   "execution_count": null,
   "metadata": {},
   "outputs": [],
   "source": [
    "# Create feature column variables\n",
    "feature_cols = ['temp', 'season_num', 'weather', 'humidity']"
   ]
  },
  {
   "cell_type": "markdown",
   "metadata": {},
   "source": [
    "#### Create a subset of scatterplot matrix using Seaborn.\n",
    "We can use pairplot with the y_vars argument to only show relationships with the `total_rentals` variable"
   ]
  },
  {
   "cell_type": "code",
   "execution_count": null,
   "metadata": {},
   "outputs": [],
   "source": [
    "bikes.columns"
   ]
  },
  {
   "cell_type": "code",
   "execution_count": null,
   "metadata": {},
   "outputs": [],
   "source": [
    "# multiple scatterplots in Seaborn\n",
    "sns.pairplot(bikes, x_vars=feature_cols, y_vars='total_rentals', kind='reg');"
   ]
  },
  {
   "cell_type": "markdown",
   "metadata": {},
   "source": [
    "#### Recreate the same functionality using Pandas."
   ]
  },
  {
   "cell_type": "code",
   "execution_count": null,
   "metadata": {},
   "outputs": [],
   "source": [
    "# Multiple scatterplots in Pandas -- put plots on a 1x4 grid, and force the same Y axis\n",
    "fig, axs = plt.subplots(1, len(feature_cols), sharey=True)\n",
    "for index, feature in enumerate(feature_cols):\n",
    "    bikes.plot(kind='scatter', x=feature, y='total_rentals', ax=axs[index], figsize=(16, 3))"
   ]
  },
  {
   "cell_type": "markdown",
   "metadata": {},
   "source": [
    "You generally don't want to see variables with a small number of integer indexes -- these are *categorical* variables, but the regression treats them as real-valued.  So it thinks that season = 2 is \"greater than\" season = 1.  Since season gets a single coefficient in the regression, and \"increase\" in season always has the same effect on the dependent variable.  Be sure that's what you want!   Is it true of weather for example?"
   ]
  },
  {
   "cell_type": "markdown",
   "metadata": {},
   "source": [
    "#### Look at rentals over time."
   ]
  },
  {
   "cell_type": "code",
   "execution_count": null,
   "metadata": {},
   "outputs": [],
   "source": [
    "# Line plot of rentals\n",
    "bikes.total_rentals.plot();"
   ]
  },
  {
   "cell_type": "markdown",
   "metadata": {},
   "source": [
    "#### What does this tell us?\n",
    "\n",
    "There are more rentals in the winter than the spring, but only because the system is experiencing overall growth and the winter months happen to come after the spring months.\n",
    "\n",
    "So does overall growth completely explain the model?"
   ]
  },
  {
   "cell_type": "code",
   "execution_count": null,
   "metadata": {},
   "outputs": [],
   "source": [
    "df = pd.DataFrame(bikes['total_rentals'])\n",
    "df['hours_since_open'] = range(0, bikes.shape[0])\n",
    "sns.lmplot(x='hours_since_open', y='total_rentals', data=df, aspect=1.5, scatter_kws={'alpha':0.2});"
   ]
  },
  {
   "cell_type": "markdown",
   "metadata": {},
   "source": [
    "Question for later: how much better -- if at all -- is any model we build from the column featues than this model?"
   ]
  },
  {
   "cell_type": "markdown",
   "metadata": {},
   "source": [
    "#### Look at the correlation matrix for the bikes `DataFrame`."
   ]
  },
  {
   "cell_type": "code",
   "execution_count": null,
   "metadata": {},
   "outputs": [],
   "source": [
    "# Correlation matrix (ranges from 1 to -1)\n",
    "bikes.corr()"
   ]
  },
  {
   "cell_type": "markdown",
   "metadata": {},
   "source": [
    "#### Use a heat map to make it easier to read the correlation matrix."
   ]
  },
  {
   "cell_type": "code",
   "execution_count": null,
   "metadata": {},
   "outputs": [],
   "source": [
    "# Visualize correlation matrix in Seaborn using a heat map.\n",
    "sns.heatmap(bikes.corr())"
   ]
  },
  {
   "cell_type": "markdown",
   "metadata": {},
   "source": [
    "<span style=\"color:blue;font-size=120%\">What relationships do you notice and which are important for our model building?</span>"
   ]
  },
  {
   "cell_type": "markdown",
   "metadata": {},
   "source": [
    "### Adding More Features to the Model"
   ]
  },
  {
   "cell_type": "markdown",
   "metadata": {},
   "source": [
    "In the previous example, one variable explained the variance of another; however, more often than not, we will need multiple variables. \n",
    "\n",
    "- For example, a house's price may be best measured by square feet, but a lot of other variables play a vital role: bedrooms, bathrooms, location, appliances, etc. \n",
    "\n",
    "- For a linear regression, we want these variables to be largely independent of one another, but all of them should help explain the y variable.\n",
    "\n",
    "We'll work with bikeshare data to showcase what this means and to explain a concept called *multicollinearity*."
   ]
  },
  {
   "cell_type": "markdown",
   "metadata": {},
   "source": [
    "#### Create another `LinearRegression` instance that is fit using temp, season, weather, and humidity."
   ]
  },
  {
   "cell_type": "code",
   "execution_count": 14,
   "metadata": {},
   "outputs": [],
   "source": [
    "# Create a list of features.\n",
    "feature_cols = ['temp', 'season_num', 'weather', 'humidity']"
   ]
  },
  {
   "cell_type": "code",
   "execution_count": null,
   "metadata": {},
   "outputs": [],
   "source": [
    "# Create X and y.\n",
    "X = bikes[feature_cols]\n",
    "y = bikes.total_rentals\n",
    "\n",
    "# Instantiate and fit.\n",
    "linreg = LinearRegression()\n",
    "linreg.fit(X, y)\n",
    "\n",
    "# Print the coefficients.\n",
    "print(linreg.intercept_)\n",
    "print(linreg.coef_)"
   ]
  },
  {
   "cell_type": "markdown",
   "metadata": {},
   "source": [
    "#### Display the linear regression coefficient along with the feature names."
   ]
  },
  {
   "cell_type": "code",
   "execution_count": null,
   "metadata": {},
   "outputs": [],
   "source": [
    "# Pair the feature names with the coefficients.\n",
    "list(zip(feature_cols, linreg.coef_))"
   ]
  },
  {
   "cell_type": "markdown",
   "metadata": {},
   "source": [
    "Interpreting the coefficients:\n",
    "\n",
    "- Holding all other features fixed, a 1-unit increase in temperature is associated with a rental increase of 7.86 bikes.\n",
    "- Holding all other features fixed, a 1-unit increase in season is associated with a rental increase of 22.5 bikes.\n",
    "- Holding all other features fixed, a 1-unit increase in weather is associated with a rental increase of 6.67 bikes.\n",
    "- Holding all other features fixed, a 1-unit increase in humidity is associated with a rental decrease of 3.12 bikes.\n",
    "\n",
    "Does anything look incorrect and does not reflect reality?"
   ]
  },
  {
   "cell_type": "markdown",
   "metadata": {},
   "source": [
    "\n",
    "### What Is Multicollinearity?\n",
    "---\n",
    "\n",
    "Multicollinearity happens when two or more features are highly correlated with each other. The problem is that due to the high correlation, it's hard to disambiguate which feature has what kind of effect on the outcome. In other words, the features mask each other. \n",
    "\n",
    "There is a second related issue called variance inflation where including correlated features increases the variability of our model and p-values by widening the standard errors. This can be measured with the variance inflation factor, which we will not cover here."
   ]
  },
  {
   "cell_type": "markdown",
   "metadata": {},
   "source": [
    "#### With the bikeshare data, let's compare three data points: actual temperature, \"feel\" temperature, and guest ridership."
   ]
  },
  {
   "cell_type": "code",
   "execution_count": null,
   "metadata": {},
   "outputs": [],
   "source": [
    "cmap = sns.diverging_palette(220, 10, as_cmap=True)\n",
    "correlations = bikes[['temp', 'atemp', 'casual']].corr()\n",
    "print(correlations)\n",
    "print(sns.heatmap(correlations, cmap=cmap))"
   ]
  },
  {
   "cell_type": "markdown",
   "metadata": {},
   "source": [
    "It is common for a data set to have sets of highly correlated variables.  Generally a good policy is to choose one from each set.   \n",
    "\n",
    "<span style=\"color:blue;font-size=120%\">Best guess as to a good model to predict total_rentals?</span>\n",
    "\n",
    "Let's build it then figure out how to measure \"goodness,\" then see how good it is."
   ]
  },
  {
   "cell_type": "code",
   "execution_count": null,
   "metadata": {},
   "outputs": [],
   "source": [
    "feature_cols = ['YOUR COLUMNS HERE']\n",
    "X = bikes[feature_cols]\n",
    "y = bikes.total_rentals\n",
    "\n",
    "# Instantiate and fit.\n",
    "bestModel = LinearRegression()\n",
    "bestModel.fit(X, y)"
   ]
  },
  {
   "cell_type": "markdown",
   "metadata": {},
   "source": [
    "### Evaluating Models / Comparing Models\n",
    "---\n",
    "\n",
    "We can make linear models now, but how do we select the \"best\" model to use for our applications? \n",
    "\n",
    "These are three different questions:\n",
    "1.  How well does the model fit the observed data (training set)\n",
    "2.  How well will the model predict future observations\n",
    "3.  What is the best model for the business scenario (i.e. taking into account the reward for predicting correctly and the penalty for making an error).\n",
    "\n",
    "Accuracy on the training set may differ from accuracy when the model goes into production for two reasons\n",
    "1.  The training set was too small -- important features in the population didn't show up enough to be noticed\n",
    "2.  The model found spurious signal in the training set \"total sales is higher on days that begin with 'T'.\" (Overfitting)\n",
    "\n",
    "Looking at the first:\n",
    "* The $R^2$ statistic -- the amount the model reduces variability\n",
    "* Significance tests on the slope coefficient(s) -- if a variable's coefficient is 0, then it is not adding predictive power\n"
   ]
  },
  {
   "cell_type": "markdown",
   "metadata": {},
   "source": [
    "### Statistics from the Residuals\n",
    "\n",
    "**Residual sum of squares**\n",
    "\n",
    "$$\n",
    "\\begin{aligned}\n",
    "\\| \\vec{actual} - \\vec{predicted} \\|  & =\\sqrt{(actual_1 - predicted_1)^2 + (actual_2 - predicted_2)^2 + \\ldots + (actual_n - predicted_n)^2}\\\\\n",
    "&= \\sqrt{\\sum_{i=1}^{n} (actual_i - predicted_i)^2}\\\\\n",
    "&= \\sqrt{\\sum_{i=1}^{n} (y_i - \\hat{y})^2}\n",
    "\\end{aligned}\n",
    "$$\n",
    "$$\n",
    "\\begin{aligned}\n",
    "RSS &= \\sum_{i=1}^{n} (y_i - \\hat{y})^2\\\\\n",
    "MSE &= \\frac{\\sum_{i=1}^{n} (y_i - \\hat{y})^2}{n}\n",
    "\\end{aligned}\n",
    "$$\n",
    "\n",
    "Remember, the regression chooses coefficients and intercept to minimize this value **MSE**\n",
    "\n",
    "\n",
    "There are several reasons why a linear model of $f(x)$, $\\hat{f}(x)$ will differ from the true $f(x)$\n",
    "1. The real $f(\\overrightarrow{x})$ is not linear, so $\\hat{f}$ cannot provide a good approximation\n",
    "2. The variables used in training $\\hat{f}$ are not the same inputs as to the true $f$ -- most often $f$ depends on some unobserved factors as well as $\\overrightarrow{x}$ \n",
    "3. The noise term $\\epsilon$ makes it hard for any model to predict $f$ well\n",
    "\n",
    "When we are comparing linear models with different sets of predictive variables, we can only measure the second.\n",
    "\n",
    "**Total sum of squares**\n",
    "$$TSS = \\sum_{i=1}^n(y_i - \\overline{y})^2$$\n",
    "Standard definition of deviance of observations from the mean -- model independent.\n",
    "\n",
    "**R-squared is proportion of the total variance accounted for by the model**\n",
    "$$R^2 \\quad=\\quad \\frac{(TSS - RSS)}{TSS} \\quad = \\quad 1 - \\frac{RSS}{TSS}$$\n",
    "If RSS = 0 then $R^2$ = 1 which means RSS accounts for 100% of the variance (it perfectly predicts the observed).  If $RSS = TSS$ then the regression does not reduce any variance (worst case model), same as guessing at the mean.\n",
    "\n",
    "$R^2$ is a ratio (unit-free) so can be compared across models, but not clear what a \"good enough\" value is.  At least partially depends on what we know about the underlying system -- contributors to low values might be\n",
    "* Underlying system is not linear -- so linear model will no do well\n",
    "* Underlying system is linear, but we are missing key variates\n",
    "\n",
    "**Adjusted R-squared adjusts for number of variables in the model**\n",
    "$R^2$ increases as more predictors are added to the model, regardless of whether they improve prediction.\n",
    "The adjusted version corrects for this\n",
    "$$ {R}^{2}_{adj \\quad}= \\quad 1-\\left[\\frac{(1-R^{2})(n-1)}{n-p-1}\\right]$$\n",
    "where $n$ is the number of observations and $p$ is the number of variables in the model"
   ]
  },
  {
   "cell_type": "code",
   "execution_count": null,
   "metadata": {},
   "outputs": [],
   "source": [
    "def tss(actual):\n",
    "    return ((actual - actual.mean())**2).sum()\n",
    "\n",
    "def rss(actual, predicted):\n",
    "    return ((actual - predicted)**2).sum()\n",
    "\n",
    "def rsquared(actual, predicted):\n",
    "    return (tss(actual) - rss(actual, predicted))/tss(actual)\n",
    "\n",
    "def adjust_rsquared(rquared, n, p):\n",
    "    return 1 - ((1-rsquared) * (n - 1) /(n - p - 1))\n"
   ]
  },
  {
   "cell_type": "code",
   "execution_count": null,
   "metadata": {},
   "outputs": [],
   "source": [
    "#  Examine adjusted rsqured from (a) predict at the mean, (b) our first model, (c) our best model"
   ]
  },
  {
   "cell_type": "markdown",
   "metadata": {},
   "source": [
    "### Standard Regression Summary\n",
    "\n",
    "Most software gives you a table summarizing the regression and giving some \"quality\" statistics.  \n",
    "A different python package does -- here is an example\n",
    "  * The add_constant step adds a column of 1's to the X matrix -- we get the intercept from that\n",
    "  * I added a random uncorrelated X variable for illustration"
   ]
  },
  {
   "cell_type": "code",
   "execution_count": 15,
   "metadata": {},
   "outputs": [
    {
     "name": "stdout",
     "output_type": "stream",
     "text": [
      "                            OLS Regression Results                            \n",
      "==============================================================================\n",
      "Dep. Variable:          total_rentals   R-squared:                       0.175\n",
      "Model:                            OLS   Adj. R-squared:                  0.174\n",
      "Method:                 Least Squares   F-statistic:                     461.0\n",
      "Date:                Wed, 06 Mar 2019   Prob (F-statistic):               0.00\n",
      "Time:                        18:14:58   Log-Likelihood:                -71000.\n",
      "No. Observations:               10886   AIC:                         1.420e+05\n",
      "Df Residuals:                   10880   BIC:                         1.421e+05\n",
      "Df Model:                           5                                         \n",
      "Covariance Type:            nonrobust                                         \n",
      "==============================================================================\n",
      "                 coef    std err          t      P>|t|      [0.025      0.975]\n",
      "------------------------------------------------------------------------------\n",
      "const        -64.2454      7.044     -9.121      0.000     -78.052     -50.439\n",
      "temp           4.4855      1.202      3.731      0.000       2.129       6.842\n",
      "atemp          3.9554      1.107      3.572      0.000       1.785       6.126\n",
      "windspeed      2.8335      0.201     14.130      0.000       2.440       3.227\n",
      "season_num    13.5251      1.480      9.139      0.000      10.624      16.426\n",
      "rand           0.0533      0.109      0.488      0.625      -0.161       0.267\n",
      "==============================================================================\n",
      "Omnibus:                     1874.733   Durbin-Watson:                   0.384\n",
      "Prob(Omnibus):                  0.000   Jarque-Bera (JB):             3245.407\n",
      "Skew:                           1.121   Prob(JB):                         0.00\n",
      "Kurtosis:                       4.459   Cond. No.                         197.\n",
      "==============================================================================\n",
      "\n",
      "Warnings:\n",
      "[1] Standard Errors assume that the covariance matrix of the errors is correctly specified.\n"
     ]
    }
   ],
   "source": [
    "import statsmodels.api as sm\n",
    "bikes['rand'] = 50*np.random.rand(bikes.shape[0])\n",
    "X = sm.add_constant(bikes[['temp', 'atemp', 'windspeed', 'season_num', 'rand']])\n",
    "y = bikes['total_rentals']\n",
    "results = sm.OLS(y, X).fit()\n",
    "print(results.summary())"
   ]
  },
  {
   "cell_type": "markdown",
   "metadata": {},
   "source": [
    "**Highlights of the Regression Results Table**\n",
    "* The F-statistic tests the hypothesis \"all of the coefficients are 0\" -- it's a ratio, and a value of 1 indicates no relationship.  The F-statistic strongly indicates that the model is better at predicting total rentals than using the mean value\n",
    "* For the intercept and coefficients, the $p$ value tests the hypothesis that the parameter is 0.  Values close 0 mean the parameter is unlikely to be 0.  Notice the confidence interval and $p$ value for *rand* -- its coefficient is very likely to be 0. "
   ]
  },
  {
   "cell_type": "code",
   "execution_count": 16,
   "metadata": {},
   "outputs": [
    {
     "data": {
      "text/plain": [
       "0.17480878391743915"
      ]
     },
     "execution_count": 16,
     "metadata": {},
     "output_type": "execute_result"
    }
   ],
   "source": [
    "## Get the R^2 without needing the whole table\n",
    "from sklearn.metrics import r2_score\n",
    "lr = LinearRegression()\n",
    "lr.fit(X, y)\n",
    "r2_score(y, lr.predict(X))"
   ]
  },
  {
   "cell_type": "code",
   "execution_count": 17,
   "metadata": {},
   "outputs": [
    {
     "data": {
      "text/plain": [
       "0.17479070911654182"
      ]
     },
     "execution_count": 17,
     "metadata": {},
     "output_type": "execute_result"
    }
   ],
   "source": [
    "## Get rid of the random variable  -- wouldn't expect it to hurt the model that much\n",
    "X = bikes[['temp', 'atemp', 'windspeed', 'season_num']]\n",
    "y = bikes['total_rentals']\n",
    "lr.fit(X, y)\n",
    "r2_score(y, lr.predict(X))"
   ]
  },
  {
   "cell_type": "markdown",
   "metadata": {},
   "source": [
    "\n",
    "<a id=\"handling-categorical-features\"></a>\n",
    "### Handling Categorical Features\n",
    "\n",
    "scikit-learn expects all features to be numeric. So how do we include a categorical feature in our model?\n",
    "\n",
    "- **Ordered categories:** Transform them to sensible numeric values (example: small=1, medium=2, large=3)\n",
    "- **Unordered categories:** Use dummy encoding (0/1). Here, each possible category would become a separate feature.\n",
    "\n",
    "What are the categorical features in our data set?\n",
    "\n",
    "- **Ordered categories:** `weather` (already encoded with sensible numeric values)\n",
    "- **Unordered categories:** `season` (needs dummy encoding), `holiday` (already dummy encoded), `workingday` (already dummy encoded)\n",
    "\n",
    "For season, we can't simply leave the encoding as 1 = spring, 2 = summer, 3 = fall, and 4 = winter, because that would imply an ordered relationship. Instead, we create multiple dummy variables."
   ]
  },
  {
   "cell_type": "markdown",
   "metadata": {},
   "source": [
    "#### Create dummy variables using `get_dummies` from Pandas."
   ]
  },
  {
   "cell_type": "code",
   "execution_count": 18,
   "metadata": {},
   "outputs": [],
   "source": [
    "season_dummies = pd.get_dummies(bikes.season_num, prefix='season')"
   ]
  },
  {
   "cell_type": "markdown",
   "metadata": {},
   "source": [
    "#### Inspect the `DataFrame` of `dummies`."
   ]
  },
  {
   "cell_type": "code",
   "execution_count": 19,
   "metadata": {},
   "outputs": [
    {
     "data": {
      "text/html": [
       "<div>\n",
       "<style scoped>\n",
       "    .dataframe tbody tr th:only-of-type {\n",
       "        vertical-align: middle;\n",
       "    }\n",
       "\n",
       "    .dataframe tbody tr th {\n",
       "        vertical-align: top;\n",
       "    }\n",
       "\n",
       "    .dataframe thead th {\n",
       "        text-align: right;\n",
       "    }\n",
       "</style>\n",
       "<table border=\"1\" class=\"dataframe\">\n",
       "  <thead>\n",
       "    <tr style=\"text-align: right;\">\n",
       "      <th></th>\n",
       "      <th>season_1</th>\n",
       "      <th>season_2</th>\n",
       "      <th>season_3</th>\n",
       "      <th>season_4</th>\n",
       "    </tr>\n",
       "  </thead>\n",
       "  <tbody>\n",
       "    <tr>\n",
       "      <th>3709</th>\n",
       "      <td>0</td>\n",
       "      <td>0</td>\n",
       "      <td>1</td>\n",
       "      <td>0</td>\n",
       "    </tr>\n",
       "    <tr>\n",
       "      <th>6741</th>\n",
       "      <td>1</td>\n",
       "      <td>0</td>\n",
       "      <td>0</td>\n",
       "      <td>0</td>\n",
       "    </tr>\n",
       "    <tr>\n",
       "      <th>9848</th>\n",
       "      <td>0</td>\n",
       "      <td>0</td>\n",
       "      <td>0</td>\n",
       "      <td>1</td>\n",
       "    </tr>\n",
       "    <tr>\n",
       "      <th>1410</th>\n",
       "      <td>0</td>\n",
       "      <td>1</td>\n",
       "      <td>0</td>\n",
       "      <td>0</td>\n",
       "    </tr>\n",
       "    <tr>\n",
       "      <th>10672</th>\n",
       "      <td>0</td>\n",
       "      <td>0</td>\n",
       "      <td>0</td>\n",
       "      <td>1</td>\n",
       "    </tr>\n",
       "  </tbody>\n",
       "</table>\n",
       "</div>"
      ],
      "text/plain": [
       "       season_1  season_2  season_3  season_4\n",
       "3709          0         0         1         0\n",
       "6741          1         0         0         0\n",
       "9848          0         0         0         1\n",
       "1410          0         1         0         0\n",
       "10672         0         0         0         1"
      ]
     },
     "execution_count": 19,
     "metadata": {},
     "output_type": "execute_result"
    }
   ],
   "source": [
    "# Print five random rows.\n",
    "season_dummies.sample(n=5, random_state=1)"
   ]
  },
  {
   "cell_type": "markdown",
   "metadata": {},
   "source": [
    "However, we actually only need three dummy variables (not four), and thus we'll drop the first dummy variable.\n",
    "\n",
    "Why? Because three dummies captures all of the \"information\" about the season feature, and implicitly defines spring (season 1) as the baseline level.\n",
    "\n",
    "This circles back to the concept multicollinearity, except instead of one feature being highly correlated to another, the information gained from three features is directly correlated to the fourth."
   ]
  },
  {
   "cell_type": "markdown",
   "metadata": {},
   "source": [
    "#### Drop the first column."
   ]
  },
  {
   "cell_type": "code",
   "execution_count": 20,
   "metadata": {},
   "outputs": [],
   "source": [
    "season_dummies.drop(season_dummies.columns[0], axis=1, inplace=True)"
   ]
  },
  {
   "cell_type": "code",
   "execution_count": 22,
   "metadata": {},
   "outputs": [
    {
     "data": {
      "text/html": [
       "<div>\n",
       "<style scoped>\n",
       "    .dataframe tbody tr th:only-of-type {\n",
       "        vertical-align: middle;\n",
       "    }\n",
       "\n",
       "    .dataframe tbody tr th {\n",
       "        vertical-align: top;\n",
       "    }\n",
       "\n",
       "    .dataframe thead th {\n",
       "        text-align: right;\n",
       "    }\n",
       "</style>\n",
       "<table border=\"1\" class=\"dataframe\">\n",
       "  <thead>\n",
       "    <tr style=\"text-align: right;\">\n",
       "      <th></th>\n",
       "      <th>season_2</th>\n",
       "      <th>season_3</th>\n",
       "      <th>season_4</th>\n",
       "    </tr>\n",
       "  </thead>\n",
       "  <tbody>\n",
       "    <tr>\n",
       "      <th>0</th>\n",
       "      <td>0</td>\n",
       "      <td>0</td>\n",
       "      <td>0</td>\n",
       "    </tr>\n",
       "    <tr>\n",
       "      <th>1</th>\n",
       "      <td>0</td>\n",
       "      <td>0</td>\n",
       "      <td>0</td>\n",
       "    </tr>\n",
       "    <tr>\n",
       "      <th>2</th>\n",
       "      <td>0</td>\n",
       "      <td>0</td>\n",
       "      <td>0</td>\n",
       "    </tr>\n",
       "    <tr>\n",
       "      <th>3</th>\n",
       "      <td>0</td>\n",
       "      <td>0</td>\n",
       "      <td>0</td>\n",
       "    </tr>\n",
       "    <tr>\n",
       "      <th>4</th>\n",
       "      <td>0</td>\n",
       "      <td>0</td>\n",
       "      <td>0</td>\n",
       "    </tr>\n",
       "  </tbody>\n",
       "</table>\n",
       "</div>"
      ],
      "text/plain": [
       "   season_2  season_3  season_4\n",
       "0         0         0         0\n",
       "1         0         0         0\n",
       "2         0         0         0\n",
       "3         0         0         0\n",
       "4         0         0         0"
      ]
     },
     "execution_count": 22,
     "metadata": {},
     "output_type": "execute_result"
    }
   ],
   "source": [
    "season_dummies.head()"
   ]
  },
  {
   "cell_type": "markdown",
   "metadata": {},
   "source": [
    "#### Reinspect the `DataFrame` of `dummies`."
   ]
  },
  {
   "cell_type": "code",
   "execution_count": null,
   "metadata": {},
   "outputs": [],
   "source": [
    "# Print five random rows.\n",
    "season_dummies.sample(n=5, random_state=1)"
   ]
  },
  {
   "cell_type": "markdown",
   "metadata": {},
   "source": [
    "In general, if you have a categorical feature with k possible values, you create k-1 dummy variables.\n",
    "\n",
    "If that's confusing, think about why we only need one dummy variable for `holiday`, not two dummy variables (`holiday_yes` and `holiday_no`)."
   ]
  },
  {
   "cell_type": "markdown",
   "metadata": {},
   "source": [
    "#### We now need to concatenate the two `DataFrames` together."
   ]
  },
  {
   "cell_type": "code",
   "execution_count": 25,
   "metadata": {},
   "outputs": [],
   "source": [
    "# Concatenate the original DataFrame and the dummy DataFrame (axis=0 means rows, axis=1 means columns).\n",
    "bikes_dummies = pd.concat([bikes, season_dummies], axis=1)\n",
    "\n",
    "# Print 5 random rows.\n",
    "bikes_dummies.sample(n=5, random_state=1)\n",
    "\n",
    "bikes_dummies.drop('season_num', axis=1, inplace=True)"
   ]
  },
  {
   "cell_type": "markdown",
   "metadata": {},
   "source": [
    "#### Rerun the linear regression with dummy variables included."
   ]
  },
  {
   "cell_type": "code",
   "execution_count": 27,
   "metadata": {},
   "outputs": [
    {
     "data": {
      "text/plain": [
       "[('temp', 12.548872066934903),\n",
       " ('atemp', 0.7525497857866978),\n",
       " ('windspeed', 2.2876990317825148),\n",
       " ('season_2', -36.03304138279103),\n",
       " ('season_3', -91.82529590678367),\n",
       " ('season_4', 34.09277891306665)]"
      ]
     },
     "execution_count": 27,
     "metadata": {},
     "output_type": "execute_result"
    }
   ],
   "source": [
    "# This is the same model as above -- with the .175 R2, with categorical seasons\n",
    "feature_cols = ['temp', 'atemp', 'windspeed', 'season_2', 'season_3', 'season_4']\n",
    "X = bikes_dummies[feature_cols]\n",
    "y = bikes_dummies.total_rentals\n",
    "\n",
    "lr = LinearRegression()\n",
    "lr.fit(X, y)\n",
    "\n",
    "list(zip(feature_cols, lr.coef_))"
   ]
  },
  {
   "cell_type": "markdown",
   "metadata": {},
   "source": [
    "How do we interpret the season coefficients? They are measured against the baseline (spring):\n",
    "\n",
    "- Holding all other features fixed, summer is associated with a rental decrease of 3.39 bikes compared to the spring.\n",
    "- Holding all other features fixed, fall is associated with a rental decrease of 41.7 bikes compared to the spring.\n",
    "- Holding all other features fixed, winter is associated with a rental increase of 64.4 bikes compared to the spring.\n",
    "\n",
    "Would it matter if we changed which season was defined as the baseline?\n",
    "\n",
    "- No, it would simply change our interpretation of the coefficients.\n",
    "\n",
    "In most situations, it is best to have the dummy that is your baseline be the category that has the largest representation.\n",
    "\n",
    "**Important:** Dummy encoding is relevant for all machine learning models, not just linear regression models."
   ]
  },
  {
   "cell_type": "markdown",
   "metadata": {},
   "source": [
    "**See if the transformation did any good**"
   ]
  },
  {
   "cell_type": "code",
   "execution_count": 31,
   "metadata": {},
   "outputs": [],
   "source": [
    "# Return R^2 and Adjusted R^2 for an X and y\n",
    "\n",
    "def rsquared_stats(X, y):\n",
    "    lr = LinearRegression()\n",
    "    lr.fit(X, y)\n",
    "    r2 = r2_score(y, lr.predict(X))\n",
    "    n = len(y)\n",
    "    p = X.shape[1]\n",
    "    return [r2, r2 - ((1-r2)*p)/(n-p-1)]"
   ]
  },
  {
   "cell_type": "code",
   "execution_count": 32,
   "metadata": {},
   "outputs": [],
   "source": [
    "c1 = ['rand']\n",
    "c2 = ['temp', 'atemp', 'windspeed', 'season_num']\n",
    "c3 = ['temp', 'atemp', 'windspeed', 'season_2', 'season_3', 'season_4']\n",
    "c4 = ['weather', 'season_2', 'season_3', 'season_4', 'is_holiday', 'is_working_day', 'windspeed', 'temp', 'humidity']"
   ]
  },
  {
   "cell_type": "code",
   "execution_count": 33,
   "metadata": {},
   "outputs": [
    {
     "name": "stdout",
     "output_type": "stream",
     "text": [
      "[5.519784515350956e-06, -8.635769437251055e-05]\n",
      "[0.17479070911654182, 0.17448735122999337]\n",
      "[0.20239233538612678, 0.2019524377863765]\n",
      "[0.27474744207482826, 0.2741472882479317]\n"
     ]
    }
   ],
   "source": [
    "print(rsquared_stats(bikes[c1], y))\n",
    "print(rsquared_stats(bikes[c2], y))\n",
    "print(rsquared_stats(bikes_dummies[c3], y))\n",
    "print(rsquared_stats(bikes_dummies[c4], y))"
   ]
  },
  {
   "cell_type": "markdown",
   "metadata": {},
   "source": [
    "---\n",
    "<a id=\"comparing-linear-regression-with-other-models\"></a>\n",
    "## Summary:  Comparing Linear Regression With Other Models\n",
    "\n",
    "**Advantages of linear regression:**\n",
    "\n",
    "- Simple to explain.\n",
    "- Highly interpretable.\n",
    "- Model training and prediction are fast.\n",
    "- No tuning is required (excluding regularization).\n",
    "- Features don't need scaling.\n",
    "- Can perform well with a small number of observations.\n",
    "- Well understood.\n",
    "\n",
    "**Disadvantages of linear regression:**\n",
    "\n",
    "- Presumes a linear relationship between the features and the response.\n",
    "- Performance is (generally) not competitive with the best supervised learning methods due to high bias.\n",
    "- Can't automatically learn feature interactions.\n",
    "\n",
    "**Things we would cover with more time:**\n",
    "\n",
    "- How do you decide whether or not the $f$ you are exploring is linear (enough)\n",
    "- Making data transformations\n",
    "  - Adding higher-order terms (e.g. $x^2$)\n",
    "  - Adding interaction terms (e.g. $x\\times y$)\n",
    "  \n",
    "**Things we *will* cover -- for regression and other algorithms**\n",
    "\n",
    "- Are we better off with linear regression or some other regression model\n",
    "- What is the best set of variables to put in our production model (maybe maximizing $R^2$, maybe not)\n"
   ]
  },
  {
   "cell_type": "markdown",
   "metadata": {},
   "source": [
    "---------------------------------\n",
    "(File this under \"Things we would cover with more time\")\n",
    "\n",
    "#### Diagnosing Problems with the Residual Plot\n",
    "\n",
    "In a perfect model the residuals represent the noise term $\\epsilon$ so residual values should be small, and evenly distributed across values of $y$.   Verifying this is an important part of post-checking your model.\n",
    "\n",
    "This is a great overview and set of examples:\n",
    "\n",
    "http://docs.statwing.com/interpreting-residual-plots-to-improve-your-regression/#hetero-header"
   ]
  },
  {
   "cell_type": "code",
   "execution_count": null,
   "metadata": {},
   "outputs": [],
   "source": []
  }
 ],
 "metadata": {
  "kernelspec": {
   "display_name": "Python 3",
   "language": "python",
   "name": "python3"
  },
  "language_info": {
   "codemirror_mode": {
    "name": "ipython",
    "version": 3
   },
   "file_extension": ".py",
   "mimetype": "text/x-python",
   "name": "python",
   "nbconvert_exporter": "python",
   "pygments_lexer": "ipython3",
   "version": "3.7.0"
  }
 },
 "nbformat": 4,
 "nbformat_minor": 1
}
