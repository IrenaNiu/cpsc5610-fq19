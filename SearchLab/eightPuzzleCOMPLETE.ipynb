{
 "cells": [
  {
   "cell_type": "markdown",
   "metadata": {},
   "source": [
    "Eight Puzzle problem.  For example:\n",
    "\n",
    "1 4 5                 1 2 3\n",
    "2 3 7           =>    4 5 6\n",
    "  6 7                 7 8   \n",
    "  \n",
    "Model board as [[1, 4, 5], [2,3,7], [0, 6, 7]]\n",
    "Four possible moves are UP, DOWN, LEFT, RIGHT, referring to the blank space (0 element)\n"
   ]
  },
  {
   "cell_type": "markdown",
   "metadata": {},
   "source": [
    "**TODO:  implement second heuristic, sum of manhattan distances to target**"
   ]
  },
  {
   "cell_type": "code",
   "execution_count": 34,
   "metadata": {},
   "outputs": [],
   "source": [
    "from searchFramework import WorldState\n",
    "import copy\n",
    "\n",
    "class EightPuzzleWorldState(WorldState):\n",
    "\n",
    "    def __init__(self, board):\n",
    "        self._board = board\n",
    "        \n",
    "    def __str__(self):\n",
    "        return \"{\" + str(self._board) + \"}\"\n",
    "    \n",
    "    def __eq__(self, other):\n",
    "        if isinstance(other, EightPuzzleWorldState):\n",
    "            return self._board == other._board\n",
    "        else:\n",
    "            return False\n",
    "\n",
    "    def __hash__(self):\n",
    "        return hash(str(self._board))\n",
    "    \n",
    "    # NB: every successor state must deep copy the old state!\n",
    "    \n",
    "    def successors(self):\n",
    "        candidates = (self.up(), self.down(), self.left(), self.right())\n",
    "        return [c for c in candidates if c] \n",
    "    \n",
    "    def up(self):\n",
    "        bp = self.blankPosition()\n",
    "        if (bp[0] == 0):\n",
    "            return None\n",
    "        else:\n",
    "            s = copy.deepcopy(self)\n",
    "            s.swap(bp, (bp[0] -1, bp[1]))\n",
    "            return((s, \"up\"))\n",
    "                   \n",
    "    def down(self):\n",
    "        bp = self.blankPosition()\n",
    "        if (bp[0] == self.boardSize() - 1):\n",
    "            return None\n",
    "        else:\n",
    "            s = copy.deepcopy(self)\n",
    "            s.swap(bp, (bp[0] + 1, bp[1]))\n",
    "            return ((s, \"down\"))   \n",
    "    def left(self):\n",
    "        bp = self.blankPosition()\n",
    "        if (bp[1] == 0):\n",
    "            return None\n",
    "        else:\n",
    "            s = copy.deepcopy(self)\n",
    "            s.swap(bp, (bp[0], bp[1] - 1))\n",
    "            return ((s, \"left\"))\n",
    "    def right(self):\n",
    "        bp = self.blankPosition()\n",
    "        if (bp[1] == self.boardSize() - 1):\n",
    "            return None\n",
    "        else:\n",
    "            s = copy.deepcopy(self)\n",
    "            s.swap(bp, (bp[0], bp[1] + 1))\n",
    "            return ((s, \"right\"))\n",
    "\n",
    "    def boardSize(self):\n",
    "        return len(self._board[0])\n",
    "    \n",
    "    def swap(self, p1, p2):\n",
    "        tmp = self._board[p1[0]][p1[1]]\n",
    "        self._board[p1[0]][p1[1]] = self._board[p2[0]][p2[1]]\n",
    "        self._board[p2[0]][p2[1]] = tmp\n",
    "    \n",
    "    def blankPosition(self):\n",
    "        for i in range(self.boardSize()):\n",
    "            for j in range(self.boardSize()):\n",
    "                   if self._board[i][j] == 0:\n",
    "                       return (i,j)\n",
    "        return None"
   ]
  },
  {
   "cell_type": "code",
   "execution_count": 35,
   "metadata": {},
   "outputs": [],
   "source": [
    "w = EightPuzzleWorldState([[1, 4, 5], [2,0,7], [3, 6, 7]])"
   ]
  },
  {
   "cell_type": "code",
   "execution_count": 3,
   "metadata": {},
   "outputs": [
    {
     "data": {
      "text/plain": [
       "'{[[1, 4, 5], [2, 6, 7], [3, 0, 7]]}'"
      ]
     },
     "execution_count": 3,
     "metadata": {},
     "output_type": "execute_result"
    }
   ],
   "source": [
    "ww = w.down()\n",
    "str(ww[0])"
   ]
  },
  {
   "cell_type": "code",
   "execution_count": 41,
   "metadata": {},
   "outputs": [],
   "source": [
    "from searchFramework import Problem\n",
    "\n",
    "class EightPuzzleProblem(Problem):\n",
    "    def __init__(self, initial_board, goal_board = [[1,2,3], [4,5,6], [7,8,0]]):\n",
    "        self._state = EightPuzzleWorldState(initial_board)\n",
    "        self._goal_board = goal_board\n",
    "        \n",
    "    def initial(self):\n",
    "        return self._state\n",
    "    \n",
    "    def isGoal(self, state):\n",
    "        return state._board == self._goal_board\n",
    "        "
   ]
  },
  {
   "cell_type": "code",
   "execution_count": 42,
   "metadata": {},
   "outputs": [],
   "source": [
    "p = EightPuzzleProblem([[1, 4, 5], [2,0,7], [3, 6, 7]])"
   ]
  },
  {
   "cell_type": "code",
   "execution_count": 43,
   "metadata": {},
   "outputs": [
    {
     "data": {
      "text/plain": [
       "<__main__.EightPuzzleWorldState at 0x1b1b4f18cc0>"
      ]
     },
     "execution_count": 43,
     "metadata": {},
     "output_type": "execute_result"
    }
   ],
   "source": [
    "p.initial()"
   ]
  },
  {
   "cell_type": "code",
   "execution_count": 44,
   "metadata": {},
   "outputs": [
    {
     "data": {
      "text/plain": [
       "True"
      ]
     },
     "execution_count": 44,
     "metadata": {},
     "output_type": "execute_result"
    }
   ],
   "source": [
    "p.isGoal(EightPuzzleWorldState([[1,2,3], [4,5,6], [7,8,0]]))"
   ]
  },
  {
   "cell_type": "code",
   "execution_count": 8,
   "metadata": {},
   "outputs": [],
   "source": [
    "from searchFramework import Evaluator"
   ]
  },
  {
   "cell_type": "code",
   "execution_count": 9,
   "metadata": {},
   "outputs": [],
   "source": [
    "## Breadth-first search -- make short paths look cheapest\n",
    "\n",
    "def bfsCoster(actions):\n",
    "    return len(actions)\n",
    "\n",
    "## Cost to goal is number of tiles that are not in the right position\n",
    "\n",
    "def bfsEstimator(state):\n",
    "    return 0\n",
    "\n",
    "bfsEvaluator = Evaluator(bfsCoster, bfsEstimator)"
   ]
  },
  {
   "cell_type": "code",
   "execution_count": 10,
   "metadata": {},
   "outputs": [],
   "source": [
    "## Depth-first search -- make long paths look cheapest\n",
    "\n",
    "def dfsCoster(actions):\n",
    "    return -len(actions)\n",
    "\n",
    "## Cost to goal is number of tiles that are not in the right position\n",
    "\n",
    "def dfsEstimator(state):\n",
    "    return 0\n",
    "\n",
    "dfsEvaluator = Evaluator(dfsCoster, dfsEstimator)"
   ]
  },
  {
   "cell_type": "code",
   "execution_count": 23,
   "metadata": {},
   "outputs": [],
   "source": [
    "# Num tiles heuristic\n",
    "\n",
    "def numTilesCoster(actions):\n",
    "    return len(actions)\n",
    "\n",
    "## Cost to goal is number of tiles that are not in the right position\n",
    "\n",
    "def numTilesEstimator(state):\n",
    "    #gb = [[1,2,3], [4,5,6], [7,8,0]]\n",
    "    gb = [[1,2,3], [8,0,4], [7,6,5]]\n",
    "    est = 0\n",
    "    for i in range(state.boardSize()):\n",
    "        for j in range(state.boardSize()):\n",
    "            if state._board[i][j] != gb[i][j]:\n",
    "                est += 1\n",
    "    return est\n",
    "\n",
    "numTilesEvaluator = Evaluator(numTilesCoster, numTilesEstimator)"
   ]
  },
  {
   "cell_type": "code",
   "execution_count": 24,
   "metadata": {},
   "outputs": [],
   "source": [
    "# Num tiles heuristic\n",
    "\n",
    "def numTilesCoster(actions):\n",
    "    return len(actions)\n",
    "\n",
    "## Cost to goal is number of tiles that are not in the right position\n",
    "\n",
    "def tileDistanceEstimator(state):\n",
    "    #gb = [[1,2,3], [4,5,6], [7,8,0]]\n",
    "    gb = [[1,2,3], [8,0,4], [7,6,5]]\n",
    "    est = 0\n",
    "    for i in range(state.boardSize()):\n",
    "        for j in range(state.boardSize()):\n",
    "            est += distanceFrom(state._board, i,j, gb)\n",
    "    return est\n",
    "\n",
    "def distanceFrom(board, i, j, goalboard):\n",
    "    tileValue = board[i][j]\n",
    "    goalPos = positionOf(tileValue, goalboard)\n",
    "    return abs(i - goalPos[0]) + abs(j - goalPos[1])\n",
    "\n",
    "def positionOf(value, board):\n",
    "    for i in range(len(board)):\n",
    "        for j in range(len(board)):\n",
    "            if board[i][j] == value:\n",
    "                return (i,j)\n",
    "            \n",
    "tileDistanceEvaluator = Evaluator(numTilesCoster, tileDistanceEstimator)"
   ]
  },
  {
   "cell_type": "code",
   "execution_count": 13,
   "metadata": {},
   "outputs": [],
   "source": [
    "easyBoard = [[1,2,3], [4,5,6], [7,0,8]]\n",
    "easyProblem = EightPuzzleProblem(easyBoard)"
   ]
  },
  {
   "cell_type": "code",
   "execution_count": 14,
   "metadata": {},
   "outputs": [],
   "source": [
    "from searchFramework import aStarSearch"
   ]
  },
  {
   "cell_type": "code",
   "execution_count": 15,
   "metadata": {},
   "outputs": [
    {
     "name": "stdout",
     "output_type": "stream",
     "text": [
      "(['right'], (0.0, 4, 0, 7))\n"
     ]
    }
   ],
   "source": [
    "print(aStarSearch(easyProblem, bfsEvaluator))"
   ]
  },
  {
   "cell_type": "code",
   "execution_count": 16,
   "metadata": {},
   "outputs": [
    {
     "name": "stdout",
     "output_type": "stream",
     "text": [
      "Visited 1 world is {[[1, 2, 3], [4, 5, 6], [7, 0, 8]]}\n",
      "Skipped 0 Fringe is size 0\n",
      "Evaluation is 0 with actions 0\n",
      "Visited 2 world is {[[1, 2, 3], [4, 0, 6], [7, 5, 8]]}\n",
      "Skipped 0 Fringe is size 2\n",
      "Evaluation is -1 with actions 1\n",
      "Visited 3 world is {[[1, 0, 3], [4, 2, 6], [7, 5, 8]]}\n",
      "Skipped 0 Fringe is size 5\n",
      "Evaluation is -2 with actions 2\n",
      "Visited 4 world is {[[1, 2, 3], [4, 0, 6], [7, 5, 8]]}\n",
      "Skipped 0 Fringe is size 7\n",
      "Evaluation is -3 with actions 3\n",
      "Visited 5 world is {[[0, 1, 3], [4, 2, 6], [7, 5, 8]]}\n",
      "Skipped 1 Fringe is size 6\n",
      "Evaluation is -3 with actions 3\n",
      "Visited 6 world is {[[4, 1, 3], [0, 2, 6], [7, 5, 8]]}\n",
      "Skipped 1 Fringe is size 7\n",
      "Evaluation is -4 with actions 4\n",
      "Visited 7 world is {[[0, 1, 3], [4, 2, 6], [7, 5, 8]]}\n",
      "Skipped 1 Fringe is size 9\n",
      "Evaluation is -5 with actions 5\n",
      "Visited 8 world is {[[4, 1, 3], [7, 2, 6], [0, 5, 8]]}\n",
      "Skipped 2 Fringe is size 8\n",
      "Evaluation is -5 with actions 5\n",
      "Visited 9 world is {[[4, 1, 3], [0, 2, 6], [7, 5, 8]]}\n",
      "Skipped 2 Fringe is size 9\n",
      "Evaluation is -6 with actions 6\n",
      "Visited 10 world is {[[4, 1, 3], [7, 2, 6], [5, 0, 8]]}\n",
      "Skipped 3 Fringe is size 8\n",
      "Evaluation is -6 with actions 6\n",
      "Visited 11 world is {[[4, 1, 3], [7, 0, 6], [5, 2, 8]]}\n",
      "Skipped 3 Fringe is size 10\n",
      "Evaluation is -7 with actions 7\n",
      "Visited 12 world is {[[4, 0, 3], [7, 1, 6], [5, 2, 8]]}\n",
      "Skipped 3 Fringe is size 13\n",
      "Evaluation is -8 with actions 8\n",
      "Visited 13 world is {[[4, 1, 3], [7, 0, 6], [5, 2, 8]]}\n",
      "Skipped 3 Fringe is size 15\n",
      "Evaluation is -9 with actions 9\n",
      "Visited 14 world is {[[0, 4, 3], [7, 1, 6], [5, 2, 8]]}\n",
      "Skipped 4 Fringe is size 14\n",
      "Evaluation is -9 with actions 9\n",
      "Visited 15 world is {[[7, 4, 3], [0, 1, 6], [5, 2, 8]]}\n",
      "Skipped 4 Fringe is size 15\n",
      "Evaluation is -10 with actions 10\n",
      "Visited 16 world is {[[0, 4, 3], [7, 1, 6], [5, 2, 8]]}\n",
      "Skipped 4 Fringe is size 17\n",
      "Evaluation is -11 with actions 11\n",
      "Visited 17 world is {[[7, 4, 3], [5, 1, 6], [0, 2, 8]]}\n",
      "Skipped 5 Fringe is size 16\n",
      "Evaluation is -11 with actions 11\n",
      "Visited 18 world is {[[7, 4, 3], [0, 1, 6], [5, 2, 8]]}\n",
      "Skipped 5 Fringe is size 17\n",
      "Evaluation is -12 with actions 12\n",
      "Visited 19 world is {[[7, 4, 3], [5, 1, 6], [2, 0, 8]]}\n",
      "Skipped 6 Fringe is size 16\n",
      "Evaluation is -12 with actions 12\n",
      "Visited 20 world is {[[7, 4, 3], [5, 0, 6], [2, 1, 8]]}\n",
      "Skipped 6 Fringe is size 18\n",
      "Evaluation is -13 with actions 13\n",
      "Visited 21 world is {[[7, 0, 3], [5, 4, 6], [2, 1, 8]]}\n",
      "Skipped 6 Fringe is size 21\n",
      "Evaluation is -14 with actions 14\n",
      "Visited 22 world is {[[7, 4, 3], [5, 0, 6], [2, 1, 8]]}\n",
      "Skipped 6 Fringe is size 23\n",
      "Evaluation is -15 with actions 15\n",
      "Visited 23 world is {[[0, 7, 3], [5, 4, 6], [2, 1, 8]]}\n",
      "Skipped 7 Fringe is size 22\n",
      "Evaluation is -15 with actions 15\n",
      "Visited 24 world is {[[5, 7, 3], [0, 4, 6], [2, 1, 8]]}\n",
      "Skipped 7 Fringe is size 23\n",
      "Evaluation is -16 with actions 16\n",
      "Visited 25 world is {[[0, 7, 3], [5, 4, 6], [2, 1, 8]]}\n",
      "Skipped 7 Fringe is size 25\n",
      "Evaluation is -17 with actions 17\n",
      "Visited 26 world is {[[5, 7, 3], [2, 4, 6], [0, 1, 8]]}\n",
      "Skipped 8 Fringe is size 24\n",
      "Evaluation is -17 with actions 17\n",
      "Visited 27 world is {[[5, 7, 3], [0, 4, 6], [2, 1, 8]]}\n",
      "Skipped 8 Fringe is size 25\n",
      "Evaluation is -18 with actions 18\n",
      "Visited 28 world is {[[5, 7, 3], [2, 4, 6], [1, 0, 8]]}\n",
      "Skipped 9 Fringe is size 24\n",
      "Evaluation is -18 with actions 18\n",
      "Visited 29 world is {[[5, 7, 3], [2, 0, 6], [1, 4, 8]]}\n",
      "Skipped 9 Fringe is size 26\n",
      "Evaluation is -19 with actions 19\n",
      "Visited 30 world is {[[5, 0, 3], [2, 7, 6], [1, 4, 8]]}\n",
      "Skipped 9 Fringe is size 29\n",
      "Evaluation is -20 with actions 20\n",
      "Visited 31 world is {[[5, 7, 3], [2, 0, 6], [1, 4, 8]]}\n",
      "Skipped 9 Fringe is size 31\n",
      "Evaluation is -21 with actions 21\n",
      "Visited 32 world is {[[0, 5, 3], [2, 7, 6], [1, 4, 8]]}\n",
      "Skipped 10 Fringe is size 30\n",
      "Evaluation is -21 with actions 21\n",
      "Visited 33 world is {[[2, 5, 3], [0, 7, 6], [1, 4, 8]]}\n",
      "Skipped 10 Fringe is size 31\n",
      "Evaluation is -22 with actions 22\n",
      "Visited 34 world is {[[0, 5, 3], [2, 7, 6], [1, 4, 8]]}\n",
      "Skipped 10 Fringe is size 33\n",
      "Evaluation is -23 with actions 23\n",
      "Visited 35 world is {[[2, 5, 3], [1, 7, 6], [0, 4, 8]]}\n",
      "Skipped 11 Fringe is size 32\n",
      "Evaluation is -23 with actions 23\n",
      "Visited 36 world is {[[2, 5, 3], [0, 7, 6], [1, 4, 8]]}\n",
      "Skipped 11 Fringe is size 33\n",
      "Evaluation is -24 with actions 24\n",
      "Visited 37 world is {[[2, 5, 3], [1, 7, 6], [4, 0, 8]]}\n",
      "Skipped 12 Fringe is size 32\n",
      "Evaluation is -24 with actions 24\n",
      "Visited 38 world is {[[2, 5, 3], [1, 0, 6], [4, 7, 8]]}\n",
      "Skipped 12 Fringe is size 34\n",
      "Evaluation is -25 with actions 25\n",
      "Visited 39 world is {[[2, 0, 3], [1, 5, 6], [4, 7, 8]]}\n",
      "Skipped 12 Fringe is size 37\n",
      "Evaluation is -26 with actions 26\n",
      "Visited 40 world is {[[2, 5, 3], [1, 0, 6], [4, 7, 8]]}\n",
      "Skipped 12 Fringe is size 39\n",
      "Evaluation is -27 with actions 27\n",
      "Visited 41 world is {[[0, 2, 3], [1, 5, 6], [4, 7, 8]]}\n",
      "Skipped 13 Fringe is size 38\n",
      "Evaluation is -27 with actions 27\n",
      "Visited 42 world is {[[1, 2, 3], [0, 5, 6], [4, 7, 8]]}\n",
      "Skipped 13 Fringe is size 39\n",
      "Evaluation is -28 with actions 28\n",
      "Visited 43 world is {[[0, 2, 3], [1, 5, 6], [4, 7, 8]]}\n",
      "Skipped 13 Fringe is size 41\n",
      "Evaluation is -29 with actions 29\n",
      "Visited 44 world is {[[1, 2, 3], [4, 5, 6], [0, 7, 8]]}\n",
      "Skipped 14 Fringe is size 40\n",
      "Evaluation is -29 with actions 29\n",
      "Visited 45 world is {[[1, 2, 3], [0, 5, 6], [4, 7, 8]]}\n",
      "Skipped 14 Fringe is size 41\n",
      "Evaluation is -30 with actions 30\n",
      "Visited 46 world is {[[1, 2, 3], [4, 5, 6], [7, 0, 8]]}\n",
      "Skipped 15 Fringe is size 40\n",
      "Evaluation is -30 with actions 30\n",
      "Visited 47 world is {[[1, 2, 3], [5, 0, 6], [4, 7, 8]]}\n",
      "Skipped 16 Fringe is size 39\n",
      "Evaluation is -29 with actions 29\n",
      "Visited 48 world is {[[1, 0, 3], [5, 2, 6], [4, 7, 8]]}\n",
      "Skipped 16 Fringe is size 42\n",
      "Evaluation is -30 with actions 30\n",
      "Visited 49 world is {[[1, 2, 3], [5, 0, 6], [4, 7, 8]]}\n",
      "Skipped 16 Fringe is size 44\n",
      "Evaluation is -31 with actions 31\n",
      "Visited 50 world is {[[0, 1, 3], [5, 2, 6], [4, 7, 8]]}\n",
      "Skipped 17 Fringe is size 43\n",
      "Evaluation is -31 with actions 31\n",
      "Visited 51 world is {[[5, 1, 3], [0, 2, 6], [4, 7, 8]]}\n",
      "Skipped 17 Fringe is size 44\n",
      "Evaluation is -32 with actions 32\n",
      "Visited 52 world is {[[0, 1, 3], [5, 2, 6], [4, 7, 8]]}\n",
      "Skipped 17 Fringe is size 46\n",
      "Evaluation is -33 with actions 33\n",
      "Visited 53 world is {[[5, 1, 3], [4, 2, 6], [0, 7, 8]]}\n",
      "Skipped 18 Fringe is size 45\n",
      "Evaluation is -33 with actions 33\n",
      "Visited 54 world is {[[5, 1, 3], [0, 2, 6], [4, 7, 8]]}\n",
      "Skipped 18 Fringe is size 46\n",
      "Evaluation is -34 with actions 34\n",
      "Visited 55 world is {[[5, 1, 3], [4, 2, 6], [7, 0, 8]]}\n",
      "Skipped 19 Fringe is size 45\n",
      "Evaluation is -34 with actions 34\n",
      "Visited 56 world is {[[5, 1, 3], [4, 0, 6], [7, 2, 8]]}\n",
      "Skipped 19 Fringe is size 47\n",
      "Evaluation is -35 with actions 35\n",
      "Visited 57 world is {[[5, 0, 3], [4, 1, 6], [7, 2, 8]]}\n",
      "Skipped 19 Fringe is size 50\n",
      "Evaluation is -36 with actions 36\n",
      "Visited 58 world is {[[5, 1, 3], [4, 0, 6], [7, 2, 8]]}\n",
      "Skipped 19 Fringe is size 52\n",
      "Evaluation is -37 with actions 37\n",
      "Visited 59 world is {[[0, 5, 3], [4, 1, 6], [7, 2, 8]]}\n",
      "Skipped 20 Fringe is size 51\n",
      "Evaluation is -37 with actions 37\n",
      "Visited 60 world is {[[4, 5, 3], [0, 1, 6], [7, 2, 8]]}\n",
      "Skipped 20 Fringe is size 52\n",
      "Evaluation is -38 with actions 38\n",
      "Visited 61 world is {[[0, 5, 3], [4, 1, 6], [7, 2, 8]]}\n",
      "Skipped 20 Fringe is size 54\n",
      "Evaluation is -39 with actions 39\n",
      "Visited 62 world is {[[4, 5, 3], [7, 1, 6], [0, 2, 8]]}\n",
      "Skipped 21 Fringe is size 53\n",
      "Evaluation is -39 with actions 39\n",
      "Visited 63 world is {[[4, 5, 3], [0, 1, 6], [7, 2, 8]]}\n",
      "Skipped 21 Fringe is size 54\n",
      "Evaluation is -40 with actions 40\n",
      "Visited 64 world is {[[4, 5, 3], [7, 1, 6], [2, 0, 8]]}\n",
      "Skipped 22 Fringe is size 53\n",
      "Evaluation is -40 with actions 40\n",
      "Visited 65 world is {[[4, 5, 3], [7, 0, 6], [2, 1, 8]]}\n",
      "Skipped 22 Fringe is size 55\n",
      "Evaluation is -41 with actions 41\n",
      "Visited 66 world is {[[4, 0, 3], [7, 5, 6], [2, 1, 8]]}\n",
      "Skipped 22 Fringe is size 58\n",
      "Evaluation is -42 with actions 42\n",
      "Visited 67 world is {[[4, 5, 3], [7, 0, 6], [2, 1, 8]]}\n",
      "Skipped 22 Fringe is size 60\n",
      "Evaluation is -43 with actions 43\n",
      "Visited 68 world is {[[0, 4, 3], [7, 5, 6], [2, 1, 8]]}\n",
      "Skipped 23 Fringe is size 59\n",
      "Evaluation is -43 with actions 43\n",
      "Visited 69 world is {[[7, 4, 3], [0, 5, 6], [2, 1, 8]]}\n",
      "Skipped 23 Fringe is size 60\n",
      "Evaluation is -44 with actions 44\n",
      "Visited 70 world is {[[0, 4, 3], [7, 5, 6], [2, 1, 8]]}\n",
      "Skipped 23 Fringe is size 62\n",
      "Evaluation is -45 with actions 45\n",
      "Visited 71 world is {[[7, 4, 3], [2, 5, 6], [0, 1, 8]]}\n",
      "Skipped 24 Fringe is size 61\n",
      "Evaluation is -45 with actions 45\n",
      "Visited 72 world is {[[7, 4, 3], [0, 5, 6], [2, 1, 8]]}\n",
      "Skipped 24 Fringe is size 62\n",
      "Evaluation is -46 with actions 46\n",
      "Visited 73 world is {[[7, 4, 3], [2, 5, 6], [1, 0, 8]]}\n",
      "Skipped 25 Fringe is size 61\n",
      "Evaluation is -46 with actions 46\n",
      "Visited 74 world is {[[7, 4, 3], [2, 0, 6], [1, 5, 8]]}\n",
      "Skipped 25 Fringe is size 63\n",
      "Evaluation is -47 with actions 47\n",
      "Visited 75 world is {[[7, 0, 3], [2, 4, 6], [1, 5, 8]]}\n",
      "Skipped 25 Fringe is size 66\n",
      "Evaluation is -48 with actions 48\n",
      "Visited 76 world is {[[7, 4, 3], [2, 0, 6], [1, 5, 8]]}\n",
      "Skipped 25 Fringe is size 68\n",
      "Evaluation is -49 with actions 49\n",
      "Visited 77 world is {[[0, 7, 3], [2, 4, 6], [1, 5, 8]]}\n",
      "Skipped 26 Fringe is size 67\n",
      "Evaluation is -49 with actions 49\n",
      "Visited 78 world is {[[2, 7, 3], [0, 4, 6], [1, 5, 8]]}\n",
      "Skipped 26 Fringe is size 68\n",
      "Evaluation is -50 with actions 50\n",
      "Visited 79 world is {[[0, 7, 3], [2, 4, 6], [1, 5, 8]]}\n",
      "Skipped 26 Fringe is size 70\n",
      "Evaluation is -51 with actions 51\n",
      "Visited 80 world is {[[2, 7, 3], [1, 4, 6], [0, 5, 8]]}\n",
      "Skipped 27 Fringe is size 69\n",
      "Evaluation is -51 with actions 51\n",
      "Visited 81 world is {[[2, 7, 3], [0, 4, 6], [1, 5, 8]]}\n",
      "Skipped 27 Fringe is size 70\n",
      "Evaluation is -52 with actions 52\n",
      "Visited 82 world is {[[2, 7, 3], [1, 4, 6], [5, 0, 8]]}\n",
      "Skipped 28 Fringe is size 69\n",
      "Evaluation is -52 with actions 52\n",
      "Visited 83 world is {[[2, 7, 3], [1, 0, 6], [5, 4, 8]]}\n",
      "Skipped 28 Fringe is size 71\n",
      "Evaluation is -53 with actions 53\n",
      "Visited 84 world is {[[2, 0, 3], [1, 7, 6], [5, 4, 8]]}\n",
      "Skipped 28 Fringe is size 74\n",
      "Evaluation is -54 with actions 54\n",
      "Visited 85 world is {[[2, 7, 3], [1, 0, 6], [5, 4, 8]]}\n",
      "Skipped 28 Fringe is size 76\n",
      "Evaluation is -55 with actions 55\n",
      "Visited 86 world is {[[0, 2, 3], [1, 7, 6], [5, 4, 8]]}\n",
      "Skipped 29 Fringe is size 75\n",
      "Evaluation is -55 with actions 55\n",
      "Visited 87 world is {[[1, 2, 3], [0, 7, 6], [5, 4, 8]]}\n",
      "Skipped 29 Fringe is size 76\n",
      "Evaluation is -56 with actions 56\n",
      "Visited 88 world is {[[0, 2, 3], [1, 7, 6], [5, 4, 8]]}\n",
      "Skipped 29 Fringe is size 78\n",
      "Evaluation is -57 with actions 57\n",
      "Visited 89 world is {[[1, 2, 3], [5, 7, 6], [0, 4, 8]]}\n",
      "Skipped 30 Fringe is size 77\n",
      "Evaluation is -57 with actions 57\n",
      "Visited 90 world is {[[1, 2, 3], [0, 7, 6], [5, 4, 8]]}\n",
      "Skipped 30 Fringe is size 78\n",
      "Evaluation is -58 with actions 58\n",
      "Visited 91 world is {[[1, 2, 3], [5, 7, 6], [4, 0, 8]]}\n",
      "Skipped 31 Fringe is size 77\n",
      "Evaluation is -58 with actions 58\n",
      "Visited 92 world is {[[1, 2, 3], [5, 0, 6], [4, 7, 8]]}\n",
      "Skipped 31 Fringe is size 79\n",
      "Evaluation is -59 with actions 59\n",
      "Visited 93 world is {[[1, 2, 3], [5, 7, 6], [0, 4, 8]]}\n",
      "Skipped 32 Fringe is size 78\n",
      "Evaluation is -59 with actions 59\n",
      "Visited 94 world is {[[1, 2, 3], [5, 7, 6], [4, 8, 0]]}\n",
      "Skipped 33 Fringe is size 77\n",
      "Evaluation is -59 with actions 59\n",
      "Visited 95 world is {[[1, 2, 3], [5, 7, 0], [4, 8, 6]]}\n",
      "Skipped 33 Fringe is size 78\n",
      "Evaluation is -60 with actions 60\n",
      "Visited 96 world is {[[1, 2, 0], [5, 7, 3], [4, 8, 6]]}\n",
      "Skipped 33 Fringe is size 80\n",
      "Evaluation is -61 with actions 61\n",
      "Visited 97 world is {[[1, 2, 3], [5, 7, 0], [4, 8, 6]]}\n",
      "Skipped 33 Fringe is size 81\n",
      "Evaluation is -62 with actions 62\n",
      "Visited 98 world is {[[1, 0, 2], [5, 7, 3], [4, 8, 6]]}\n",
      "Skipped 34 Fringe is size 80\n",
      "Evaluation is -62 with actions 62\n",
      "Visited 99 world is {[[1, 7, 2], [5, 0, 3], [4, 8, 6]]}\n",
      "Skipped 34 Fringe is size 82\n",
      "Evaluation is -63 with actions 63\n",
      "Visited 100 world is {[[1, 0, 2], [5, 7, 3], [4, 8, 6]]}\n",
      "Skipped 34 Fringe is size 85\n",
      "Evaluation is -64 with actions 64\n",
      "(None, (0.015625, 101, 35, 86))\n"
     ]
    }
   ],
   "source": [
    "# LOOPS\n",
    "print(aStarSearch(easyProblem, dfsEvaluator, 1, 100))"
   ]
  },
  {
   "cell_type": "code",
   "execution_count": 17,
   "metadata": {},
   "outputs": [
    {
     "name": "stdout",
     "output_type": "stream",
     "text": [
      "(['right'], (0.0, 2, 0, 3))\n"
     ]
    }
   ],
   "source": [
    "print(aStarSearch(easyProblem, numTilesEvaluator))"
   ]
  },
  {
   "cell_type": "code",
   "execution_count": 18,
   "metadata": {},
   "outputs": [
    {
     "name": "stdout",
     "output_type": "stream",
     "text": [
      "(['right'], (0.0, 2, 0, 3))\n"
     ]
    }
   ],
   "source": [
    "print(aStarSearch(easyProblem, tileDistanceEvaluator))"
   ]
  },
  {
   "cell_type": "code",
   "execution_count": 19,
   "metadata": {},
   "outputs": [],
   "source": [
    "b = [[1, 5,2], [7,4,3], [0, 8, 6]]\n",
    "harderProblem = EightPuzzleProblem(b)"
   ]
  },
  {
   "cell_type": "code",
   "execution_count": 20,
   "metadata": {},
   "outputs": [
    {
     "name": "stdout",
     "output_type": "stream",
     "text": [
      "(['up', 'right', 'up', 'right', 'down', 'down'], (0.0, 98, 36, 69))\n"
     ]
    }
   ],
   "source": [
    "print(aStarSearch(harderProblem, bfsEvaluator))"
   ]
  },
  {
   "cell_type": "code",
   "execution_count": null,
   "metadata": {},
   "outputs": [],
   "source": [
    "# Loops -- also 100000 takes a really long time!  Reminder that our search\n",
    "# is pretty poorly implemented!\n",
    "\n",
    "print(aStarSearch(harderProblem, dfsEvaluator, None, 1000))"
   ]
  },
  {
   "cell_type": "code",
   "execution_count": 21,
   "metadata": {},
   "outputs": [
    {
     "name": "stdout",
     "output_type": "stream",
     "text": [
      "(['up', 'right', 'up', 'right', 'down', 'down'], (0.0, 7, 0, 12))\n"
     ]
    }
   ],
   "source": [
    "# Works much better than bfs!\n",
    "print(aStarSearch(harderProblem, numTilesEvaluator))"
   ]
  },
  {
   "cell_type": "code",
   "execution_count": 22,
   "metadata": {},
   "outputs": [
    {
     "name": "stdout",
     "output_type": "stream",
     "text": [
      "(['up', 'right', 'up', 'right', 'down', 'down'], (0.0, 8, 0, 14))\n"
     ]
    }
   ],
   "source": [
    "print(aStarSearch(harderProblem, tileDistanceEvaluator))"
   ]
  },
  {
   "cell_type": "markdown",
   "metadata": {},
   "source": [
    "These examples came from a web page: http://www.d.umn.edu/~jrichar4/8puz.html\n",
    "but the examples have a different goal state\n"
   ]
  },
  {
   "cell_type": "code",
   "execution_count": 26,
   "metadata": {},
   "outputs": [],
   "source": [
    "class DifferentEightPuzzleProblem(Problem):\n",
    "    def __init__(self, board):\n",
    "        self._state = EightPuzzleWorldState(board)\n",
    "        \n",
    "    def initial(self):\n",
    "        return self._state\n",
    "    \n",
    "    def isGoal(self, state):\n",
    "        return state._board == [[1,2,3], [8,0,4], [7,6,5]]\n",
    "        "
   ]
  },
  {
   "cell_type": "code",
   "execution_count": 27,
   "metadata": {},
   "outputs": [],
   "source": [
    "b1 = [[1,3,4], [8,6,2], [7,0,5]]\n",
    "b2 = [[2,8,1], [0,4,3], [7,6,5]]\n",
    "b3 = [[2,8,1], [4,6,3], [0,7,5]]\n",
    "b4 = [[5,6,7], [4,0,8], [3,2,1]]"
   ]
  },
  {
   "cell_type": "code",
   "execution_count": 32,
   "metadata": {},
   "outputs": [
    {
     "name": "stdout",
     "output_type": "stream",
     "text": [
      "(['right', 'up', 'left', 'up', 'right', 'right', 'down', 'left', 'left', 'up', 'right', 'down'], (0.015625, 174, 70, 125))\n"
     ]
    }
   ],
   "source": [
    "print(aStarSearch(DifferentEightPuzzleProblem(b3), numTilesEvaluator, None, 25000))"
   ]
  },
  {
   "cell_type": "code",
   "execution_count": 33,
   "metadata": {},
   "outputs": [
    {
     "name": "stdout",
     "output_type": "stream",
     "text": [
      "(['right', 'up', 'left', 'up', 'right', 'right', 'down', 'left', 'left', 'up', 'right', 'down'], (0.0, 44, 16, 36))\n"
     ]
    }
   ],
   "source": [
    "print(aStarSearch(DifferentEightPuzzleProblem(b3), tileDistanceEvaluator, None, 25000))"
   ]
  },
  {
   "cell_type": "code",
   "execution_count": null,
   "metadata": {},
   "outputs": [],
   "source": []
  }
 ],
 "metadata": {
  "kernelspec": {
   "display_name": "Python 3",
   "language": "python",
   "name": "python3"
  },
  "language_info": {
   "codemirror_mode": {
    "name": "ipython",
    "version": 3
   },
   "file_extension": ".py",
   "mimetype": "text/x-python",
   "name": "python",
   "nbconvert_exporter": "python",
   "pygments_lexer": "ipython3",
   "version": "3.7.0"
  }
 },
 "nbformat": 4,
 "nbformat_minor": 2
}
