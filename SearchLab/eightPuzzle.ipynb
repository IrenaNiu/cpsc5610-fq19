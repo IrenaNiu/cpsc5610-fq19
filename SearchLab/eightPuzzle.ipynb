{
 "cells": [
  {
   "cell_type": "markdown",
   "metadata": {},
   "source": [
    "```\n",
    "Eight Puzzle problem.  For example:\n",
    "\n",
    "1 4 5                 1 2 3\n",
    "2 3 7           =>    4 5 6\n",
    "  6 7                 7 8   \n",
    "```\n",
    "\n",
    "**Lab Outline**\n",
    "\n",
    "1.  Review search framework to see what components it requires\n",
    "\n",
    "1.  Decide on our board representation (subclass of WorldState)\n",
    "  1.  What does it have to store\n",
    "  1.  What does it have to implement\n",
    "  1.  Other considerations\n",
    "    1.  Equality check to avoid repeating duplicated states\n",
    "1. Decide on our problem representation (subclass of Problem)\n",
    "1. Build our Evaluator (don't need to subclass Evaluator)\n",
    "\n",
    "1.  How do we make it do breadth-first search, depth-first search?  \n",
    "  1. Which one works better\n",
    "1.  What are some ideas for a heuristic estimator?\n"
   ]
  },
  {
   "cell_type": "code",
   "execution_count": null,
   "metadata": {},
   "outputs": [],
   "source": [
    "easyBoard = [[1,2,3], [4,5,6], [7,0,8]]\n",
    "easyProblem = EightPuzzleProblem(easyBoard)"
   ]
  },
  {
   "cell_type": "code",
   "execution_count": null,
   "metadata": {},
   "outputs": [],
   "source": [
    "from searchFramework import aStarSearch"
   ]
  },
  {
   "cell_type": "code",
   "execution_count": null,
   "metadata": {},
   "outputs": [],
   "source": [
    "print(aStarSearch(easyProblem, bfsEvaluator))"
   ]
  },
  {
   "cell_type": "code",
   "execution_count": null,
   "metadata": {},
   "outputs": [],
   "source": [
    "# DFS Loops\n",
    "print(aStarSearch(easyProblem, dfsEvaluator, 1, 100))"
   ]
  },
  {
   "cell_type": "code",
   "execution_count": null,
   "metadata": {},
   "outputs": [],
   "source": [
    "print(aStarSearch(easyProblem, numTilesEvaluator))"
   ]
  },
  {
   "cell_type": "code",
   "execution_count": null,
   "metadata": {},
   "outputs": [],
   "source": [
    "from searchFramework import aStarSearch\n",
    "b = [[1, 5,2], [7,4,3], [0, 8, 6]]\n",
    "harderProblem = EightPuzzleProblem(b)"
   ]
  },
  {
   "cell_type": "code",
   "execution_count": null,
   "metadata": {},
   "outputs": [],
   "source": [
    "print(aStarSearch(harderProblem, bfsEvaluator))"
   ]
  },
  {
   "cell_type": "code",
   "execution_count": null,
   "metadata": {},
   "outputs": [],
   "source": [
    "# Does not terminate -- also larger limits like 100000 take a really long time!  Reminder that our search\n",
    "# is really inefficient\n",
    "print(aStarSearch(harderProblem, dfsEvaluator, None, 5000))"
   ]
  },
  {
   "cell_type": "code",
   "execution_count": null,
   "metadata": {},
   "outputs": [],
   "source": [
    "print(aStarSearch(harderProblem, numTilesEvaluator))"
   ]
  },
  {
   "cell_type": "code",
   "execution_count": null,
   "metadata": {},
   "outputs": [],
   "source": [
    "b = [[2,8,1], [0,4,3], [7,6,5]]\n",
    "evenHarderProblem = EightPuzzleProblem(b)"
   ]
  },
  {
   "cell_type": "code",
   "execution_count": null,
   "metadata": {},
   "outputs": [],
   "source": [
    "print(aStarSearch(evenHarderProblem, bfsEvaluator))"
   ]
  },
  {
   "cell_type": "code",
   "execution_count": null,
   "metadata": {},
   "outputs": [],
   "source": [
    "print(aStarSearch(evenHarderProblem, numTilesEvaluator))"
   ]
  },
  {
   "cell_type": "markdown",
   "metadata": {},
   "source": [
    "These examples came from a web page: http://www.d.umn.edu/~jrichar4/8puz.html\n",
    "but the examples have a different goal state:  \n",
    "```\n",
    "[[1,2,3], [8,0,4], [7,6,5]]\n",
    "```"
   ]
  },
  {
   "cell_type": "code",
   "execution_count": null,
   "metadata": {},
   "outputs": [],
   "source": [
    "# Easiest to hardest\n",
    "b1 = [[1,3,4], [8,6,2], [7,0,5]]\n",
    "b2 = [[2,8,1], [0,4,3], [7,6,5]]\n",
    "b3 = [[2,8,1], [4,6,3], [0,7,5]]\n",
    "b4 = [[5,6,7], [4,0,8], [3,2,1]]"
   ]
  },
  {
   "cell_type": "markdown",
   "metadata": {},
   "source": [
    "**Take-away questions**\n",
    "\n",
    "* Is the problem-solver's ability limited mainly by the fact its heuristic is weak, or is it that the implementation is slow -- it can't expand enough nodes per unit time\n",
    "* What makes one problem harder than another\n",
    "* Is the algorithm's performance on BFS and A* search in line with the asymptotic time and space results in the book?"
   ]
  },
  {
   "cell_type": "code",
   "execution_count": null,
   "metadata": {},
   "outputs": [],
   "source": []
  }
 ],
 "metadata": {
  "kernelspec": {
   "display_name": "Python 3",
   "language": "python",
   "name": "python3"
  },
  "language_info": {
   "codemirror_mode": {
    "name": "ipython",
    "version": 3
   },
   "file_extension": ".py",
   "mimetype": "text/x-python",
   "name": "python",
   "nbconvert_exporter": "python",
   "pygments_lexer": "ipython3",
   "version": "3.7.0"
  }
 },
 "nbformat": 4,
 "nbformat_minor": 2
}
