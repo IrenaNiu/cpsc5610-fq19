{
 "cells": [
  {
   "cell_type": "markdown",
   "metadata": {},
   "source": [
    "```\n",
    "Eight Puzzle problem.  For example:\n",
    "\n",
    "1 4 5                 1 2 3\n",
    "2 3 7           =>    4 5 6\n",
    "  6 7                 7 8   \n",
    "```\n",
    "\n",
    "**Lab Outline**\n",
    "\n",
    "1.  Review search framework to see what components it requires\n",
    "\n",
    "1.  Decide on our board representation (subclass of WorldState)\n",
    "  1.  What does it have to store\n",
    "  1.  What does it have to implement\n",
    "  1.  Other considerations\n",
    "    1.  Equality check to avoid repeating duplicated states\n",
    "1. Decide on our problem representation (subclass of Problem)\n",
    "1. Build our Evaluator (don't need to subclass Evaluator)\n",
    "\n",
    "1.  How do we make it do breadth-first search, depth-first search?  \n",
    "  1. Which one works better\n",
    "1.  What are some ideas for a heuristic estimator?\n"
   ]
  },
  {
   "cell_type": "code",
   "execution_count": 13,
   "metadata": {},
   "outputs": [],
   "source": [
    "from searchFramework import WorldState\n",
    "import copy\n",
    "\n",
    "class EightPuzzleWorldState(WorldState):\n",
    "\n",
    "    def __init__(self, board):\n",
    "        self._board = board\n",
    "        \n",
    "    def __str__(self):\n",
    "        return \"{\" + str(self._board) + \"}\"\n",
    "    \n",
    "    def __eq__(self, other):\n",
    "        if isinstance(other, EightPuzzleWorldState):\n",
    "            return self._board == other._board\n",
    "        else:\n",
    "            return False\n",
    "\n",
    "    def __hash__(self):\n",
    "        return hash(str(self._board))\n",
    "    \n",
    "    # NB: every successor state must deep copy the old state!\n",
    "    \n",
    "    def successors(self):\n",
    "        candidates = (self.up(), self.down(), self.left(), self.right())\n",
    "        return [c for c in candidates if c] \n",
    "    \n",
    "    def up(self):\n",
    "        bp = self.blankPosition()\n",
    "        if (bp[0] == 0):\n",
    "            return None\n",
    "        else:\n",
    "            s = copy.deepcopy(self)\n",
    "            s.swap(bp, (bp[0] -1, bp[1]))\n",
    "            return((s, \"up\"))\n",
    "                   \n",
    "    def down(self):\n",
    "        bp = self.blankPosition()\n",
    "        if (bp[0] == self.boardSize() - 1):\n",
    "            return None\n",
    "        else:\n",
    "            s = copy.deepcopy(self)\n",
    "            s.swap(bp, (bp[0] + 1, bp[1]))\n",
    "            return ((s, \"down\"))   \n",
    "    def left(self):\n",
    "        bp = self.blankPosition()\n",
    "        if (bp[1] == 0):\n",
    "            return None\n",
    "        else:\n",
    "            s = copy.deepcopy(self)\n",
    "            s.swap(bp, (bp[0], bp[1] - 1))\n",
    "            return ((s, \"left\"))\n",
    "    def right(self):\n",
    "        bp = self.blankPosition()\n",
    "        if (bp[1] == self.boardSize() - 1):\n",
    "            return None\n",
    "        else:\n",
    "            s = copy.deepcopy(self)\n",
    "            s.swap(bp, (bp[0], bp[1] + 1))\n",
    "            return ((s, \"right\"))\n",
    "\n",
    "    def boardSize(self):\n",
    "        return len(self._board[0])\n",
    "    \n",
    "    def swap(self, p1, p2):\n",
    "        tmp = self._board[p1[0]][p1[1]]\n",
    "        self._board[p1[0]][p1[1]] = self._board[p2[0]][p2[1]]\n",
    "        self._board[p2[0]][p2[1]] = tmp\n",
    "    \n",
    "    def blankPosition(self):\n",
    "        for i in range(self.boardSize()):\n",
    "            for j in range(self.boardSize()):\n",
    "                   if self._board[i][j] == 0:\n",
    "                       return (i,j)\n",
    "        return None\n",
    "    "
   ]
  },
  {
   "cell_type": "code",
   "execution_count": 14,
   "metadata": {},
   "outputs": [],
   "source": [
    "from searchFramework import Problem\n",
    "class EightPuzzleProblem(Problem):\n",
    "    def __init__(self, initial_board, goal_board = [[1,2,3], [4,5,6], [7,8,0]]):\n",
    "        self._state = EightPuzzleWorldState(initial_board)\n",
    "        self._goal_board = goal_board\n",
    "        \n",
    "    def initial(self):\n",
    "        return self._state\n",
    "    \n",
    "    def isGoal(self, state):\n",
    "        return state._board == self._goal_board"
   ]
  },
  {
   "cell_type": "code",
   "execution_count": 15,
   "metadata": {},
   "outputs": [],
   "source": [
    "from searchFramework import Evaluator\n",
    "def bfsGuesser(state):\n",
    "    return 0\n",
    "\n",
    "def bfsCoster(actions):\n",
    "    return len(actions)\n",
    "\n",
    "bfsEvaluator = Evaluator(bfsCoster, bfsGuesser)"
   ]
  },
  {
   "cell_type": "code",
   "execution_count": 16,
   "metadata": {},
   "outputs": [],
   "source": [
    "def dfsGuesser(state):\n",
    "    return 0\n",
    "\n",
    "def dfsCoster(actions):\n",
    "    return -len(actions)\n",
    "\n",
    "dfsEvaluator = Evaluator(dfsCoster, dfsGuesser)"
   ]
  },
  {
   "cell_type": "code",
   "execution_count": 17,
   "metadata": {},
   "outputs": [],
   "source": [
    "# Num tiles heuristic\n",
    "\n",
    "def numTilesCoster(actions):\n",
    "    return len(actions)\n",
    "\n",
    "## Cost to goal is number of tiles that are not in the right position\n",
    "\n",
    "def numTilesEstimator(state):\n",
    "    #gb = [[1,2,3], [4,5,6], [7,8,0]]\n",
    "    gb = [[1,2,3], [8,0,4], [7,6,5]]\n",
    "    est = 0\n",
    "    for i in range(state.boardSize()):\n",
    "        for j in range(state.boardSize()):\n",
    "            if state._board[i][j] != gb[i][j]:\n",
    "                est += 1\n",
    "    return est\n",
    "\n",
    "numTilesEvaluator = Evaluator(numTilesCoster, numTilesEstimator)"
   ]
  },
  {
   "cell_type": "code",
   "execution_count": 18,
   "metadata": {},
   "outputs": [],
   "source": [
    "# Num tiles heuristic\n",
    "\n",
    "def numTilesCoster(actions):\n",
    "    return len(actions)\n",
    "\n",
    "## Cost to goal is number of tiles that are not in the right position\n",
    "\n",
    "def tileDistanceEstimator(state):\n",
    "    #gb = [[1,2,3], [4,5,6], [7,8,0]]\n",
    "    gb = [[1,2,3], [8,0,4], [7,6,5]]\n",
    "    est = 0\n",
    "    for i in range(state.boardSize()):\n",
    "        for j in range(state.boardSize()):\n",
    "            est += distanceFrom(state._board, i,j, gb)\n",
    "    return est\n",
    "\n",
    "def distanceFrom(board, i, j, goalboard):\n",
    "    tileValue = board[i][j]\n",
    "    goalPos = positionOf(tileValue, goalboard)\n",
    "    return abs(i - goalPos[0]) + abs(j - goalPos[1])\n",
    "\n",
    "def positionOf(value, board):\n",
    "    for i in range(len(board)):\n",
    "        for j in range(len(board)):\n",
    "            if board[i][j] == value:\n",
    "                return (i,j)\n",
    "            \n",
    "tileDistanceEvaluator = Evaluator(numTilesCoster, tileDistanceEstimator)"
   ]
  },
  {
   "cell_type": "code",
   "execution_count": null,
   "metadata": {},
   "outputs": [],
   "source": [
    "easyBoard = [[1,2,3], [4,5,6], [7,0,8]]\n",
    "easyProblem = EightPuzzleProblem(easyBoard)"
   ]
  },
  {
   "cell_type": "code",
   "execution_count": 19,
   "metadata": {},
   "outputs": [],
   "source": [
    "from searchFramework import aStarSearch"
   ]
  },
  {
   "cell_type": "code",
   "execution_count": null,
   "metadata": {},
   "outputs": [],
   "source": [
    "print(aStarSearch(easyProblem, bfsEvaluator))"
   ]
  },
  {
   "cell_type": "code",
   "execution_count": null,
   "metadata": {},
   "outputs": [],
   "source": [
    "print(aStarSearch(easyProblem, dfsEvaluator, 1000, 10000))"
   ]
  },
  {
   "cell_type": "code",
   "execution_count": null,
   "metadata": {},
   "outputs": [],
   "source": [
    "print(aStarSearch(easyProblem, numTilesEvaluator))"
   ]
  },
  {
   "cell_type": "code",
   "execution_count": null,
   "metadata": {},
   "outputs": [],
   "source": [
    "harderBoard = [[1, 5,2], [7,4,3], [0, 8, 6]]\n",
    "harderProblem = EightPuzzleProblem(harderBoard)"
   ]
  },
  {
   "cell_type": "code",
   "execution_count": null,
   "metadata": {},
   "outputs": [],
   "source": [
    "print(aStarSearch(harderProblem, bfsEvaluator))"
   ]
  },
  {
   "cell_type": "code",
   "execution_count": null,
   "metadata": {},
   "outputs": [],
   "source": [
    "print(aStarSearch(harderProblem, dfsEvaluator, None, 5000))"
   ]
  },
  {
   "cell_type": "code",
   "execution_count": null,
   "metadata": {},
   "outputs": [],
   "source": [
    "print(aStarSearch(harderProblem, numTilesEvaluator))"
   ]
  },
  {
   "cell_type": "code",
   "execution_count": null,
   "metadata": {},
   "outputs": [],
   "source": [
    "b = [[2,8,1], [0,4,3], [7,6,5]]\n",
    "evenHarderProblem = EightPuzzleProblem(b)"
   ]
  },
  {
   "cell_type": "code",
   "execution_count": null,
   "metadata": {},
   "outputs": [],
   "source": [
    "print(aStarSearch(evenHarderProblem, bfsEvaluator))"
   ]
  },
  {
   "cell_type": "code",
   "execution_count": null,
   "metadata": {},
   "outputs": [],
   "source": [
    "print(aStarSearch(evenHarderProblem, numTilesEvaluator))"
   ]
  },
  {
   "cell_type": "markdown",
   "metadata": {},
   "source": [
    "These examples came from a web page: http://www.d.umn.edu/~jrichar4/8puz.html\n",
    "but the examples have a different goal state:  \n",
    "```\n",
    "[[1,2,3], [8,0,4], [7,6,5]]\n",
    "```"
   ]
  },
  {
   "cell_type": "code",
   "execution_count": 20,
   "metadata": {},
   "outputs": [],
   "source": [
    "# Easiest to hardest\n",
    "b1 = [[1,3,4], [8,6,2], [7,0,5]]\n",
    "b2 = [[2,8,1], [0,4,3], [7,6,5]]\n",
    "b3 = [[2,8,1], [4,6,3], [0,7,5]]\n",
    "b4 = [[5,6,7], [4,0,8], [3,2,1]]"
   ]
  },
  {
   "cell_type": "code",
   "execution_count": 22,
   "metadata": {},
   "outputs": [],
   "source": [
    "# This redefines the problem to have a different goal state.\n",
    "# Remember, the evaluators have to redefine the goal too :-(\n",
    "class DifferentEightPuzzleProblem(Problem):\n",
    "    def __init__(self, board):\n",
    "        self._state = EightPuzzleWorldState(board)\n",
    "        \n",
    "    def initial(self):\n",
    "        return self._state\n",
    "    \n",
    "    def isGoal(self, state):\n",
    "        return state._board == [[1,2,3], [8,0,4], [7,6,5]]\n",
    "        "
   ]
  },
  {
   "cell_type": "code",
   "execution_count": 23,
   "metadata": {},
   "outputs": [
    {
     "name": "stdout",
     "output_type": "stream",
     "text": [
      "(['right', 'up', 'left', 'up', 'right', 'right', 'down', 'left', 'left', 'up', 'right', 'down'], (0.90625, 2706, 1087, 1646))\n"
     ]
    }
   ],
   "source": [
    "print(aStarSearch(DifferentEightPuzzleProblem(b3), bfsEvaluator, None, 25000))"
   ]
  },
  {
   "cell_type": "code",
   "execution_count": 24,
   "metadata": {},
   "outputs": [
    {
     "name": "stdout",
     "output_type": "stream",
     "text": [
      "(['right', 'up', 'left', 'up', 'right', 'right', 'down', 'left', 'left', 'up', 'right', 'down'], (0.03125, 174, 70, 125))\n"
     ]
    }
   ],
   "source": [
    "print(aStarSearch(DifferentEightPuzzleProblem(b3), numTilesEvaluator, None, 25000))"
   ]
  },
  {
   "cell_type": "code",
   "execution_count": 25,
   "metadata": {},
   "outputs": [
    {
     "name": "stdout",
     "output_type": "stream",
     "text": [
      "(['right', 'up', 'left', 'up', 'right', 'right', 'down', 'left', 'left', 'up', 'right', 'down'], (0.015625, 44, 16, 36))\n"
     ]
    }
   ],
   "source": [
    "print(aStarSearch(DifferentEightPuzzleProblem(b3), tileDistanceEvaluator, None, 25000))"
   ]
  },
  {
   "cell_type": "markdown",
   "metadata": {},
   "source": [
    "**Take-away questions**\n",
    "\n",
    "* Is the problem-solver's ability limited mainly by the fact its heuristic is weak, or is it that the implementation is slow -- it can't expand enough nodes per unit time\n",
    "* What makes one problem harder than another\n",
    "* Is the algorithm's performance on BFS and A* search in line with the asymptotic time and space results in the book?"
   ]
  },
  {
   "cell_type": "code",
   "execution_count": null,
   "metadata": {},
   "outputs": [],
   "source": []
  }
 ],
 "metadata": {
  "kernelspec": {
   "display_name": "Python 3",
   "language": "python",
   "name": "python3"
  },
  "language_info": {
   "codemirror_mode": {
    "name": "ipython",
    "version": 3
   },
   "file_extension": ".py",
   "mimetype": "text/x-python",
   "name": "python",
   "nbconvert_exporter": "python",
   "pygments_lexer": "ipython3",
   "version": "3.7.0"
  }
 },
 "nbformat": 4,
 "nbformat_minor": 2
}
