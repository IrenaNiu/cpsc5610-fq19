{
 "cells": [
  {
   "cell_type": "markdown",
   "metadata": {},
   "source": [
    "Eight Puzzle problem.  For example:\n",
    "\n",
    "1 4 5                 1 2 3\n",
    "2 3 7           =>    4 5 6\n",
    "  6 7                 7 8   \n",
    "  \n",
    "Model board as [[1, 4, 5], [2,3,7], [0, 6, 7]]\n",
    "Four possible moves are UP, DOWN, LEFT, RIGHT, referring to the blank space (0 element)\n"
   ]
  },
  {
   "cell_type": "code",
   "execution_count": 1,
   "metadata": {},
   "outputs": [],
   "source": [
    "from searchFramework import WorldState\n",
    "import copy\n",
    "\n",
    "class EightPuzzleWorldState(WorldState):\n",
    "\n",
    "    def __init__(self, board):\n",
    "        self._board = board\n",
    "        \n",
    "    def __str__(self):\n",
    "        return \"{\" + str(self._board) + \"}\"\n",
    "    \n",
    "    def __eq__(self, other):\n",
    "        if isinstance(other, EightPuzzleWorldState):\n",
    "            return self._board == other._board\n",
    "        else:\n",
    "            return False\n",
    "\n",
    "    def __hash__(self):\n",
    "        return hash(str(self._board))\n",
    "    \n",
    "    # NB: every successor state must deep copy the old state!\n",
    "    \n",
    "    def successors(self):\n",
    "        candidates = (self.up(), self.down(), self.left(), self.right())\n",
    "        return [c for c in candidates if c] \n",
    "    \n",
    "    def up(self):\n",
    "        bp = self.blankPosition()\n",
    "        if (bp[0] == 0):\n",
    "            return None\n",
    "        else:\n",
    "            s = copy.deepcopy(self)\n",
    "            s.swap(bp, (bp[0] -1, bp[1]))\n",
    "            return((s, \"up\"))\n",
    "                   \n",
    "    def down(self):\n",
    "        bp = self.blankPosition()\n",
    "        if (bp[0] == self.boardSize() - 1):\n",
    "            return None\n",
    "        else:\n",
    "            s = copy.deepcopy(self)\n",
    "            s.swap(bp, (bp[0] + 1, bp[1]))\n",
    "            return ((s, \"down\"))\n",
    "        \n",
    "    def left(self):\n",
    "        bp = self.blankPosition()\n",
    "        if (bp[1] == 0):\n",
    "            return None\n",
    "        else:\n",
    "            s = copy.deepcopy(self)\n",
    "            s.swap(bp, (bp[0], bp[1] - 1))\n",
    "            return ((s, \"left\"))\n",
    "    def right(self):\n",
    "        bp = self.blankPosition()\n",
    "        if (bp[1] == self.boardSize() - 1):\n",
    "            return None\n",
    "        else:\n",
    "            s = copy.deepcopy(self)\n",
    "            s.swap(bp, (bp[0], bp[1] + 1))\n",
    "            return ((s, \"right\"))\n",
    "\n",
    "    def boardSize(self):\n",
    "        return len(self._board[0])\n",
    "    \n",
    "    def swap(self, p1, p2):\n",
    "        tmp = self._board[p1[0]][p1[1]]\n",
    "        self._board[p1[0]][p1[1]] = self._board[p2[0]][p2[1]]\n",
    "        self._board[p2[0]][p2[1]] = tmp\n",
    "    \n",
    "    def blankPosition(self):\n",
    "        for i in range(self.boardSize()):\n",
    "            for j in range(self.boardSize()):\n",
    "                   if self._board[i][j] == 0:\n",
    "                       return (i,j)\n",
    "        return None"
   ]
  },
  {
   "cell_type": "code",
   "execution_count": null,
   "metadata": {},
   "outputs": [],
   "source": [
    "w = EightPuzzleWorldState([[1, 4, 5], [2,0,7], [3, 6, 7]])"
   ]
  },
  {
   "cell_type": "code",
   "execution_count": null,
   "metadata": {},
   "outputs": [],
   "source": [
    "ww = w.down()\n",
    "str(ww[0])"
   ]
  },
  {
   "cell_type": "code",
   "execution_count": 2,
   "metadata": {},
   "outputs": [],
   "source": [
    "from searchFramework import Problem\n",
    "\n",
    "class EightPuzzleProblem(Problem):\n",
    "    def __init__(self, board):\n",
    "        self._state = EightPuzzleWorldState(board)\n",
    "        \n",
    "    def initial(self):\n",
    "        return self._state\n",
    "    \n",
    "    def isGoal(self, state):\n",
    "        return state._board == [[1,2,3], [4,5,6], [7,8,0]]\n",
    "        "
   ]
  },
  {
   "cell_type": "code",
   "execution_count": null,
   "metadata": {},
   "outputs": [],
   "source": [
    "p = EightPuzzleProblem([[1, 4, 5], [2,0,7], [3, 6, 7]])"
   ]
  },
  {
   "cell_type": "code",
   "execution_count": null,
   "metadata": {},
   "outputs": [],
   "source": [
    "p.initial()"
   ]
  },
  {
   "cell_type": "code",
   "execution_count": null,
   "metadata": {},
   "outputs": [],
   "source": [
    "p.isGoal(EightPuzzleWorldState([[1,2,3], [4,5,6], [7,8,0]]))"
   ]
  },
  {
   "cell_type": "code",
   "execution_count": 3,
   "metadata": {},
   "outputs": [],
   "source": [
    "from searchFramework import Evaluator\n",
    "def eightPuzzleCoster(actions):\n",
    "    return len(actions)\n",
    "\n",
    "## Cost to goal is number of tiles that are not in the right position\n",
    "\n",
    "def eightPuzzleEstimator(state):\n",
    "    gb = [[1,2,3], [4,5,6], [7,8,0]]\n",
    "    est = 0\n",
    "    for i in range(state.boardSize()):\n",
    "        for j in range(state.boardSize()):\n",
    "            if state._board[i][j] != gb[i][j]:\n",
    "                est += 1\n",
    "    return est\n",
    "\n",
    "e = Evaluator(eightPuzzleEstimator, eightPuzzleCoster)"
   ]
  },
  {
   "cell_type": "code",
   "execution_count": null,
   "metadata": {},
   "outputs": [],
   "source": [
    "easyBoard = [[1,2,3], [4,5,6], [7,0,8]]\n",
    "easyProblem = EightPuzzleProblem(easyBoard)"
   ]
  },
  {
   "cell_type": "code",
   "execution_count": null,
   "metadata": {},
   "outputs": [],
   "source": [
    "from searchFramework import aStarSearch\n",
    "search = aStarSearch(easyProblem, e)\n",
    "search"
   ]
  },
  {
   "cell_type": "code",
   "execution_count": 6,
   "metadata": {},
   "outputs": [],
   "source": [
    "from searchFramework import aStarSearch\n",
    "b = [[1, 5,2], [7,4,3], [0, 8, 6]]\n",
    "p = EightPuzzleProblem(b)\n",
    "s2 = aStarSearch(p, e, 10000)"
   ]
  },
  {
   "cell_type": "code",
   "execution_count": 7,
   "metadata": {},
   "outputs": [
    {
     "data": {
      "text/plain": [
       "(['up', 'right', 'up', 'right', 'down', 'down'], (0.015625, 7, 0))"
      ]
     },
     "execution_count": 7,
     "metadata": {},
     "output_type": "execute_result"
    }
   ],
   "source": [
    "s2"
   ]
  },
  {
   "cell_type": "code",
   "execution_count": null,
   "metadata": {},
   "outputs": [],
   "source": []
  }
 ],
 "metadata": {
  "kernelspec": {
   "display_name": "Python 3",
   "language": "python",
   "name": "python3"
  },
  "language_info": {
   "codemirror_mode": {
    "name": "ipython",
    "version": 3
   },
   "file_extension": ".py",
   "mimetype": "text/x-python",
   "name": "python",
   "nbconvert_exporter": "python",
   "pygments_lexer": "ipython3",
   "version": "3.7.0"
  }
 },
 "nbformat": 4,
 "nbformat_minor": 2
}
