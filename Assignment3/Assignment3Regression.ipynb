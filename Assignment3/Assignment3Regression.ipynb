{
 "cells": [
  {
   "cell_type": "markdown",
   "metadata": {},
   "source": [
    "<span style=\"color:green\">\n",
    "\n",
    "**Linear Regression Assignment**\n",
    "\n",
    "This assignment will take you through a linear regression exercise.  For this notebook we will *not* run your code, but you will leave it in the notebook so we can look at it.  Before you hand in the notebook, please clear all code output.  In most cases you will use your code output to answer questions, and sometimes you will copy your code output into a markdown cell.  Hint:  in markdown you can use three backtick characters around code so it won't be formatted as markdown.  For example, \n",
    "</span>\n",
    "```this is markdown annotated as preformatted code```.\n",
    "\n",
    "<span style=\"color:green\">\n",
    "In the notebook below, cells rendered in red require an answer from you.  You should remove the style directive that renders the text red, then copy your answer into the cell.   Cells rendered in blue are questions.  You should leave them unchanged.  Cells rendered in green (like this one) are hints and instructions.  You should delete them before handing in your assignment.\n",
    "    \n",
    "When your answers are complete and you are ready to submit your notebook, you should first\n",
    "*  Make sure the green cells are gone\n",
    "*  Make sure there are no red cells left\n",
    "*  Do a Reset Kernel and Clear Output\n",
    "*  Look through the whole notebook to make sure it makes sense to the reader (i.e. it consists of questions in blue followed by your answers)\n",
    "\n",
    "</span>\n",
    "    \n"
   ]
  },
  {
   "cell_type": "markdown",
   "metadata": {},
   "source": [
    "<span style=\"color:red\">\n",
    "--- Identify yourself: supply your name, identify the course, quarter, and assignment number ---\n",
    "</span>"
   ]
  },
  {
   "cell_type": "markdown",
   "metadata": {},
   "source": [
    "<span style=\"color:blue\">\n",
    "Read the data set into a data frame, examine it, and answer the following questions:\n",
    "    \n",
    "* which is the y (dependent) variable?\n",
    "* which are the X (independent) variables?  Include only those X variables that are meaningful for modeling purposes\n",
    "* which of the X variables are numeric, and which are categorical?\n",
    "</span>"
   ]
  },
  {
   "cell_type": "markdown",
   "metadata": {},
   "source": [
    "<span style=\"color:red\">\n",
    "--- Your code here to read and examine the data set ---\n",
    "</span>"
   ]
  },
  {
   "cell_type": "markdown",
   "metadata": {},
   "source": [
    "<span style=\"color:red\">\n",
    "--- Your answer here ---\n",
    "</span>"
   ]
  },
  {
   "cell_type": "markdown",
   "metadata": {},
   "source": [
    "<span style=\"color:blue\">\n",
    "Do whatever transformations you need to prepare your data set for performing the regression.\n",
    "You should end up with \n",
    "    \n",
    "* a variable **X** with all the relevant independent variables properly transformed (for example for categorical variables, introduce dummy variables and delete the original column)\n",
    "* a variable **y** with the dependent variable.\n",
    "</span>"
   ]
  },
  {
   "cell_type": "markdown",
   "metadata": {},
   "source": [
    "<span style=\"color:red\">\n",
    "--- Put your transformation code here, all in one cell ---\n",
    "</span>"
   ]
  },
  {
   "cell_type": "markdown",
   "metadata": {},
   "source": [
    "<span style=\"color:blue\">\n",
    "Use the sklearn linear regression model to compute the $R^2$ value for this model\n",
    "</span>"
   ]
  },
  {
   "cell_type": "markdown",
   "metadata": {},
   "source": [
    "<span style=\"color:red\">\n",
    "--- Your regression and evaluation code here, all in one cell ---\n",
    "</span>"
   ]
  },
  {
   "cell_type": "markdown",
   "metadata": {},
   "source": [
    "<span style=\"color:red\">\n",
    "--- Your answer (R^2 value) here ---\n",
    "</span>"
   ]
  },
  {
   "cell_type": "markdown",
   "metadata": {},
   "source": [
    "<span style=\"color:blue\">\n",
    "Now use the statsmodel library to run the same model and produce a regression report.\n",
    "</span>"
   ]
  },
  {
   "cell_type": "markdown",
   "metadata": {},
   "source": [
    "<span style=\"color:red\">\n",
    "--- Copy the regression output into this cell ---\n",
    "</span>"
   ]
  },
  {
   "cell_type": "markdown",
   "metadata": {},
   "source": [
    "<span style=\"color:blue\">\n",
    "Is the R^2 value of this model the same as the R^2 value you computed using scikit-learn?<br/>\n",
    "Would you expect it to be?\n",
    "</span>"
   ]
  },
  {
   "cell_type": "markdown",
   "metadata": {},
   "source": [
    "<span style=\"color:red\">\n",
    "--- Your answer here ---\n",
    "</span>"
   ]
  },
  {
   "cell_type": "markdown",
   "metadata": {},
   "source": [
    "<span style=\"color:blue\">\n",
    "Using statsmodels, build a smaller model using only the variables Price and US\n",
    "</span>"
   ]
  },
  {
   "cell_type": "markdown",
   "metadata": {},
   "source": [
    "<span style=\"color:red\">\n",
    "--- Copy your regression report into this cell ---\n",
    "</span>"
   ]
  },
  {
   "cell_type": "markdown",
   "metadata": {},
   "source": [
    "<span style=\"color:blue\">\n",
    "Answer the following questions about this model:\n",
    "    \n",
    "* Is this model better or worse than the model with more variables?  In what sense?\n",
    "* What is the \"null model,\" and does this model perform better than the null model?\n",
    "* For each X variable in the model, report on its coefficient, and provide an English-language interpretation of the coefficient\n",
    "* Which X variable(s) are significant in the model and which are not?\n",
    "</span>"
   ]
  },
  {
   "cell_type": "markdown",
   "metadata": {},
   "source": [
    "<span style=\"color:red\">\n",
    "--- Your answer here ---\n",
    "</span>"
   ]
  },
  {
   "cell_type": "markdown",
   "metadata": {},
   "source": [
    "<span style=\"color:blue\">\n",
    "    \n",
    "So far you have been comparing models on the basis of $R^2$, which is a measure of *training accuracy*.  Now you will also consider *test accuracy*.  Consider these four models\n",
    "\n",
    "* A model consisting only of the variable Price\n",
    "* A model with variables Price and Urban\n",
    "* The full model with the variables CompPrice, Income, Advertising, Population, Price, Age, Education, Urban, US, and ShelveLoc\n",
    "* The full model except remove the variable CompPrice\n",
    "\n",
    "For each compute the quantities R^2, adjusted R^2, and estimated test MSE measured through 10-fold cross validation.\n",
    "Please supply only two digits accuracy\n",
    "</span>"
   ]
  },
  {
   "cell_type": "markdown",
   "metadata": {},
   "source": [
    "<span style=\"color:green\">\n",
    "Hints:  delete this cell after reading!\n",
    "\n",
    "*  If you fit a statsmodel OLS, you can call for example ```model = sm.OLS(y, X).fit()```\n",
    "    * Then you can retrieve ```model.rsquared```  and ```model.rsquared_adj``` without having to parse the regression report\n",
    "* In python you can use a function to round:  ```round(3.14159, 2)```\n",
    "</span>"
   ]
  },
  {
   "cell_type": "markdown",
   "metadata": {},
   "source": [
    "<span style=\"color:red\">\n",
    "Put your numbers in this table\n",
    "    \n",
    "| Variables | R2 | Adj R2 | Test MSE |\n",
    "|-----------|----|--------|---------------|\n",
    "| Price     |   1.00 |  1.00      |    1.00           | \n",
    "| Price, Urban | 1.00 | 1.00 | 1.00 |\n",
    "|CompPrice, Income, Advertising, Population, Price, Age, Education, Urban, US, ShelveLoc | 1.00 | 1.00 | 1.00 |\n",
    "|Income, Advertising, Population, Price, Age, Education, Urban, US, ShelveLoc | 1.00 | 1.00 | 1.00 |\n",
    "</span>"
   ]
  },
  {
   "cell_type": "markdown",
   "metadata": {},
   "source": [
    "<span style=\"color:blue\">\n",
    "Comment on the difference between the first and second model, and between the third on fourth model, noting that both the differences involve adding one variable\n",
    "</span>"
   ]
  },
  {
   "cell_type": "markdown",
   "metadata": {},
   "source": [
    "<span style=\"color:red\">\n",
    "--- Your answer here\n",
    "</span>"
   ]
  }
 ],
 "metadata": {
  "kernelspec": {
   "display_name": "Python 3",
   "language": "python",
   "name": "python3"
  },
  "language_info": {
   "codemirror_mode": {
    "name": "ipython",
    "version": 3
   },
   "file_extension": ".py",
   "mimetype": "text/x-python",
   "name": "python",
   "nbconvert_exporter": "python",
   "pygments_lexer": "ipython3",
   "version": "3.7.0"
  }
 },
 "nbformat": 4,
 "nbformat_minor": 1
}
