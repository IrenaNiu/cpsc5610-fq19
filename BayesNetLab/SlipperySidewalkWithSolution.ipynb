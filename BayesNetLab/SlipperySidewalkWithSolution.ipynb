{
 "cells": [
  {
   "cell_type": "markdown",
   "metadata": {},
   "source": [
    "Here is a common network example about a sidewalk.  Maybe it will inform a package-delivery agent as to the right speed or tires to use on its delivery route!\n",
    "\n",
    "The network tells us that the variable **Season** directly influences both **Sprinkler** and **Rain**, that they both in turn influence **Wet**, which in turn influences **Slippery**.\n",
    "\n",
    "There is a data set with historical observations about the variables.  The data set is in the file slippery.csv.  In this file, Season is coded as 0 to 3 (Winter, Spring, Summer, Fall) and the other variables are binary (0 for false 1 for true).\n",
    "\n",
    "First determine the parameters you need to build this network."
   ]
  },
  {
   "cell_type": "code",
   "execution_count": 1,
   "metadata": {},
   "outputs": [
    {
     "data": {
      "text/html": [
       "<div>\n",
       "<style scoped>\n",
       "    .dataframe tbody tr th:only-of-type {\n",
       "        vertical-align: middle;\n",
       "    }\n",
       "\n",
       "    .dataframe tbody tr th {\n",
       "        vertical-align: top;\n",
       "    }\n",
       "\n",
       "    .dataframe thead th {\n",
       "        text-align: right;\n",
       "    }\n",
       "</style>\n",
       "<table border=\"1\" class=\"dataframe\">\n",
       "  <thead>\n",
       "    <tr style=\"text-align: right;\">\n",
       "      <th></th>\n",
       "      <th>Season</th>\n",
       "      <th>Sprinkler</th>\n",
       "      <th>Rain</th>\n",
       "      <th>Wet</th>\n",
       "      <th>Slippery</th>\n",
       "    </tr>\n",
       "  </thead>\n",
       "  <tbody>\n",
       "    <tr>\n",
       "      <th>0</th>\n",
       "      <td>3</td>\n",
       "      <td>1</td>\n",
       "      <td>0</td>\n",
       "      <td>0</td>\n",
       "      <td>0</td>\n",
       "    </tr>\n",
       "    <tr>\n",
       "      <th>1</th>\n",
       "      <td>0</td>\n",
       "      <td>0</td>\n",
       "      <td>0</td>\n",
       "      <td>0</td>\n",
       "      <td>0</td>\n",
       "    </tr>\n",
       "    <tr>\n",
       "      <th>2</th>\n",
       "      <td>2</td>\n",
       "      <td>1</td>\n",
       "      <td>0</td>\n",
       "      <td>1</td>\n",
       "      <td>1</td>\n",
       "    </tr>\n",
       "    <tr>\n",
       "      <th>3</th>\n",
       "      <td>3</td>\n",
       "      <td>0</td>\n",
       "      <td>1</td>\n",
       "      <td>1</td>\n",
       "      <td>1</td>\n",
       "    </tr>\n",
       "    <tr>\n",
       "      <th>4</th>\n",
       "      <td>3</td>\n",
       "      <td>1</td>\n",
       "      <td>0</td>\n",
       "      <td>1</td>\n",
       "      <td>0</td>\n",
       "    </tr>\n",
       "  </tbody>\n",
       "</table>\n",
       "</div>"
      ],
      "text/plain": [
       "   Season  Sprinkler  Rain  Wet  Slippery\n",
       "0       3          1     0    0         0\n",
       "1       0          0     0    0         0\n",
       "2       2          1     0    1         1\n",
       "3       3          0     1    1         1\n",
       "4       3          1     0    1         0"
      ]
     },
     "execution_count": 1,
     "metadata": {},
     "output_type": "execute_result"
    }
   ],
   "source": [
    "# Read the file into a data frame and look at the first few rows\n",
    "\n",
    "from pandas import *\n",
    "df = pandas.read_csv(\"slippery.csv\")\n",
    "\n",
    "df.head()"
   ]
  },
  {
   "cell_type": "code",
   "execution_count": 10,
   "metadata": {},
   "outputs": [
    {
     "data": {
      "text/plain": [
       "Index(['Season', 'Sprinkler', 'Rain', 'Wet', 'Slippery'], dtype='object')"
      ]
     },
     "execution_count": 10,
     "metadata": {},
     "output_type": "execute_result"
    }
   ],
   "source": [
    "df.columns"
   ]
  },
  {
   "cell_type": "code",
   "execution_count": 3,
   "metadata": {},
   "outputs": [
    {
     "data": {
      "text/html": [
       "<div>\n",
       "<style scoped>\n",
       "    .dataframe tbody tr th:only-of-type {\n",
       "        vertical-align: middle;\n",
       "    }\n",
       "\n",
       "    .dataframe tbody tr th {\n",
       "        vertical-align: top;\n",
       "    }\n",
       "\n",
       "    .dataframe thead th {\n",
       "        text-align: right;\n",
       "    }\n",
       "</style>\n",
       "<table border=\"1\" class=\"dataframe\">\n",
       "  <thead>\n",
       "    <tr style=\"text-align: right;\">\n",
       "      <th>Wet</th>\n",
       "      <th>0</th>\n",
       "      <th>1</th>\n",
       "    </tr>\n",
       "    <tr>\n",
       "      <th>Season</th>\n",
       "      <th></th>\n",
       "      <th></th>\n",
       "    </tr>\n",
       "  </thead>\n",
       "  <tbody>\n",
       "    <tr>\n",
       "      <th>0</th>\n",
       "      <td>9183</td>\n",
       "      <td>3440</td>\n",
       "    </tr>\n",
       "    <tr>\n",
       "      <th>1</th>\n",
       "      <td>8810</td>\n",
       "      <td>3578</td>\n",
       "    </tr>\n",
       "    <tr>\n",
       "      <th>2</th>\n",
       "      <td>3236</td>\n",
       "      <td>9189</td>\n",
       "    </tr>\n",
       "    <tr>\n",
       "      <th>3</th>\n",
       "      <td>5714</td>\n",
       "      <td>6850</td>\n",
       "    </tr>\n",
       "  </tbody>\n",
       "</table>\n",
       "</div>"
      ],
      "text/plain": [
       "Wet        0     1\n",
       "Season            \n",
       "0       9183  3440\n",
       "1       8810  3578\n",
       "2       3236  9189\n",
       "3       5714  6850"
      ]
     },
     "execution_count": 3,
     "metadata": {},
     "output_type": "execute_result"
    }
   ],
   "source": [
    "pandas.crosstab(df.Season, df.Wet)"
   ]
  },
  {
   "cell_type": "code",
   "execution_count": 4,
   "metadata": {},
   "outputs": [
    {
     "data": {
      "text/html": [
       "<div>\n",
       "<style scoped>\n",
       "    .dataframe tbody tr th:only-of-type {\n",
       "        vertical-align: middle;\n",
       "    }\n",
       "\n",
       "    .dataframe tbody tr th {\n",
       "        vertical-align: top;\n",
       "    }\n",
       "\n",
       "    .dataframe thead tr th {\n",
       "        text-align: left;\n",
       "    }\n",
       "\n",
       "    .dataframe thead tr:last-of-type th {\n",
       "        text-align: right;\n",
       "    }\n",
       "</style>\n",
       "<table border=\"1\" class=\"dataframe\">\n",
       "  <thead>\n",
       "    <tr>\n",
       "      <th>Sprinkler</th>\n",
       "      <th colspan=\"2\" halign=\"left\">0</th>\n",
       "      <th colspan=\"2\" halign=\"left\">1</th>\n",
       "    </tr>\n",
       "    <tr>\n",
       "      <th>Rain</th>\n",
       "      <th>0</th>\n",
       "      <th>1</th>\n",
       "      <th>0</th>\n",
       "      <th>1</th>\n",
       "    </tr>\n",
       "    <tr>\n",
       "      <th>Wet</th>\n",
       "      <th></th>\n",
       "      <th></th>\n",
       "      <th></th>\n",
       "      <th></th>\n",
       "    </tr>\n",
       "  </thead>\n",
       "  <tbody>\n",
       "    <tr>\n",
       "      <th>0</th>\n",
       "      <td>18957</td>\n",
       "      <td>3003</td>\n",
       "      <td>3956</td>\n",
       "      <td>1027</td>\n",
       "    </tr>\n",
       "    <tr>\n",
       "      <th>1</th>\n",
       "      <td>14</td>\n",
       "      <td>9078</td>\n",
       "      <td>3892</td>\n",
       "      <td>10073</td>\n",
       "    </tr>\n",
       "  </tbody>\n",
       "</table>\n",
       "</div>"
      ],
      "text/plain": [
       "Sprinkler      0           1       \n",
       "Rain           0     1     0      1\n",
       "Wet                                \n",
       "0          18957  3003  3956   1027\n",
       "1             14  9078  3892  10073"
      ]
     },
     "execution_count": 4,
     "metadata": {},
     "output_type": "execute_result"
    }
   ],
   "source": [
    "pandas.crosstab(df.Wet, [df.Sprinkler, df.Rain])"
   ]
  },
  {
   "cell_type": "code",
   "execution_count": 7,
   "metadata": {},
   "outputs": [
    {
     "data": {
      "text/plain": [
       "0    12623\n",
       "1    12388\n",
       "2    12425\n",
       "3    12564\n",
       "Name: Season, dtype: int64"
      ]
     },
     "execution_count": 7,
     "metadata": {},
     "output_type": "execute_result"
    }
   ],
   "source": [
    "# Values in the Season column and count of each value\n",
    "df.Season.value_counts().sort_index()"
   ]
  },
  {
   "cell_type": "code",
   "execution_count": 8,
   "metadata": {},
   "outputs": [
    {
     "data": {
      "text/plain": [
       "0    0.25246\n",
       "1    0.24776\n",
       "2    0.24850\n",
       "3    0.25128\n",
       "Name: Season, dtype: float64"
      ]
     },
     "execution_count": 8,
     "metadata": {},
     "output_type": "execute_result"
    }
   ],
   "source": [
    "#  Now it's easy to get the prior probability on Season\n",
    "(df.Season.value_counts() / len(df.Season)).sort_index()"
   ]
  },
  {
   "cell_type": "code",
   "execution_count": 9,
   "metadata": {},
   "outputs": [
    {
     "data": {
      "text/plain": [
       "12425"
      ]
     },
     "execution_count": 9,
     "metadata": {},
     "output_type": "execute_result"
    }
   ],
   "source": [
    "##  Probabilities and Conditional Probabilities\n",
    "##  Counting:\n",
    "##      Example 1:  Count the number of observations that are in the summer\n",
    "\n",
    "len(df[df.Season == 2])\n"
   ]
  },
  {
   "cell_type": "code",
   "execution_count": 22,
   "metadata": {},
   "outputs": [
    {
     "name": "stdout",
     "output_type": "stream",
     "text": [
      "23057\n",
      "0.46114\n"
     ]
    }
   ],
   "source": [
    "##  For variables that are binary, to count the number of observations where a \n",
    "##  variable is true, just use sum (sum the 1 values gives you the count)\n",
    "#\n",
    "#  Number of observations where the sidewalk is wet\n",
    "print(df.Wet.sum())\n",
    "# Percent of the observations where the sidewalk is wet\n",
    "print(df.Wet.sum() / len(df.Wet))"
   ]
  },
  {
   "cell_type": "code",
   "execution_count": 17,
   "metadata": {},
   "outputs": [
    {
     "name": "stdout",
     "output_type": "stream",
     "text": [
      "    Season  Sprinkler  Rain  Wet  Slippery\n",
      "0        3          1     0    0         0\n",
      "1        0          0     0    0         0\n",
      "5        2          0     0    0         0\n",
      "9        1          0     0    0         0\n",
      "12       0          0     1    0         0\n",
      "   Season  Sprinkler  Rain  Wet  Slippery\n",
      "2       2          1     0    1         1\n",
      "3       3          0     1    1         1\n",
      "4       3          1     0    1         0\n",
      "6       2          1     1    1         0\n",
      "7       0          0     1    1         1\n"
     ]
    }
   ],
   "source": [
    "##  To get P(Slippery | Wet = 0) and P(Slippery | Wet = 1)\n",
    "\n",
    "## The general idea is to first restrict the dataframe to rows where the conditioning \n",
    "##  expression is true.  For example, the rows where Wet == 0.  This is a data frame with the \n",
    "##  same columns but a subset of the rows\n",
    "\n",
    "wet0 = df[df.Wet == 0]\n",
    "print(wet0.head())\n",
    "\n",
    "wet1 = df[df.Wet == 1]\n",
    "print(wet1.head())"
   ]
  },
  {
   "cell_type": "code",
   "execution_count": 20,
   "metadata": {},
   "outputs": [
    {
     "name": "stdout",
     "output_type": "stream",
     "text": [
      "0.00883346323720447\n"
     ]
    }
   ],
   "source": [
    "##  Now to get P(Slippery | Wet = 0) we get the percentage of records with Slippery ==1 in the restricted dataframe\n",
    "## This is what % slippery when the pavement is not wet, which we expect to be low\n",
    "print(wet0.Slippery.sum()/len(wet0.Slippery))\n"
   ]
  },
  {
   "cell_type": "code",
   "execution_count": 21,
   "metadata": {},
   "outputs": [
    {
     "name": "stdout",
     "output_type": "stream",
     "text": [
      "0.7474953376414971\n"
     ]
    }
   ],
   "source": [
    "###  P(Slippery | Wet = 1) should be higher\n",
    "print(wet1.Slippery.sum()/len(wet1.Slippery))"
   ]
  },
  {
   "cell_type": "markdown",
   "metadata": {},
   "source": [
    "#### Gather the Model Parameters\n",
    "\n",
    "The network structure tells you the probabilities you need:  a distribution over values for Season, a conditional probability table for Rain that depends on the value of Season, and so on.   Collect these values either just printed or into variables."
   ]
  },
  {
   "cell_type": "code",
   "execution_count": null,
   "metadata": {},
   "outputs": [],
   "source": []
  },
  {
   "cell_type": "markdown",
   "metadata": {},
   "source": [
    "#### Build the Network\n",
    "\n",
    "Using the example networks as a guide, build the distributions, the nodes, then the model.\n",
    "You will have success when you can say **model.bake()**\n",
    "**Hint:**  It is very easy to make small errors as you go, and if you build the whole model before testing, you will likely get an obscure error message and not know where to look.\n",
    "\n",
    "Start small and build incrementally, each time building the model and looking at its **proba** distribution to verify your inputs.\n",
    "\n",
    "* Start just with Season and its unconditional distribution.   Build a model just with that node and no arcs\n",
    "* Once that works, add Sprinkler with its conditional probability table depending on Season\n",
    "* Then you can add Rain, which should look exactly the same except for the values in the probability table\n",
    "* Then add Wet, which depends on both Rain and Sprinkler.  Think first about what its probability table should look like.  Draw out the template of the probability table arrays before putting in actual values.  Be careful about 0 and 1.   You will tend to write your 0 entry before your 1 entry, but you also tend to think of True before False\n",
    "* After Wet works, Slippery is easy, and you're done!"
   ]
  },
  {
   "cell_type": "code",
   "execution_count": null,
   "metadata": {},
   "outputs": [],
   "source": [
    "#  Network code here, ending in model.bake()"
   ]
  },
  {
   "cell_type": "markdown",
   "metadata": {},
   "source": [
    "### Answer some questions\n",
    "\n",
    "* Run the predict_proba method on the network.  What is it telling you?   Are those numbers plausible?  Useful?\n",
    "* Compare the difference in the probability of **Slippery** based on the season being Summer rather than Winter.  Is it what you were expecting?  Why or why not?\n",
    "* For the fixed **Season** value Spring, suppose you know the sprinklers are running but it's not raining.  What is the joint probability distribution over the values of **Wet** and **Slippery**\n",
    "* Suppose you know for sure that **Wet** is true.  What is the value of **Slippery**.  Now fix the value of **Rain** to true.  Does that change the probability of **Wet**?  Why or why not?\n"
   ]
  },
  {
   "cell_type": "markdown",
   "metadata": {},
   "source": [
    "## Delete Below Here"
   ]
  },
  {
   "cell_type": "code",
   "execution_count": 37,
   "metadata": {},
   "outputs": [],
   "source": [
    "## Build the network\n",
    "from pomegranate import *\n",
    "\n",
    "#  Season, Sprinkler, Rain, Wet, Slippery\n",
    "\n",
    "seasondist = DiscreteDistribution({0: .25, 1: .25, 2: .25, 3: .25})\n",
    "\n",
    "sprinklerdist = ConditionalProbabilityTable(\n",
    "    [[0, 1, .01], [0, 0, .99],\n",
    "     [1, 1, .25], [1, 0, .75],\n",
    "     [2, 1, .75], [2, 0, .25],\n",
    "     [3, 1, .50], [3, 0, .50]], [seasondist])\n",
    "\n",
    "raindist = ConditionalProbabilityTable(\n",
    "    [[0, 1, .35], [0, 0, .65],\n",
    "     [1, 1, .25], [1, 0, .75],\n",
    "     [2, 1, .05], [2, 0, .95],\n",
    "     [3, 1, .50], [3, 0, .50]], [seasondist])\n",
    "\n",
    "wetdist = ConditionalProbabilityTable(\n",
    "    [[0, 0, 1, .001], [0, 0, 0, .999],\n",
    "     [0, 1, 1, .75],  [0, 1, 0, .25],\n",
    "     [1, 0, 1, .50],  [1, 0, 0, .50],\n",
    "     [1, 1, 1, .90],  [1, 1, 0, .10]], [sprinklerdist, raindist])\n",
    "\n",
    "slipperydist = ConditionalProbabilityTable(\n",
    "    [[0, 1, .01], [0, 0, .99],\n",
    "     [1, 0, .75], [1, 1, .25]], [wetdist])\n",
    "\n",
    "\n",
    "season = Node(seasondist, name=\"Season\")\n",
    "sprinkler = Node(sprinklerdist, name=\"Sprinkler\")\n",
    "rain = Node(raindist, name=\"Rain\")\n",
    "wet = Node(wetdist, name=\"Wet\")\n",
    "slippery = Node(slipperydist, name=\"Slippery\")\n",
    "\n",
    "\n",
    "model = BayesianNetwork(\"Slippery Sidewalk\")\n",
    "model.add_states(season, sprinkler, rain, wet, slippery)\n",
    "model.add_edge(season, sprinkler)\n",
    "model.add_edge(season, rain)\n",
    "model.add_edge(sprinkler, wet)\n",
    "model.add_edge(rain, wet)\n",
    "model.add_edge(wet, slippery)\n",
    "\n",
    "model.bake()\n",
    "     \n"
   ]
  },
  {
   "cell_type": "code",
   "execution_count": 46,
   "metadata": {},
   "outputs": [
    {
     "data": {
      "text/plain": [
       "array([{\n",
       "    \"class\" :\"Distribution\",\n",
       "    \"dtype\" :\"int\",\n",
       "    \"name\" :\"DiscreteDistribution\",\n",
       "    \"parameters\" :[\n",
       "        {\n",
       "            \"0\" :0.006713585030266369,\n",
       "            \"1\" :0.16262360040245324,\n",
       "            \"2\" :0.6146935003151162,\n",
       "            \"3\" :0.2159693142521643\n",
       "        }\n",
       "    ],\n",
       "    \"frozen\" :false\n",
       "},\n",
       "       {\n",
       "    \"class\" :\"Distribution\",\n",
       "    \"dtype\" :\"int\",\n",
       "    \"name\" :\"DiscreteDistribution\",\n",
       "    \"parameters\" :[\n",
       "        {\n",
       "            \"0\" :0.0029201120453978477,\n",
       "            \"1\" :0.9970798879546022\n",
       "        }\n",
       "    ],\n",
       "    \"frozen\" :false\n",
       "},\n",
       "       0, 1,\n",
       "       {\n",
       "    \"class\" :\"Distribution\",\n",
       "    \"dtype\" :\"int\",\n",
       "    \"name\" :\"DiscreteDistribution\",\n",
       "    \"parameters\" :[\n",
       "        {\n",
       "            \"0\" :0.7499999999999999,\n",
       "            \"1\" :0.25000000000000017\n",
       "        }\n",
       "    ],\n",
       "    \"frozen\" :false\n",
       "}], dtype=object)"
      ]
     },
     "execution_count": 46,
     "metadata": {},
     "output_type": "execute_result"
    }
   ],
   "source": [
    "model.predict_proba({\"Wet\":1, \"Rain\":0})"
   ]
  },
  {
   "cell_type": "code",
   "execution_count": 28,
   "metadata": {},
   "outputs": [],
   "source": [
    "'''\n",
    "Generate the data file\n",
    "Season\n",
    "Sprinkler\n",
    "Rain\n",
    "\n",
    "Season -- [.25, .25, .25, .25]\n",
    "Sprinkler -- given season [.01, .25, .75, .50]\n",
    "Rain -- given season [.35, .25, .05, .15]\n",
    "Wet -- given sprinkler and rain [0.001, .75, .50, .90]\n",
    "Slippery -- given Wet [.01, .75]\n",
    "'''\n",
    "\n",
    "import random\n",
    "def generateFile():\n",
    "    f = open(\"slippery.csv\", \"w\")\n",
    "    f.write(\"Season,Sprinkler,Rain,Wet,Slippery\\n\")\n",
    "    for i in range(50000):\n",
    "        f.write(generateRecord() + \"\\n\")\n",
    "    f.close()\n",
    "\n",
    "def generateRecord():\n",
    "    season = random.randint(0, 3)\n",
    "    sprinkler = randBool([.01, .25, .75, .50][season])\n",
    "    rain = randBool([.35, .25, .75, .50][season])\n",
    "    wet = randBool([[0.001, 0.75], [0.50, 0.90]][sprinkler][rain])\n",
    "    slippery = randBool([.01, .75][wet])\n",
    "    return \",\".join(str(x) for x in [season, sprinkler, rain, wet, slippery])\n",
    "\n",
    "def randBool(prob):\n",
    "    return 1 if random.random() > (1 - prob) else 0"
   ]
  },
  {
   "cell_type": "code",
   "execution_count": null,
   "metadata": {},
   "outputs": [],
   "source": []
  },
  {
   "cell_type": "code",
   "execution_count": 29,
   "metadata": {},
   "outputs": [],
   "source": [
    "generateFile()"
   ]
  },
  {
   "cell_type": "code",
   "execution_count": null,
   "metadata": {},
   "outputs": [],
   "source": []
  }
 ],
 "metadata": {
  "kernelspec": {
   "display_name": "Python 3",
   "language": "python",
   "name": "python3"
  },
  "language_info": {
   "codemirror_mode": {
    "name": "ipython",
    "version": 3
   },
   "file_extension": ".py",
   "mimetype": "text/x-python",
   "name": "python",
   "nbconvert_exporter": "python",
   "pygments_lexer": "ipython3",
   "version": "3.7.0"
  }
 },
 "nbformat": 4,
 "nbformat_minor": 2
}
