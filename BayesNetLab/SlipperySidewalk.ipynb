{
 "cells": [
  {
   "cell_type": "markdown",
   "metadata": {},
   "source": [
    "Here is a common network example about a sidewalk.  Maybe it will inform a package delivery agent as to the right speed or tires to use on its delivery route!\n",
    "\n",
    "Our network structure says that the variable **Season** directly influences both **Sprinkler** and **Rain**, that they both in turn influence **Wet**, which in turn influences **Slippery**.\n",
    "\n",
    "There is a data set with historical observations about the variables.  The data set is in the file slippery.csv.  In this file, Season is coded as 0 to 3 (Winter, Spring, Summer, Fall) and the other variables are binary (0 for false 1 for true).\n",
    "\n",
    "First determine the parameters you need to build this network."
   ]
  },
  {
   "cell_type": "code",
   "execution_count": 6,
   "metadata": {},
   "outputs": [],
   "source": [
    "# Read the file into a data frame and look at the first few rows\n",
    "import pandas as pd\n",
    "df = pd.read_csv(\"slippery.csv\")\n",
    "#df.head()"
   ]
  },
  {
   "cell_type": "code",
   "execution_count": 5,
   "metadata": {},
   "outputs": [
    {
     "data": {
      "text/plain": [
       "pandas.core.frame.DataFrame"
      ]
     },
     "execution_count": 5,
     "metadata": {},
     "output_type": "execute_result"
    }
   ],
   "source": [
    "type(df)"
   ]
  },
  {
   "cell_type": "code",
   "execution_count": 7,
   "metadata": {},
   "outputs": [
    {
     "data": {
      "text/plain": [
       "Index(['Season', 'Sprinkler', 'Rain', 'Wet', 'Slippery'], dtype='object')"
      ]
     },
     "execution_count": 7,
     "metadata": {},
     "output_type": "execute_result"
    }
   ],
   "source": [
    "df.columns"
   ]
  },
  {
   "cell_type": "code",
   "execution_count": null,
   "metadata": {},
   "outputs": [],
   "source": [
    "# The columns came from the csv file\n",
    "df.columns"
   ]
  },
  {
   "cell_type": "code",
   "execution_count": 11,
   "metadata": {},
   "outputs": [
    {
     "data": {
      "text/plain": [
       "50000"
      ]
     },
     "execution_count": 11,
     "metadata": {},
     "output_type": "execute_result"
    }
   ],
   "source": [
    "len(df['Season'])"
   ]
  },
  {
   "cell_type": "code",
   "execution_count": 9,
   "metadata": {},
   "outputs": [
    {
     "data": {
      "text/plain": [
       "pandas.core.series.Series"
      ]
     },
     "execution_count": 9,
     "metadata": {},
     "output_type": "execute_result"
    }
   ],
   "source": [
    "type(df.Season)"
   ]
  },
  {
   "cell_type": "code",
   "execution_count": 12,
   "metadata": {},
   "outputs": [
    {
     "data": {
      "text/plain": [
       "(50000, 5)"
      ]
     },
     "execution_count": 12,
     "metadata": {},
     "output_type": "execute_result"
    }
   ],
   "source": [
    "df.shape"
   ]
  },
  {
   "cell_type": "code",
   "execution_count": null,
   "metadata": {},
   "outputs": [],
   "source": [
    "df.Season + df.Rain"
   ]
  },
  {
   "cell_type": "code",
   "execution_count": 18,
   "metadata": {},
   "outputs": [
    {
     "data": {
      "text/plain": [
       "0.25246"
      ]
     },
     "execution_count": 18,
     "metadata": {},
     "output_type": "execute_result"
    }
   ],
   "source": [
    "# Prob(Season=0)\n",
    "len(df[df.Season==0]) / len(df.Season)"
   ]
  },
  {
   "cell_type": "code",
   "execution_count": 20,
   "metadata": {},
   "outputs": [
    {
     "data": {
      "text/plain": [
       "12623"
      ]
     },
     "execution_count": 20,
     "metadata": {},
     "output_type": "execute_result"
    }
   ],
   "source": [
    "len(df[df.Season==0]) "
   ]
  },
  {
   "cell_type": "code",
   "execution_count": 22,
   "metadata": {},
   "outputs": [
    {
     "data": {
      "text/plain": [
       "0    0.25246\n",
       "3    0.25128\n",
       "2    0.24850\n",
       "1    0.24776\n",
       "Name: Season, dtype: float64"
      ]
     },
     "execution_count": 22,
     "metadata": {},
     "output_type": "execute_result"
    }
   ],
   "source": [
    "# Values in the Season column and count of each value\n",
    "df.Season.value_counts() / len(df.Season)"
   ]
  },
  {
   "cell_type": "code",
   "execution_count": 23,
   "metadata": {},
   "outputs": [
    {
     "data": {
      "text/plain": [
       "0    0.25246\n",
       "1    0.24776\n",
       "2    0.24850\n",
       "3    0.25128\n",
       "Name: Season, dtype: float64"
      ]
     },
     "execution_count": 23,
     "metadata": {},
     "output_type": "execute_result"
    }
   ],
   "source": [
    "#  Now it's easy to get the prior probability on Season\n",
    "(df.Season.value_counts() / len(df.Season)).sort_index()"
   ]
  },
  {
   "cell_type": "code",
   "execution_count": 50,
   "metadata": {},
   "outputs": [],
   "source": [
    "from pomegranate import *\n",
    "seasonDist = DiscreteDistribution({0: 0.25246,1: 0.24776, 2: 0.24850, 3: 0.25128})\n",
    "season = Node(seasonDist, \"season\")\n",
    "\n",
    "sprinklerDist = ConditionalProbabilityTable(\n",
    "    [[0, 0, notSpGivenSeason(0)],\n",
    "     [0, 1, spGivenSeason(0)],\n",
    "     [1, 0, notSpGivenSeason(1)],\n",
    "     [1, 1, spGivenSeason(1)],\n",
    "     [2, 0, notSpGivenSeason(2)],\n",
    "     [2, 1, spGivenSeason(2)],\n",
    "     [3, 0, notSpGivenSeason(3)],\n",
    "     [3, 1, spGivenSeason(3)]],\n",
    "    [seasonDist])\n",
    "sprinkler = Node(sprinklerDist, \"sprinkler\")\n",
    "\n",
    "model = BayesianNetwork(\"Slippery Sidewalk\")\n",
    "model.add_states(season, sprinkler)\n",
    "model.add_edge(season, sprinkler)\n",
    "model.bake()"
   ]
  },
  {
   "cell_type": "code",
   "execution_count": 51,
   "metadata": {},
   "outputs": [
    {
     "data": {
      "text/plain": [
       "array([{\n",
       "    \"class\" :\"Distribution\",\n",
       "    \"dtype\" :\"int\",\n",
       "    \"name\" :\"DiscreteDistribution\",\n",
       "    \"parameters\" :[\n",
       "        {\n",
       "            \"0\" :0.25246,\n",
       "            \"1\" :0.24776,\n",
       "            \"2\" :0.24850000000000003,\n",
       "            \"3\" :0.25128000000000006\n",
       "        }\n",
       "    ],\n",
       "    \"frozen\" :false\n",
       "},\n",
       "       {\n",
       "    \"class\" :\"Distribution\",\n",
       "    \"dtype\" :\"int\",\n",
       "    \"name\" :\"DiscreteDistribution\",\n",
       "    \"parameters\" :[\n",
       "        {\n",
       "            \"0\" :0.6210399999999999,\n",
       "            \"1\" :0.37895999999999996\n",
       "        }\n",
       "    ],\n",
       "    \"frozen\" :false\n",
       "}], dtype=object)"
      ]
     },
     "execution_count": 51,
     "metadata": {},
     "output_type": "execute_result"
    }
   ],
   "source": [
    "model.marginal()"
   ]
  },
  {
   "cell_type": "code",
   "execution_count": 47,
   "metadata": {},
   "outputs": [],
   "source": [
    "# Build nodes Sprinkler and Rain and attach them\n",
    "\n"
   ]
  },
  {
   "cell_type": "code",
   "execution_count": 46,
   "metadata": {},
   "outputs": [
    {
     "name": "stdout",
     "output_type": "stream",
     "text": [
      "0.01069476352689535\n",
      "0.9893052364731046\n"
     ]
    }
   ],
   "source": [
    "# Prob(Sprinkler=0 | Season = 0)\n",
    "#print(len(df[df.Sprinkler==1])/ len(df.Sprinkler))\n",
    "#print(sum(df.Sprinkler) / len(df.Sprinkler))\n",
    "#df0 = df[df.Season==0]\n",
    "#len(df0[df0.Sprinkler==1]) / len(df0.Sprinkler)\n",
    "def spGivenSeason(season):\n",
    "    return sum(df[df.Season==season].Sprinkler) / len(df[df.Season==season].Sprinkler)\n",
    "\n",
    "def notSpGivenSeason(season):\n",
    "    return (1 - spGivenSeason(season))\n",
    "\n",
    "print(spGivenSeason(0))\n",
    "print(notSpGivenSeason(0))"
   ]
  },
  {
   "cell_type": "code",
   "execution_count": null,
   "metadata": {},
   "outputs": [],
   "source": [
    "##  Probabilities and Conditional Probabilities\n",
    "##  Counting:\n",
    "##      Example 1:  Count the number of observations that are in the summer\n",
    "\n",
    "len(df[df.Season == 2])\n"
   ]
  },
  {
   "cell_type": "code",
   "execution_count": null,
   "metadata": {},
   "outputs": [],
   "source": [
    "## Another way to count -- if the column values are 0 or 1\n",
    "print(len(df[df.Rain == 1])"
   ]
  },
  {
   "cell_type": "code",
   "execution_count": null,
   "metadata": {},
   "outputs": [],
   "source": [
    "##  For variables that are binary and coded 0=true, 1=false,\n",
    "#   to count the number of observations where a \n",
    "##  variable is true, just use sum (sum the 1 values gives you the count)\n",
    "#\n",
    "#  Number of observations where the sidewalk is wet\n",
    "print(df.Wet.sum())\n",
    "# Percent of the observations where the sidewalk is wet\n",
    "print(df.Wet.sum() / len(df.Wet))"
   ]
  },
  {
   "cell_type": "code",
   "execution_count": null,
   "metadata": {},
   "outputs": [],
   "source": [
    "## Conditional Probabilities\n",
    "\n",
    "##  To get P(Slippery | Wet = 0) and P(Slippery | Wet = 1)\n",
    "\n",
    "## The general idea is to first restrict the dataframe to rows where the conditioning \n",
    "##  expression is true.  For example, the rows where Wet == 0.  This is a data frame with the \n",
    "##  same columns but a subset of the rows\n",
    "\n",
    "wet0 = df[df.Wet == 0]\n",
    "print(wet0.head())\n",
    "\n",
    "wet1 = df[df.Wet == 1]\n",
    "print(wet1.head())"
   ]
  },
  {
   "cell_type": "code",
   "execution_count": null,
   "metadata": {},
   "outputs": [],
   "source": [
    "##  Now to get P(Slippery | Wet = 0) we get the percentage of records with Slippery ==1 in the restricted dataframe\n",
    "## This is what % slippery when the pavement is not wet, which we expect to be low\n",
    "\n",
    "print(wet0.Slippery.sum()/len(wet0.Slippery))\n"
   ]
  },
  {
   "cell_type": "code",
   "execution_count": null,
   "metadata": {},
   "outputs": [],
   "source": [
    "###  P(Slippery | Wet = 1) should be higher\n",
    "print(wet1.Slippery.sum()/len(wet1.Slippery))"
   ]
  },
  {
   "cell_type": "markdown",
   "metadata": {},
   "source": [
    "#### Gather the Model Parameters\n",
    "\n",
    "The network structure tells you the probabilities you need:  a distribution over values for Season, a conditional probability table for Rain that depends on the value of Season, and so on.   Collect these values either just printed or into variables."
   ]
  },
  {
   "cell_type": "code",
   "execution_count": null,
   "metadata": {},
   "outputs": [],
   "source": [
    "## Calculation of model parameters goes here"
   ]
  },
  {
   "cell_type": "markdown",
   "metadata": {},
   "source": [
    "#### Build the Network\n",
    "\n",
    "Using the example networks as a guide, build the distributions, the nodes, then the model.\n",
    "You will have success when you can say **model.bake()**\n",
    "**Hint:**  It is very easy to make small errors as you go, and if you build the whole model before testing, you will likely get an obscure error message and not know where to look.\n",
    "\n",
    "Start small and build incrementally, each time building the model and looking at its **proba** distribution to verify your inputs.\n",
    "\n",
    "* Start just with Season and its unconditional distribution.   Build a model just with that node and no arcs\n",
    "* Once that works, add Sprinkler with its conditional probability table depending on Season\n",
    "* Then you can add Rain, which should look exactly the same except for the values in the probability table\n",
    "* Then add Wet, which depends on both Rain and Sprinkler.  Think first about what its probability table should look like.  Draw out the template of the probability table arrays before putting in actual values.  Be careful about 0 and 1.   You will tend to write your 0 entry before your 1 entry, but you also tend to think of True before False\n",
    "* After Wet works, Slippery is easy, and you're done!"
   ]
  },
  {
   "cell_type": "code",
   "execution_count": null,
   "metadata": {},
   "outputs": [],
   "source": [
    "from pomegranate import *\n",
    "\n",
    "#seasonDist = DiscreteDistribution({...})\n",
    "#rainDist = ConditionalProbabilityTable([...], [seasonDist])\n",
    "\n",
    "#season = Node(seasonDist, name=\"Season\")\n",
    "#rain = Node(rainDist, name=\"Rain\")\n",
    "\n",
    "#model = BayesianNetwork(\"Slippery Sidewalk\")\n",
    "#model.add_states(season, rain, ...)\n",
    "#model.add_edge(season, rain)\n",
    "\n",
    "#model.bake()"
   ]
  },
  {
   "cell_type": "markdown",
   "metadata": {},
   "source": [
    "### Answer some questions\n",
    "\n",
    "* Run the **predict_proba** method on the network.  What is it telling you?   Are those numbers plausible?  Useful?\n",
    "* Compare the difference in the probability of **Slippery** based on the season being Summer rather than Winter.  Is it what you were expecting?  Why or why not?\n",
    "* For the fixed **Season** value Spring, suppose you know the sprinklers are running but it's not raining.  What is the joint probability distribution over the values of **Wet** and **Slippery**\n",
    "* Suppose you know for sure that **Wet** is true.  What is the value of **Slippery**.  Now fix the value of **Rain** to true.  Does that change the probability of **Wet**?  Why or why not?\n"
   ]
  },
  {
   "cell_type": "code",
   "execution_count": null,
   "metadata": {},
   "outputs": [],
   "source": []
  }
 ],
 "metadata": {
  "kernelspec": {
   "display_name": "Python 3",
   "language": "python",
   "name": "python3"
  },
  "language_info": {
   "codemirror_mode": {
    "name": "ipython",
    "version": 3
   },
   "file_extension": ".py",
   "mimetype": "text/x-python",
   "name": "python",
   "nbconvert_exporter": "python",
   "pygments_lexer": "ipython3",
   "version": "3.7.0"
  }
 },
 "nbformat": 4,
 "nbformat_minor": 2
}
