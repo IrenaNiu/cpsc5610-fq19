{
 "cells": [
  {
   "cell_type": "markdown",
   "metadata": {},
   "source": [
    "### Bayesian network inference library\n",
    "\n",
    "We will be using the pomegranate library for Bayes Net inference\n",
    "\n",
    "  * Installation instructions https://pomegranate.readthedocs.io/en/latest/install.html\n",
    "  * Tutorial / documentation https://pomegranate.readthedocs.io/en/latest/BayesianNetwork.html\n",
    "  \n",
    "In the tutorial / documentation, ignore the parts about \"initializing a Bayesian network based completely on data\" and the sections on \"Probability\" \"Prediction\" and \"Fitting\" -- see the example below on how to determine the probability distribution on a node in the graph based on evidence.\n",
    "\n",
    "Just to make sure things are working, first load in the Monty Hall code from the tutorial and try \n",
    "  * "
   ]
  },
  {
   "cell_type": "code",
   "execution_count": 2,
   "metadata": {},
   "outputs": [],
   "source": [
    "from pomegranate import *\n",
    "\n",
    "guest = DiscreteDistribution({'A': 1./3, 'B': 1./3, 'C': 1./3})\n",
    "prize = DiscreteDistribution({'A': 1./3, 'B': 1./3, 'C': 1./3})\n",
    "monty = ConditionalProbabilityTable(\n",
    "        [['A', 'A', 'A', 0.0],\n",
    "         ['A', 'A', 'B', 0.5],\n",
    "         ['A', 'A', 'C', 0.5],\n",
    "         ['A', 'B', 'A', 0.0],\n",
    "         ['A', 'B', 'B', 0.0],\n",
    "         ['A', 'B', 'C', 1.0],\n",
    "         ['A', 'C', 'A', 0.0],\n",
    "         ['A', 'C', 'B', 1.0],\n",
    "         ['A', 'C', 'C', 0.0],\n",
    "         ['B', 'A', 'A', 0.0],\n",
    "         ['B', 'A', 'B', 0.0],\n",
    "         ['B', 'A', 'C', 1.0],\n",
    "         ['B', 'B', 'A', 0.5],\n",
    "         ['B', 'B', 'B', 0.0],\n",
    "         ['B', 'B', 'C', 0.5],\n",
    "         ['B', 'C', 'A', 1.0],\n",
    "         ['B', 'C', 'B', 0.0],\n",
    "         ['B', 'C', 'C', 0.0],\n",
    "         ['C', 'A', 'A', 0.0],\n",
    "         ['C', 'A', 'B', 1.0],\n",
    "         ['C', 'A', 'C', 0.0],\n",
    "         ['C', 'B', 'A', 1.0],\n",
    "         ['C', 'B', 'B', 0.0],\n",
    "         ['C', 'B', 'C', 0.0],\n",
    "         ['C', 'C', 'A', 0.5],\n",
    "         ['C', 'C', 'B', 0.5],\n",
    "         ['C', 'C', 'C', 0.0]], [guest, prize])\n",
    "\n",
    "s1 = Node(guest, name=\"guest\")\n",
    "s2 = Node(prize, name=\"prize\")\n",
    "s3 = Node(monty, name=\"monty\")\n",
    "\n",
    "model = BayesianNetwork(\"Monty Hall Problem\")\n",
    "model.add_states(s1, s2, s3)\n",
    "model.add_edge(s1, s3)\n",
    "model.add_edge(s2, s3)\n",
    "model.bake()"
   ]
  },
  {
   "cell_type": "code",
   "execution_count": 3,
   "metadata": {},
   "outputs": [
    {
     "data": {
      "text/plain": [
       "array(['A',\n",
       "       {\n",
       "    \"class\" :\"Distribution\",\n",
       "    \"dtype\" :\"str\",\n",
       "    \"name\" :\"DiscreteDistribution\",\n",
       "    \"parameters\" :[\n",
       "        {\n",
       "            \"A\" :0.3333333333333334,\n",
       "            \"B\" :0.0,\n",
       "            \"C\" :0.6666666666666664\n",
       "        }\n",
       "    ],\n",
       "    \"frozen\" :false\n",
       "},\n",
       "       'B'], dtype=object)"
      ]
     },
     "execution_count": 3,
     "metadata": {},
     "output_type": "execute_result"
    }
   ],
   "source": [
    "##  Suppose the guest chooses A, and Monty chooses B.\n",
    "##  Monty gives the guest to switch from A to C.  Should she?\n",
    "model.predict_proba({\"guest\": 'A', \"monty\": 'B'})"
   ]
  },
  {
   "cell_type": "code",
   "execution_count": 2,
   "metadata": {},
   "outputs": [],
   "source": [
    "from pomegranate import *"
   ]
  },
  {
   "cell_type": "markdown",
   "metadata": {},
   "source": [
    "#### Here's an example of a noisy sensor ####\n",
    "\n",
    "* The variable **water** says whether or not there is water in my basement.  This variable takes values **{none, some, lots}**\n",
    "* I have a water detector **waterDetector** that is either **on** or **off**\n",
    "  * It is supposed to be ON if and only if W is either some or lots\n",
    "  * However, it sometimes fails to alert (is **off** when **water** is either **some** or **lots**)\n",
    "  * It also sometimes false alarms (is **on** when **water** is **none**)\n",
    "\n",
    "This is what I discovered by observing the basement over time\n",
    "* On any given day, the probability of **water** is **(.98, .015, .05)** for values **(none, some, lots)**\n",
    "* The likelihood of a false alarm **P(waterDetector = on | water = none) = 0.01**\n",
    "* The likelihood of the sensor missing water depends on the water level: **P(waterDetector = off | water = some) = .10**;   **P(waterDetector = off | water = lots) = .005**\n"
   ]
  },
  {
   "cell_type": "code",
   "execution_count": 3,
   "metadata": {},
   "outputs": [],
   "source": [
    "# The distributions\n",
    "wdist = DiscreteDistribution({\"none\": 0.98, \"some\": 0.015, \"lots\": 0.005})\n",
    "\n",
    "wddist = ConditionalProbabilityTable([[\"none\", \"on\", 0.01],  [\"none\", \"off\", 0.99],\n",
    "                                      [\"some\", \"on\", 0.90],  [\"some\", \"off\", 0.10],\n",
    "                                      [\"lots\", \"on\", 0.995], [\"lots\", \"off\", 0.005]],\n",
    "                                     [wdist])\n",
    "\n",
    "# The nodes\n",
    "water = Node(wdist, name=\"water\")\n",
    "waterDetector = Node(wddist, name=\"waterDetector\")\n",
    "\n",
    "# The Network\n",
    "model = BayesianNetwork(\"Water Detector\")\n",
    "model.add_states(water, waterDetector)\n",
    "model.add_edge(water, waterDetector)\n",
    "model.bake()\n",
    "                                     "
   ]
  },
  {
   "cell_type": "markdown",
   "metadata": {},
   "source": [
    "With no further information, what is the likelihood that (a) there is some or lots of water in my basement, and (b) what is the likelihood that my water detector is displaying ON"
   ]
  },
  {
   "cell_type": "code",
   "execution_count": 5,
   "metadata": {},
   "outputs": [
    {
     "data": {
      "text/plain": [
       "array([{\n",
       "    \"class\" :\"Distribution\",\n",
       "    \"dtype\" :\"str\",\n",
       "    \"name\" :\"DiscreteDistribution\",\n",
       "    \"parameters\" :[\n",
       "        {\n",
       "            \"none\" :0.9799999999999991,\n",
       "            \"some\" :0.015000000000000421,\n",
       "            \"lots\" :0.005000000000000436\n",
       "        }\n",
       "    ],\n",
       "    \"frozen\" :false\n",
       "},\n",
       "       {\n",
       "    \"class\" :\"Distribution\",\n",
       "    \"dtype\" :\"str\",\n",
       "    \"name\" :\"DiscreteDistribution\",\n",
       "    \"parameters\" :[\n",
       "        {\n",
       "            \"on\" :0.028275000000000623,\n",
       "            \"off\" :0.9717249999999994\n",
       "        }\n",
       "    ],\n",
       "    \"frozen\" :false\n",
       "}], dtype=object)"
      ]
     },
     "execution_count": 5,
     "metadata": {},
     "output_type": "execute_result"
    }
   ],
   "source": [
    "model.marginal()"
   ]
  },
  {
   "cell_type": "code",
   "execution_count": 4,
   "metadata": {},
   "outputs": [
    {
     "data": {
      "text/plain": [
       "array([{\n",
       "    \"class\" :\"Distribution\",\n",
       "    \"dtype\" :\"str\",\n",
       "    \"name\" :\"DiscreteDistribution\",\n",
       "    \"parameters\" :[\n",
       "        {\n",
       "            \"none\" :0.9799999999999991,\n",
       "            \"some\" :0.015000000000000421,\n",
       "            \"lots\" :0.005000000000000436\n",
       "        }\n",
       "    ],\n",
       "    \"frozen\" :false\n",
       "},\n",
       "       {\n",
       "    \"class\" :\"Distribution\",\n",
       "    \"dtype\" :\"str\",\n",
       "    \"name\" :\"DiscreteDistribution\",\n",
       "    \"parameters\" :[\n",
       "        {\n",
       "            \"on\" :0.028275000000000623,\n",
       "            \"off\" :0.9717249999999994\n",
       "        }\n",
       "    ],\n",
       "    \"frozen\" :false\n",
       "}], dtype=object)"
      ]
     },
     "execution_count": 4,
     "metadata": {},
     "output_type": "execute_result"
    }
   ],
   "source": [
    "# Compute probabilities on the basis of no additional evidence.  Its output is a list of \n",
    "# distributions over node values, in the order they were added -- in our case, water is at [0] and waterDetector is at [1]\n",
    "model.predict_proba({})"
   ]
  },
  {
   "cell_type": "code",
   "execution_count": 20,
   "metadata": {},
   "outputs": [
    {
     "data": {
      "text/plain": [
       "[{'none': 0.9799999999999991,\n",
       "  'some': 0.015000000000000421,\n",
       "  'lots': 0.005000000000000436}]"
      ]
     },
     "execution_count": 20,
     "metadata": {},
     "output_type": "execute_result"
    }
   ],
   "source": [
    "# This is the distribution over values of water -- not surprising, it is the same as the priors \n",
    "#  (subject to rounding error)\n",
    "model.predict_proba({})[0].parameters"
   ]
  },
  {
   "cell_type": "code",
   "execution_count": 24,
   "metadata": {},
   "outputs": [
    {
     "data": {
      "text/plain": [
       "[{'on': 0.028275000000000623, 'off': 0.9717249999999994}]"
      ]
     },
     "execution_count": 24,
     "metadata": {},
     "output_type": "execute_result"
    }
   ],
   "source": [
    "# This is the distribution over values of waterDetector\n",
    "model.predict_proba({})[1].parameters"
   ]
  },
  {
   "cell_type": "markdown",
   "metadata": {},
   "source": [
    "Suppose I learn that the water detector is **on**.  How does that affect my beliefs over the basement water level"
   ]
  },
  {
   "cell_type": "code",
   "execution_count": 21,
   "metadata": {},
   "outputs": [
    {
     "data": {
      "text/plain": [
       "[{'none': 0.34659593280282863,\n",
       "  'some': 0.4774535809018497,\n",
       "  'lots': 0.17595048629532176}]"
      ]
     },
     "execution_count": 21,
     "metadata": {},
     "output_type": "execute_result"
    }
   ],
   "source": [
    "model.predict_proba({\"waterDetector\": \"on\"})[0].parameters"
   ]
  },
  {
   "cell_type": "code",
   "execution_count": null,
   "metadata": {},
   "outputs": [],
   "source": [
    "Suppose instead I go to the basement and observe that there is no water in the basement.  \n",
    "How does that affect my belief as to whether or not the water detector is on?"
   ]
  },
  {
   "cell_type": "code",
   "execution_count": 23,
   "metadata": {},
   "outputs": [
    {
     "data": {
      "text/plain": [
       "[{'on': 0.010000000000000222, 'off': 0.9899999999999998}]"
      ]
     },
     "execution_count": 23,
     "metadata": {},
     "output_type": "execute_result"
    }
   ],
   "source": [
    "model.predict_proba({\"water\": \"none\"})[1].parameters"
   ]
  },
  {
   "cell_type": "markdown",
   "metadata": {},
   "source": [
    "####  Question 1 ####\n",
    "My beliefs about water level change with the season.   There are two seasons, the dry season and the wet season.\n",
    "The season affects my prior belief in the water level, not the behavior of the sensor.   If the season is \n",
    "**wet**  my prior distribution on **water** is\n",
    "{\"none\": 0.80, \"some\": 0.15, \"lots\": 0.05})\n",
    "and if the season is **dry** the distribution is \n",
    "{\"none\": 0.95, \"some\": 0.035, \"lots\": 0.015})\n",
    "\n",
    "Adjust the model accordingly.  Suppose it's the dry season, but my water detector is saying **on** -- what do I believe about water in the basement?\n"
   ]
  },
  {
   "cell_type": "code",
   "execution_count": 3,
   "metadata": {},
   "outputs": [],
   "source": [
    "# This is my season node\n",
    "sdist = DiscreteDistribution({\"dry\": 0.50, \"wet\": 0.50})\n",
    "season = Node(sdist, name=\"season\")\n",
    "\n",
    "# This is my water node\n",
    "wdist = ConditionalProbabilityTable([[\"dry\", \"none\", 0.95],  [\"dry\", \"some\", 0.035], [\"dry\", \"lots\", 0.015],\n",
    "                                     [\"wet\", \"none\", 0.80],  [\"wet\", \"some\", 0.15],  [\"wet\", \"lots\", 0.05]], \n",
    "                                    [sdist])\n",
    "water = Node(wdist, name=\"water\")\n",
    "\n",
    "# My water detector node\n",
    "wddist = ConditionalProbabilityTable([[\"none\", \"on\", 0.01],  [\"none\", \"off\", 0.99],\n",
    "                                      [\"some\", \"on\", 0.90],  [\"some\", \"off\", 0.10],\n",
    "                                      [\"lots\", \"on\", 0.995], [\"lots\", \"off\", 0.005]],\n",
    "                                     [wdist])\n",
    "waterDetector = Node(wddist, name=\"waterDetector\")\n",
    "\n",
    "# The Network\n",
    "model = BayesianNetwork(\"Water Detector\")\n",
    "model.add_states(season, water, waterDetector)\n",
    "model.add_edge(season, water)\n",
    "model.add_edge(water, waterDetector)\n",
    "model.bake()"
   ]
  },
  {
   "cell_type": "code",
   "execution_count": 4,
   "metadata": {},
   "outputs": [
    {
     "data": {
      "text/plain": [
       "array(['dry',\n",
       "       {\n",
       "    \"class\" :\"Distribution\",\n",
       "    \"dtype\" :\"str\",\n",
       "    \"name\" :\"DiscreteDistribution\",\n",
       "    \"parameters\" :[\n",
       "        {\n",
       "            \"some\" :0.5632543585158643,\n",
       "            \"none\" :0.16987036209209097,\n",
       "            \"lots\" :0.2668752793920448\n",
       "        }\n",
       "    ],\n",
       "    \"frozen\" :false\n",
       "},\n",
       "       'on'], dtype=object)"
      ]
     },
     "execution_count": 4,
     "metadata": {},
     "output_type": "execute_result"
    }
   ],
   "source": [
    "model.predict_proba({\"season\": \"dry\", \"waterDetector\": \"on\"})"
   ]
  },
  {
   "cell_type": "markdown",
   "metadata": {},
   "source": [
    "#### Question 2 ####\n",
    "\n",
    "Code the example from the lectures, about burglaries, alarms, and phone calls\n",
    "* Variables are B (Burglary), E (Earthquake), A (Alarm), J (John calls), M (Mary calls)\n",
    "  * All are true/false\n",
    "* Assumptions we make as domain experts\n",
    "  * Burglaries do not cause earthquakes, and vice versa\n",
    "  * The alarm's behavior depends only on B and E and uncorrelated error behavior (for example, if there is no Burglary or Earthquake, then the likelihood the alarm sounds anyway does not depend on any other factor)\n",
    "  * John and Mary have their own parameters, but those depend only on A, and otherwise they act independently\n",
    "* Parameters we have gathered\n",
    "  * Prob(B) = .001\n",
    "  * Prob(E) = .002\n",
    "  * Prob(A | B,E) = (.95, .94, .29, .001)    ((+b, +e), (+b, -e), (-b, +e), (-b, -e))\n",
    "  * Prob(J | A) = (.9, .45)\n",
    "  * Prob(M | A) = (.7, .01).\n",
    "\n",
    "\n",
    "Code this as a Bayes network, and answer these two questions:\n",
    "\n",
    "1.  My phone is off so I don't know whether or not I got a call.  What is the likelihood there was a burglary?  What is the likelihood my alarm went off?\n",
    "\n",
    "2.  I just got a call from Mary but not John.  How does that affect my belief that there was a burglary?\n",
    "\n",
    "3.  I heard a reliable news report that there was an earthquake.  What is the chance I will will be getting a call from John soon?\n"
   ]
  },
  {
   "cell_type": "code",
   "execution_count": 19,
   "metadata": {},
   "outputs": [],
   "source": [
    "from pomegranate import *\n",
    "\n",
    "bdist = DiscreteDistribution({1: .001, 0: (1 - .001)})\n",
    "b = Node(bdist, name=\"burglary\")\n",
    "\n",
    "edist = DiscreteDistribution({1: .002, 0: (1 - .002)})\n",
    "e = Node(edist, name=\"earthquake\")\n",
    "\n",
    "\n",
    "adist = ConditionalProbabilityTable([[1, 1,  1, .95],   [1, 1, 0, (1-.95)],\n",
    "                                     [1, 0,  1, .94],   [1, 0, 0, (1-.94)],\n",
    "                                     [0, 1,  1, .29],   [0, 1, 0, (1-.29)],\n",
    "                                     [0, 0,  1, .001],  [0, 0, 0, (1-.001)]],\n",
    "                                   [bdist, edist])\n",
    "a = Node(adist, name=\"alarm\")\n",
    "\n",
    "jdist = ConditionalProbabilityTable([[1, 1, .9],   [1, 0, (1-.9)],\n",
    "                                     [0, 1, .05],  [0, 0, (1-.05)]],\n",
    "                                    [adist])\n",
    "j = Node(jdist, name=\"john\")\n",
    "\n",
    "mdist = ConditionalProbabilityTable([[1, 1, .7],  [1, 0, (1-.7)],\n",
    "                                     [0, 1, .01],  [0, 0, (1-.01)]],\n",
    "                                    [adist])\n",
    "m = Node(mdist, name=\"mary\")\n",
    "\n",
    "# The Network\n",
    "model = BayesianNetwork(\"Alarm\")\n",
    "model.add_states(b,e, a, j, m)\n",
    "model.add_edge(b,a)\n",
    "model.add_edge(e,a)\n",
    "model.add_edge(a,j)\n",
    "model.add_edge(a,m)\n",
    "model.bake()\n"
   ]
  },
  {
   "cell_type": "code",
   "execution_count": 27,
   "metadata": {},
   "outputs": [
    {
     "data": {
      "text/plain": [
       "array([{\n",
       "    \"class\" :\"Distribution\",\n",
       "    \"dtype\" :\"int\",\n",
       "    \"name\" :\"DiscreteDistribution\",\n",
       "    \"parameters\" :[\n",
       "        {\n",
       "            \"1\" :0.001000000000000444,\n",
       "            \"0\" :0.9989999999999996\n",
       "        }\n",
       "    ],\n",
       "    \"frozen\" :false\n",
       "},\n",
       "       {\n",
       "    \"class\" :\"Distribution\",\n",
       "    \"dtype\" :\"int\",\n",
       "    \"name\" :\"DiscreteDistribution\",\n",
       "    \"parameters\" :[\n",
       "        {\n",
       "            \"1\" :0.002000000000000442,\n",
       "            \"0\" :0.9979999999999996\n",
       "        }\n",
       "    ],\n",
       "    \"frozen\" :false\n",
       "},\n",
       "       {\n",
       "    \"class\" :\"Distribution\",\n",
       "    \"dtype\" :\"int\",\n",
       "    \"name\" :\"DiscreteDistribution\",\n",
       "    \"parameters\" :[\n",
       "        {\n",
       "            \"0\" :0.997483557999999,\n",
       "            \"1\" :0.002516442000000935\n",
       "        }\n",
       "    ],\n",
       "    \"frozen\" :false\n",
       "},\n",
       "       {\n",
       "    \"class\" :\"Distribution\",\n",
       "    \"dtype\" :\"int\",\n",
       "    \"name\" :\"DiscreteDistribution\",\n",
       "    \"parameters\" :[\n",
       "        {\n",
       "            \"0\" :0.9478610242999992,\n",
       "            \"1\" :0.0521389757000008\n",
       "        }\n",
       "    ],\n",
       "    \"frozen\" :false\n",
       "},\n",
       "       {\n",
       "    \"class\" :\"Distribution\",\n",
       "    \"dtype\" :\"int\",\n",
       "    \"name\" :\"DiscreteDistribution\",\n",
       "    \"parameters\" :[\n",
       "        {\n",
       "            \"0\" :0.9882636550199994,\n",
       "            \"1\" :0.011736344980000708\n",
       "        }\n",
       "    ],\n",
       "    \"frozen\" :false\n",
       "}], dtype=object)"
      ]
     },
     "execution_count": 27,
     "metadata": {},
     "output_type": "execute_result"
    }
   ],
   "source": [
    "model.predict_proba({})"
   ]
  },
  {
   "cell_type": "code",
   "execution_count": null,
   "metadata": {},
   "outputs": [],
   "source": []
  }
 ],
 "metadata": {
  "kernelspec": {
   "display_name": "Python 3",
   "language": "python",
   "name": "python3"
  },
  "language_info": {
   "codemirror_mode": {
    "name": "ipython",
    "version": 3
   },
   "file_extension": ".py",
   "mimetype": "text/x-python",
   "name": "python",
   "nbconvert_exporter": "python",
   "pygments_lexer": "ipython3",
   "version": "3.7.0"
  }
 },
 "nbformat": 4,
 "nbformat_minor": 2
}
