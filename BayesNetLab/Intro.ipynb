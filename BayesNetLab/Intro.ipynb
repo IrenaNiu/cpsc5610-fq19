{
 "cells": [
  {
   "cell_type": "markdown",
   "metadata": {},
   "source": [
    "### Bayesian Network Inference Library\n",
    "\n",
    "We will be using the pomegranate library for Bayes Net inference\n",
    "\n",
    "  * Installation instructions https://pomegranate.readthedocs.io/en/latest/install.html\n",
    "  * Tutorial / documentation https://pomegranate.readthedocs.io/en/latest/BayesianNetwork.html\n",
    "  \n",
    "In the tutorial / documentation, ignore the parts about \"initializing a Bayesian network based completely on data\" and the sections on \"Probability\" \"Prediction\" and \"Fitting\" -- see the example below on how to determine the probability distribution on a node in the graph based on evidence.\n",
    "\n",
    "Just to make sure things are working, first load in the Monty Hall code from the tutorial and answer the question about whether or not a contestant should take Monty up on his offer to switch doors."
   ]
  },
  {
   "cell_type": "code",
   "execution_count": null,
   "metadata": {},
   "outputs": [],
   "source": [
    "from pomegranate import *\n",
    "\n",
    "# The three \"random variables are\"\n",
    "#    guest -- what door will the guest choose -- doors are A, B, and C\n",
    "#    prize -- what door is the prize behind\n",
    "#    monty -- what door will Monty open.  This is a function of both guest and prize:\n",
    "#               Monty will never open the door the guest chooses and will never open the \n",
    "#               door with the prize (if the guest doesn't choose it)\n",
    "#             So the first three lines of the CPT below say the guest chooses A and \n",
    "#               the prize is behind A, and then Monty will choose B or C with equal probability\n",
    "\n",
    "# Notice the pattern of building networks:  \n",
    "#   -- build your distributions -- either DiscreteDistribution for nodes without parents\n",
    "#          or ConditionalProbabilityTable for nodes with parents.  The CPT for Monty needs 27 \n",
    "#          entries, since there are 9 possible combination of parent values, and three possible\n",
    "#          values the monty random variable can take.\n",
    "\n",
    "guest = DiscreteDistribution({'A': 1./3, 'B': 1./3, 'C': 1./3})\n",
    "prize = DiscreteDistribution({'A': 1./3, 'B': 1./3, 'C': 1./3})\n",
    "monty = ConditionalProbabilityTable(\n",
    "        [['A', 'A', 'A', 0.0],\n",
    "         ['A', 'A', 'B', 0.5],\n",
    "         ['A', 'A', 'C', 0.5],\n",
    "         ['A', 'B', 'A', 0.0],\n",
    "         ['A', 'B', 'B', 0.0],\n",
    "         ['A', 'B', 'C', 1.0],\n",
    "         ['A', 'C', 'A', 0.0],\n",
    "         ['A', 'C', 'B', 1.0],\n",
    "         ['A', 'C', 'C', 0.0],\n",
    "         ['B', 'A', 'A', 0.0],\n",
    "         ['B', 'A', 'B', 0.0],\n",
    "         ['B', 'A', 'C', 1.0],\n",
    "         ['B', 'B', 'A', 0.5],\n",
    "         ['B', 'B', 'B', 0.0],\n",
    "         ['B', 'B', 'C', 0.5],\n",
    "         ['B', 'C', 'A', 1.0],\n",
    "         ['B', 'C', 'B', 0.0],\n",
    "         ['B', 'C', 'C', 0.0],\n",
    "         ['C', 'A', 'A', 0.0],\n",
    "         ['C', 'A', 'B', 1.0],\n",
    "         ['C', 'A', 'C', 0.0],\n",
    "         ['C', 'B', 'A', 1.0],\n",
    "         ['C', 'B', 'B', 0.0],\n",
    "         ['C', 'B', 'C', 0.0],\n",
    "         ['C', 'C', 'A', 0.5],\n",
    "         ['C', 'C', 'B', 0.5],\n",
    "         ['C', 'C', 'C', 0.0]], [guest, prize])\n",
    "\n",
    "s1 = Node(guest, name=\"guest\")\n",
    "s2 = Node(prize, name=\"prize\")\n",
    "s3 = Node(monty, name=\"monty\")\n",
    "\n",
    "model = BayesianNetwork(\"Monty Hall Problem\")\n",
    "model.add_states(s1, s2, s3)\n",
    "model.add_edge(s1, s3)\n",
    "model.add_edge(s2, s3)\n",
    "model.bake()"
   ]
  },
  {
   "cell_type": "code",
   "execution_count": null,
   "metadata": {},
   "outputs": [],
   "source": [
    "# Based on no more evidence, what is the likelihood that the contestant will win the prize?\n",
    "model.marginal()"
   ]
  },
  {
   "cell_type": "code",
   "execution_count": null,
   "metadata": {},
   "outputs": [],
   "source": [
    "##  Suppose the guest chooses A, and Monty chooses B.\n",
    "##  Monty gives the guest to switch from A to C.  Should she?\n",
    "model.predict_proba({\"guest\": 'A', \"monty\": 'B'})"
   ]
  },
  {
   "cell_type": "code",
   "execution_count": null,
   "metadata": {},
   "outputs": [],
   "source": [
    "##  Is predict_proba with no evidence the same as marginal?"
   ]
  },
  {
   "cell_type": "markdown",
   "metadata": {},
   "source": [
    "### Second Example:  Typical Noisy Sensor\n",
    "\n",
    "* The variable **water** says whether or not there is water in my basement.  This variable takes values **{none, some, lots}**\n",
    "* I have a water detector **waterDetector** that is either **on** or **off**\n",
    "  * It is supposed to be **on** if and only if **water** is either some or lots\n",
    "  * However, it sometimes fails to alert (is **off** when **water** is either **some** or **lots**)\n",
    "  * It also sometimes false alarms (is **on** when **water** is **none**)\n",
    "\n",
    "This is what I discovered by observing the basement over time\n",
    "* On any given day, the probability of **water** is **(.98, .015, .05)** for values **(none, some, lots)**\n",
    "* The likelihood of a false alarm **P(waterDetector = on | water = none) = 0.01**\n",
    "* The likelihood of the sensor missing water depends on the water level: **P(waterDetector = off | water = some) = .10**;   **P(waterDetector = off | water = lots) = .005**\n"
   ]
  },
  {
   "cell_type": "code",
   "execution_count": null,
   "metadata": {},
   "outputs": [],
   "source": [
    "from pomegranate import *\n",
    "\n",
    "# This is the distribution for my water node\n",
    "wdist = DiscreteDistribution(....)\n",
    "\n",
    "\n",
    "# Distribution for my water detector node\n",
    "detectordist = ConditionalProbabilityTable(...)\n",
    "\n",
    "#  My two nodes\n",
    "water = Node(...)\n",
    "waterDetector = Node(...)\n",
    "\n",
    "# The Network\n",
    "model = BayesianNetwork(\"Water Detector\")\n",
    "model.add_states(...)\n",
    "model.add_edge(...)\n",
    "model.bake()\n",
    "                                     "
   ]
  },
  {
   "cell_type": "markdown",
   "metadata": {},
   "source": [
    "With no further information, what is the likelihood that (a) there is some or lots of water in my basement, and (b) what is the likelihood that my water detector is displaying ON"
   ]
  },
  {
   "cell_type": "code",
   "execution_count": null,
   "metadata": {},
   "outputs": [],
   "source": [
    "# Compute probabilities on the basis of no additional evidence.  Its output is a list of \n",
    "# distributions over node values, in the order they were added -- in our case, water is at [0] and waterDetector is at [1]\n",
    "model.predict_proba({})"
   ]
  },
  {
   "cell_type": "code",
   "execution_count": null,
   "metadata": {},
   "outputs": [],
   "source": [
    "# This is the distribution over values of water -- not surprising, it is the same as the priors \n",
    "#  (subject to rounding error)\n",
    "model.predict_proba({})[0].parameters"
   ]
  },
  {
   "cell_type": "code",
   "execution_count": null,
   "metadata": {},
   "outputs": [],
   "source": [
    "# This is the distribution over values of waterDetector\n",
    "model.predict_proba({\"waterDetector\": \"on\"})[0].parameters"
   ]
  },
  {
   "cell_type": "markdown",
   "metadata": {},
   "source": [
    "Suppose I learn that the water detector is **on**.  How does that affect my beliefs over the basement water level"
   ]
  },
  {
   "cell_type": "code",
   "execution_count": null,
   "metadata": {},
   "outputs": [],
   "source": [
    "model.predict_proba({})[0].parameters"
   ]
  },
  {
   "cell_type": "markdown",
   "metadata": {},
   "source": [
    "Suppose instead I go to the basement and observe that there is no water in the basement.  \n",
    "How does that affect my belief as to whether or not the water detector is on?"
   ]
  },
  {
   "cell_type": "code",
   "execution_count": null,
   "metadata": {},
   "outputs": [],
   "source": []
  },
  {
   "cell_type": "markdown",
   "metadata": {},
   "source": [
    "####  Question 1 ####\n",
    "My beliefs about water level change with the season.   There are two seasons, the dry season and the wet season.\n",
    "The season affects my prior belief in the water level, not the behavior of the sensor.   If the season is \n",
    "**wet**  my prior distribution on **water** is\n",
    "{\"none\": 0.80, \"some\": 0.15, \"lots\": 0.05})\n",
    "and if the season is **dry** the distribution is \n",
    "{\"none\": 0.95, \"some\": 0.035, \"lots\": 0.015})\n",
    "\n",
    "Adjust the model accordingly.  Suppose it's the dry season, but my water detector is saying **on** -- what do I believe about water in the basement?\n"
   ]
  },
  {
   "cell_type": "code",
   "execution_count": null,
   "metadata": {},
   "outputs": [],
   "source": []
  },
  {
   "cell_type": "markdown",
   "metadata": {},
   "source": [
    "#### Question 2 ####\n",
    "\n",
    "Code the example from the lectures, about burglaries, alarms, and phone calls\n",
    "* Variables are B (Burglary), E (Earthquake), A (Alarm), J (John calls), M (Mary calls)\n",
    "  * All are true/false\n",
    "* Assumptions we make as domain experts\n",
    "  * Burglaries do not cause earthquakes, and vice versa\n",
    "  * The alarm's behavior depends only on B and E and uncorrelated error behavior (for example, if there is no Burglary or Earthquake, then the likelihood the alarm sounds anyway does not depend on any other factor)\n",
    "  * John and Mary have their own parameters, but those depend only on A, and otherwise they act independently\n",
    "* Parameters we have gathered\n",
    "  * Prob(B) = .001\n",
    "  * Prob(E) = .002\n",
    "  * Prob(A | B,E) = (.95, .94, .29, .001)    ((+b, +e), (+b, -e), (-b, +e), (-b, -e))\n",
    "  * Prob(J | A) = (.9, .45) (+a, -a)\n",
    "  * Prob(M | A) = (.7, .01) (+a, -a)\n",
    " \n",
    " Code this as a Bayes network, and answer these two questions:\n",
    "\n",
    "1.  My phone is off so I don't know whether or not I got a call.  What is the likelihood there was a burglary?  What is the likelihood my alarm went off?\n",
    "\n",
    "2.  I just got a call from Mary but not John.  How does that affect my belief that there was a burglary?\n",
    "\n",
    "3.  I heard a reliable news report that there was an earthquake.  What is the chance I will will be getting a call from John soon?\n"
   ]
  },
  {
   "cell_type": "code",
   "execution_count": null,
   "metadata": {},
   "outputs": [],
   "source": []
  }
 ],
 "metadata": {
  "kernelspec": {
   "display_name": "Python 3",
   "language": "python",
   "name": "python3"
  },
  "language_info": {
   "codemirror_mode": {
    "name": "ipython",
    "version": 3
   },
   "file_extension": ".py",
   "mimetype": "text/x-python",
   "name": "python",
   "nbconvert_exporter": "python",
   "pygments_lexer": "ipython3",
   "version": "3.7.0"
  }
 },
 "nbformat": 4,
 "nbformat_minor": 2
}
