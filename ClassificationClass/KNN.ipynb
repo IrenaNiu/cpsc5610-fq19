{
 "cells": [
  {
   "cell_type": "markdown",
   "metadata": {},
   "source": [
    "#### K-Nearest Neighbors (KNN) Classification\n",
    "---\n",
    "\n",
    "K-nearest neighbors classification is (as its name implies) a classification model that uses the \"K\" most similar observations in order to make a prediction.\n",
    "\n",
    "KNN is a supervised learning method; therefore, the training data must have known target values.\n",
    "\n",
    "The process of of prediction using KNN is fairly straightforward:\n",
    "\n",
    "1. Pick a value for K.\n",
    "2. Search for the K observations in the data that are \"nearest\" to the measurements of the unknown iris.\n",
    "    - Euclidian distance is often used as the distance metric, but other metrics are allowed.\n",
    "3. Use the most popular response value from the K \"nearest neighbors\" as the predicted response value for the unknown iris."
   ]
  },
  {
   "cell_type": "markdown",
   "metadata": {},
   "source": [
    "The visualizations below show how a given area can change in its prediction as K changes.\n",
    "\n",
    "- This is simulated data with two predictors\n",
    "- Colored points represent true values and colored areas represent a **prediction space**. (This is called a Voronoi Diagram.)\n",
    "- Each prediction space is wgere the majority of the \"K\" nearest points are the color of the space.\n",
    "- To predict the class of a new point, we guess the class corresponding to the color of the space it lies in."
   ]
  },
  {
   "cell_type": "markdown",
   "metadata": {},
   "source": [
    "##### KNN Classification Map for Iris (K=1)\n",
    "\n",
    "![1NN classification map](iris_01nn_map.png)"
   ]
  },
  {
   "cell_type": "markdown",
   "metadata": {},
   "source": [
    "##### KNN Classification Map for Iris (K=5)\n",
    "\n",
    "![5NN classification map](iris_05nn_map.png)"
   ]
  },
  {
   "cell_type": "markdown",
   "metadata": {},
   "source": [
    "##### KNN Classification Map for Iris (K=15)\n",
    "\n",
    "![15NN classification map](iris_15nn_map.png)"
   ]
  },
  {
   "cell_type": "markdown",
   "metadata": {},
   "source": [
    "##### KNN Classification Map for Iris (K=50)\n",
    "\n",
    "![50NN classification map](iris_50nn_map.png)"
   ]
  },
  {
   "cell_type": "markdown",
   "metadata": {},
   "source": [
    "We can see that, as K increases, the classification spaces' borders become more distinct. However, you can also see that the spaces are not perfectly pure when it comes to the known elements within them.\n",
    "\n",
    "**How are outliers affected by K?** As K increases, outliers are \"smoothed out\". Look at the above three plots and notice how outliers strongly affect the prediction space when K=1. When K=50, outliers no longer affect region boundaries. This is a classic bias-variance tradeoff -- with increasing K, the bias increases but the variance decreases."
   ]
  },
  {
   "cell_type": "markdown",
   "metadata": {},
   "source": [
    "<div style=\"color:blue;font-size:125%\">\n",
    "- What happens when K $\\rightarrow$ number of points in the sample?\n",
    "</div>\n",
    "<div style=\"color:blue;font-size:125%\">\n",
    "- What is the best value for K?\n",
    "</div>"
   ]
  },
  {
   "cell_type": "markdown",
   "metadata": {},
   "source": [
    "##### NBA Position KNN Classifier\n",
    "\n",
    "This dataset containing the 2015 season statistics for ~500 NBA players. The columns we'll use for features (and the target 'pos') are:\n",
    "\n",
    "| Column | Meaning |\n",
    "| ---    | ---     |\n",
    "| pos | C: Center. F: Front. G: Guard |\n",
    "| ast | Assists per game | \n",
    "| stl | Steals per game | \n",
    "| blk | Blocks per game |\n",
    "| tov | Turnovers per game | \n",
    "| pf  | Personal fouls per game | \n",
    "\n",
    "**First look at the data file to see whether it fits that description**"
   ]
  },
  {
   "cell_type": "code",
   "execution_count": 1,
   "metadata": {},
   "outputs": [
    {
     "name": "stdout",
     "output_type": "stream",
     "text": [
      "(478, 6)\n",
      "Index(['pos', 'ast', 'stl', 'blk', 'tov', 'pf'], dtype='object')\n"
     ]
    }
   ],
   "source": [
    "import pandas as pd\n",
    "nba = pd.read_csv('NBA_players_2015.csv', usecols=['pos', 'ast', 'stl', 'blk', 'tov', 'pf'])\n",
    "print(nba.shape)\n",
    "print(nba.columns)"
   ]
  },
  {
   "cell_type": "code",
   "execution_count": 2,
   "metadata": {},
   "outputs": [
    {
     "data": {
      "text/html": [
       "<div>\n",
       "<style scoped>\n",
       "    .dataframe tbody tr th:only-of-type {\n",
       "        vertical-align: middle;\n",
       "    }\n",
       "\n",
       "    .dataframe tbody tr th {\n",
       "        vertical-align: top;\n",
       "    }\n",
       "\n",
       "    .dataframe thead th {\n",
       "        text-align: right;\n",
       "    }\n",
       "</style>\n",
       "<table border=\"1\" class=\"dataframe\">\n",
       "  <thead>\n",
       "    <tr style=\"text-align: right;\">\n",
       "      <th></th>\n",
       "      <th>pos</th>\n",
       "      <th>ast</th>\n",
       "      <th>stl</th>\n",
       "      <th>blk</th>\n",
       "      <th>tov</th>\n",
       "      <th>pf</th>\n",
       "    </tr>\n",
       "  </thead>\n",
       "  <tbody>\n",
       "    <tr>\n",
       "      <th>0</th>\n",
       "      <td>F</td>\n",
       "      <td>1.0</td>\n",
       "      <td>0.4</td>\n",
       "      <td>0.3</td>\n",
       "      <td>0.9</td>\n",
       "      <td>2.2</td>\n",
       "    </tr>\n",
       "    <tr>\n",
       "      <th>1</th>\n",
       "      <td>G</td>\n",
       "      <td>0.4</td>\n",
       "      <td>0.4</td>\n",
       "      <td>0.3</td>\n",
       "      <td>0.4</td>\n",
       "      <td>0.8</td>\n",
       "    </tr>\n",
       "    <tr>\n",
       "      <th>2</th>\n",
       "      <td>C</td>\n",
       "      <td>1.0</td>\n",
       "      <td>0.4</td>\n",
       "      <td>1.2</td>\n",
       "      <td>1.6</td>\n",
       "      <td>3.0</td>\n",
       "    </tr>\n",
       "    <tr>\n",
       "      <th>3</th>\n",
       "      <td>F</td>\n",
       "      <td>0.9</td>\n",
       "      <td>0.2</td>\n",
       "      <td>0.5</td>\n",
       "      <td>0.5</td>\n",
       "      <td>1.8</td>\n",
       "    </tr>\n",
       "    <tr>\n",
       "      <th>4</th>\n",
       "      <td>G</td>\n",
       "      <td>1.9</td>\n",
       "      <td>0.6</td>\n",
       "      <td>0.1</td>\n",
       "      <td>1.6</td>\n",
       "      <td>2.1</td>\n",
       "    </tr>\n",
       "  </tbody>\n",
       "</table>\n",
       "</div>"
      ],
      "text/plain": [
       "  pos  ast  stl  blk  tov   pf\n",
       "0   F  1.0  0.4  0.3  0.9  2.2\n",
       "1   G  0.4  0.4  0.3  0.4  0.8\n",
       "2   C  1.0  0.4  1.2  1.6  3.0\n",
       "3   F  0.9  0.2  0.5  0.5  1.8\n",
       "4   G  1.9  0.6  0.1  1.6  2.1"
      ]
     },
     "execution_count": 2,
     "metadata": {},
     "output_type": "execute_result"
    }
   ],
   "source": [
    "nba.head(5)"
   ]
  },
  {
   "cell_type": "code",
   "execution_count": 3,
   "metadata": {},
   "outputs": [
    {
     "name": "stdout",
     "output_type": "stream",
     "text": [
      "<class 'pandas.core.frame.DataFrame'>\n",
      "RangeIndex: 478 entries, 0 to 477\n",
      "Data columns (total 6 columns):\n",
      "pos    478 non-null object\n",
      "ast    478 non-null float64\n",
      "stl    478 non-null float64\n",
      "blk    478 non-null float64\n",
      "tov    478 non-null float64\n",
      "pf     478 non-null float64\n",
      "dtypes: float64(5), object(1)\n",
      "memory usage: 22.5+ KB\n"
     ]
    }
   ],
   "source": [
    "nba.info()"
   ]
  },
  {
   "cell_type": "code",
   "execution_count": 4,
   "metadata": {},
   "outputs": [
    {
     "data": {
      "text/plain": [
       "G    200\n",
       "F    199\n",
       "C     79\n",
       "Name: pos, dtype: int64"
      ]
     },
     "execution_count": 4,
     "metadata": {},
     "output_type": "execute_result"
    }
   ],
   "source": [
    "# Map the position categorical variables into numbers\n",
    "\n",
    "nba.pos.value_counts()"
   ]
  },
  {
   "cell_type": "code",
   "execution_count": 5,
   "metadata": {},
   "outputs": [],
   "source": [
    "# Notice that for a classifier we can have a Y that is not \n",
    "# numeric and do not need dummy variables.\n",
    "\n",
    "y = nba.pos\n",
    "X = nba.drop(columns=['pos'], axis=1)"
   ]
  },
  {
   "cell_type": "code",
   "execution_count": 6,
   "metadata": {},
   "outputs": [
    {
     "name": "stdout",
     "output_type": "stream",
     "text": [
      "(478, 5)\n",
      "(478,)\n"
     ]
    }
   ],
   "source": [
    "print(X.shape)\n",
    "print(y.shape)"
   ]
  },
  {
   "cell_type": "code",
   "execution_count": 7,
   "metadata": {},
   "outputs": [
    {
     "data": {
      "text/html": [
       "<div>\n",
       "<style scoped>\n",
       "    .dataframe tbody tr th:only-of-type {\n",
       "        vertical-align: middle;\n",
       "    }\n",
       "\n",
       "    .dataframe tbody tr th {\n",
       "        vertical-align: top;\n",
       "    }\n",
       "\n",
       "    .dataframe thead th {\n",
       "        text-align: right;\n",
       "    }\n",
       "</style>\n",
       "<table border=\"1\" class=\"dataframe\">\n",
       "  <thead>\n",
       "    <tr style=\"text-align: right;\">\n",
       "      <th></th>\n",
       "      <th>ast</th>\n",
       "      <th>stl</th>\n",
       "      <th>blk</th>\n",
       "      <th>tov</th>\n",
       "      <th>pf</th>\n",
       "    </tr>\n",
       "  </thead>\n",
       "  <tbody>\n",
       "    <tr>\n",
       "      <th>0</th>\n",
       "      <td>1.0</td>\n",
       "      <td>0.4</td>\n",
       "      <td>0.3</td>\n",
       "      <td>0.9</td>\n",
       "      <td>2.2</td>\n",
       "    </tr>\n",
       "    <tr>\n",
       "      <th>1</th>\n",
       "      <td>0.4</td>\n",
       "      <td>0.4</td>\n",
       "      <td>0.3</td>\n",
       "      <td>0.4</td>\n",
       "      <td>0.8</td>\n",
       "    </tr>\n",
       "    <tr>\n",
       "      <th>2</th>\n",
       "      <td>1.0</td>\n",
       "      <td>0.4</td>\n",
       "      <td>1.2</td>\n",
       "      <td>1.6</td>\n",
       "      <td>3.0</td>\n",
       "    </tr>\n",
       "    <tr>\n",
       "      <th>3</th>\n",
       "      <td>0.9</td>\n",
       "      <td>0.2</td>\n",
       "      <td>0.5</td>\n",
       "      <td>0.5</td>\n",
       "      <td>1.8</td>\n",
       "    </tr>\n",
       "    <tr>\n",
       "      <th>4</th>\n",
       "      <td>1.9</td>\n",
       "      <td>0.6</td>\n",
       "      <td>0.1</td>\n",
       "      <td>1.6</td>\n",
       "      <td>2.1</td>\n",
       "    </tr>\n",
       "  </tbody>\n",
       "</table>\n",
       "</div>"
      ],
      "text/plain": [
       "   ast  stl  blk  tov   pf\n",
       "0  1.0  0.4  0.3  0.9  2.2\n",
       "1  0.4  0.4  0.3  0.4  0.8\n",
       "2  1.0  0.4  1.2  1.6  3.0\n",
       "3  0.9  0.2  0.5  0.5  1.8\n",
       "4  1.9  0.6  0.1  1.6  2.1"
      ]
     },
     "execution_count": 7,
     "metadata": {},
     "output_type": "execute_result"
    }
   ],
   "source": [
    "X.head(5)"
   ]
  },
  {
   "cell_type": "code",
   "execution_count": 9,
   "metadata": {},
   "outputs": [
    {
     "data": {
      "text/plain": [
       "0      F\n",
       "1      G\n",
       "2      C\n",
       "3      F\n",
       "4      G\n",
       "5      C\n",
       "6      F\n",
       "7      C\n",
       "8      F\n",
       "9      F\n",
       "10     G\n",
       "11     F\n",
       "12     F\n",
       "13     C\n",
       "14     G\n",
       "15     F\n",
       "16     F\n",
       "17     G\n",
       "18     F\n",
       "19     C\n",
       "20     F\n",
       "21     F\n",
       "22     F\n",
       "23     C\n",
       "24     G\n",
       "25     F\n",
       "26     F\n",
       "27     F\n",
       "28     G\n",
       "29     G\n",
       "      ..\n",
       "448    G\n",
       "449    F\n",
       "450    F\n",
       "451    G\n",
       "452    F\n",
       "453    F\n",
       "454    F\n",
       "455    G\n",
       "456    C\n",
       "457    F\n",
       "458    G\n",
       "459    G\n",
       "460    G\n",
       "461    F\n",
       "462    G\n",
       "463    G\n",
       "464    F\n",
       "465    G\n",
       "466    F\n",
       "467    F\n",
       "468    C\n",
       "469    G\n",
       "470    F\n",
       "471    F\n",
       "472    G\n",
       "473    G\n",
       "474    G\n",
       "475    F\n",
       "476    C\n",
       "477    C\n",
       "Name: pos, Length: 478, dtype: object"
      ]
     },
     "execution_count": 9,
     "metadata": {},
     "output_type": "execute_result"
    }
   ],
   "source": [
    "y"
   ]
  },
  {
   "cell_type": "markdown",
   "metadata": {},
   "source": [
    "##### Build a model\n",
    "For KNN, the choice of K is crucial, but we will ignore it for now, just choose k=3.\n",
    "First job is just to get a classifier running and evaluate it -- just like Linear Regression"
   ]
  },
  {
   "cell_type": "code",
   "execution_count": 8,
   "metadata": {},
   "outputs": [
    {
     "data": {
      "text/plain": [
       "KNeighborsClassifier(algorithm='auto', leaf_size=30, metric='minkowski',\n",
       "           metric_params=None, n_jobs=1, n_neighbors=3, p=2,\n",
       "           weights='uniform')"
      ]
     },
     "execution_count": 8,
     "metadata": {},
     "output_type": "execute_result"
    }
   ],
   "source": [
    "from sklearn.neighbors import KNeighborsClassifier\n",
    "knn = KNeighborsClassifier(n_neighbors=3)\n",
    "knn.fit(X, y)"
   ]
  },
  {
   "cell_type": "code",
   "execution_count": 10,
   "metadata": {},
   "outputs": [
    {
     "data": {
      "text/plain": [
       "array(['F', 'F', 'C', 'F', 'G', 'C', 'F', 'F', 'F', 'F', 'F', 'F', 'F',\n",
       "       'F', 'F', 'F', 'F', 'F', 'G', 'C', 'F', 'F', 'F', 'C', 'G', 'F',\n",
       "       'F', 'F', 'G', 'G', 'C', 'F', 'F', 'C', 'G', 'F', 'G', 'G', 'C',\n",
       "       'F', 'G', 'F', 'G', 'C', 'F', 'G', 'C', 'F', 'F', 'G', 'G', 'F',\n",
       "       'C', 'F', 'C', 'F', 'F', 'F', 'F', 'F', 'G', 'G', 'F', 'G', 'G',\n",
       "       'G', 'F', 'G', 'G', 'F', 'G', 'F', 'F', 'G', 'G', 'G', 'G', 'C',\n",
       "       'F', 'G', 'G', 'F', 'G', 'C', 'F', 'G', 'C', 'G', 'G', 'F', 'G',\n",
       "       'G', 'F', 'G', 'F', 'F', 'G', 'C', 'G', 'G', 'G', 'F', 'F', 'G',\n",
       "       'G', 'C', 'C', 'F', 'F', 'F', 'F', 'F', 'G', 'F', 'C', 'G', 'F',\n",
       "       'G', 'G', 'C', 'G', 'F', 'G', 'F', 'G', 'C', 'G', 'C', 'G', 'F',\n",
       "       'F', 'F', 'F', 'G', 'G', 'F', 'G', 'F', 'F', 'G', 'G', 'C', 'C',\n",
       "       'G', 'F', 'G', 'G', 'G', 'G', 'G', 'G', 'C', 'F', 'F', 'G', 'G',\n",
       "       'F', 'C', 'F', 'F', 'F', 'F', 'G', 'C', 'F', 'G', 'F', 'G', 'C',\n",
       "       'G', 'C', 'F', 'C', 'C', 'F', 'G', 'F', 'F', 'F', 'F', 'G', 'F',\n",
       "       'F', 'F', 'C', 'F', 'G', 'G', 'F', 'G', 'G', 'F', 'F', 'F', 'F',\n",
       "       'C', 'F', 'C', 'G', 'F', 'C', 'C', 'C', 'F', 'G', 'C', 'F', 'G',\n",
       "       'G', 'G', 'C', 'F', 'C', 'C', 'F', 'F', 'C', 'G', 'F', 'G', 'G',\n",
       "       'G', 'G', 'C', 'G', 'C', 'F', 'F', 'C', 'G', 'F', 'F', 'F', 'F',\n",
       "       'F', 'G', 'F', 'G', 'F', 'F', 'F', 'F', 'C', 'C', 'C', 'G', 'C',\n",
       "       'C', 'G', 'F', 'C', 'C', 'C', 'G', 'G', 'C', 'C', 'G', 'C', 'G',\n",
       "       'F', 'G', 'G', 'G', 'G', 'F', 'G', 'C', 'F', 'C', 'F', 'G', 'G',\n",
       "       'G', 'C', 'C', 'F', 'G', 'G', 'C', 'G', 'F', 'G', 'F', 'G', 'F',\n",
       "       'F', 'G', 'G', 'F', 'G', 'F', 'F', 'G', 'G', 'C', 'C', 'F', 'C',\n",
       "       'F', 'F', 'G', 'G', 'F', 'F', 'G', 'F', 'F', 'G', 'G', 'G', 'G',\n",
       "       'F', 'C', 'F', 'G', 'G', 'G', 'F', 'F', 'F', 'F', 'C', 'G', 'G',\n",
       "       'F', 'G', 'G', 'G', 'F', 'C', 'F', 'C', 'F', 'F', 'C', 'F', 'C',\n",
       "       'G', 'F', 'F', 'F', 'G', 'F', 'G', 'F', 'F', 'G', 'F', 'G', 'C',\n",
       "       'C', 'F', 'F', 'C', 'F', 'F', 'F', 'G', 'G', 'G', 'G', 'G', 'C',\n",
       "       'C', 'F', 'F', 'G', 'C', 'G', 'G', 'G', 'G', 'G', 'C', 'G', 'F',\n",
       "       'G', 'G', 'G', 'G', 'F', 'G', 'F', 'C', 'F', 'C', 'G', 'G', 'F',\n",
       "       'G', 'C', 'G', 'G', 'G', 'F', 'F', 'G', 'G', 'F', 'G', 'G', 'F',\n",
       "       'F', 'C', 'G', 'C', 'F', 'F', 'G', 'F', 'G', 'F', 'C', 'G', 'F',\n",
       "       'F', 'G', 'C', 'G', 'G', 'G', 'G', 'F', 'F', 'F', 'G', 'F', 'F',\n",
       "       'C', 'G', 'F', 'F', 'F', 'F', 'G', 'F', 'G', 'C', 'F', 'G', 'F',\n",
       "       'F', 'C', 'G', 'G', 'F', 'G', 'G', 'F', 'F', 'G', 'G', 'F', 'F',\n",
       "       'G', 'C', 'F', 'F', 'G', 'G', 'F', 'G', 'G', 'G', 'G', 'G', 'F',\n",
       "       'F', 'G', 'C', 'F', 'G', 'G', 'F', 'F', 'C', 'F'], dtype=object)"
      ]
     },
     "execution_count": 10,
     "metadata": {},
     "output_type": "execute_result"
    }
   ],
   "source": [
    "knn.predict(X)"
   ]
  },
  {
   "cell_type": "code",
   "execution_count": 11,
   "metadata": {},
   "outputs": [
    {
     "data": {
      "text/plain": [
       "0.8096234309623431"
      ]
     },
     "execution_count": 11,
     "metadata": {},
     "output_type": "execute_result"
    }
   ],
   "source": [
    "from sklearn import metrics\n",
    "metrics.accuracy_score(y, knn.predict(X))"
   ]
  },
  {
   "cell_type": "code",
   "execution_count": 12,
   "metadata": {},
   "outputs": [
    {
     "data": {
      "text/plain": [
       "1.0"
      ]
     },
     "execution_count": 12,
     "metadata": {},
     "output_type": "execute_result"
    }
   ],
   "source": [
    "#  Setting n_neighbors to 1.  What do you expect to happen here?\n",
    "\n",
    "knn = KNeighborsClassifier(n_neighbors=1)\n",
    "knn.fit(X, y)\n",
    "metrics.accuracy_score(y, knn.predict(X))"
   ]
  },
  {
   "cell_type": "markdown",
   "metadata": {},
   "source": [
    "#### Side Note:  Remember That the Classifier is Calculating a Conditional Probability\n",
    "\n",
    "Classifier will choose the class with highest probability, but knowing the underlying probability can be useful for debugging"
   ]
  },
  {
   "cell_type": "code",
   "execution_count": 13,
   "metadata": {},
   "outputs": [
    {
     "data": {
      "text/plain": [
       "array([[0.06666667, 0.73333333, 0.2       ],\n",
       "       [0.06666667, 0.8       , 0.13333333],\n",
       "       [0.6       , 0.4       , 0.        ],\n",
       "       ...,\n",
       "       [0.06666667, 0.46666667, 0.46666667],\n",
       "       [0.4       , 0.6       , 0.        ],\n",
       "       [0.46666667, 0.46666667, 0.06666667]])"
      ]
     },
     "execution_count": 13,
     "metadata": {},
     "output_type": "execute_result"
    }
   ],
   "source": [
    "knn15 = KNeighborsClassifier(n_neighbors=15)\n",
    "knn15.fit(X, y)\n",
    "knn15.predict_proba(X)"
   ]
  },
  {
   "cell_type": "markdown",
   "metadata": {
    "collapsed": true
   },
   "source": [
    "### Using the Train/Test Split Procedure\n",
    "\n",
    "* Remember we have been evaluating training error\n",
    "* To evaluate testing error, we can split training data into training set and test set"
   ]
  },
  {
   "cell_type": "markdown",
   "metadata": {},
   "source": [
    "#### Step 1: Split X and y into training and testing sets (using `random_state` for reproducibility)."
   ]
  },
  {
   "cell_type": "code",
   "execution_count": 14,
   "metadata": {},
   "outputs": [],
   "source": [
    "from sklearn.model_selection import train_test_split\n",
    "X_train, X_test, y_train, y_test = train_test_split(X, y, train_size=0.75, test_size=0.25, random_state = 333)"
   ]
  },
  {
   "cell_type": "code",
   "execution_count": 15,
   "metadata": {},
   "outputs": [
    {
     "data": {
      "text/plain": [
       "((358, 5), (358,), (120, 5), (120,))"
      ]
     },
     "execution_count": 15,
     "metadata": {},
     "output_type": "execute_result"
    }
   ],
   "source": [
    "(X_train.shape, y_train.shape, X_test.shape, y_test.shape)"
   ]
  },
  {
   "cell_type": "markdown",
   "metadata": {},
   "source": [
    "#### Step 2: Train the model on the training set"
   ]
  },
  {
   "cell_type": "code",
   "execution_count": 16,
   "metadata": {},
   "outputs": [
    {
     "data": {
      "text/plain": [
       "KNeighborsClassifier(algorithm='auto', leaf_size=30, metric='minkowski',\n",
       "           metric_params=None, n_jobs=1, n_neighbors=5, p=2,\n",
       "           weights='uniform')"
      ]
     },
     "execution_count": 16,
     "metadata": {},
     "output_type": "execute_result"
    }
   ],
   "source": [
    "knn3 = KNeighborsClassifier(n_neighbors=5)\n",
    "knn3.fit(X_train, y_train)"
   ]
  },
  {
   "cell_type": "markdown",
   "metadata": {},
   "source": [
    "**And evaluate it on the test set**"
   ]
  },
  {
   "cell_type": "code",
   "execution_count": 17,
   "metadata": {},
   "outputs": [
    {
     "data": {
      "text/plain": [
       "0.6583333333333333"
      ]
     },
     "execution_count": 17,
     "metadata": {},
     "output_type": "execute_result"
    }
   ],
   "source": [
    "metrics.accuracy_score(y_test, knn3.predict(X_test))"
   ]
  },
  {
   "cell_type": "code",
   "execution_count": 18,
   "metadata": {},
   "outputs": [
    {
     "data": {
      "text/plain": [
       "0.6416666666666667"
      ]
     },
     "execution_count": 18,
     "metadata": {},
     "output_type": "execute_result"
    }
   ],
   "source": [
    "#  Now maybe 1 neighbor won't work as well?\n",
    "knn1 = KNeighborsClassifier(n_neighbors=1)\n",
    "knn1.fit(X_train, y_train)\n",
    "metrics.accuracy_score(y_test, knn1.predict(X_test))"
   ]
  },
  {
   "cell_type": "markdown",
   "metadata": {
    "collapsed": true
   },
   "source": [
    "#### Comparing Testing Accuracy With Null Accuracy (The Low Bar)"
   ]
  },
  {
   "cell_type": "markdown",
   "metadata": {
    "collapsed": true
   },
   "source": [
    "Null accuracy is the accuracy that can be achieved by **always predicting the most frequent class**. For example, if most players are Centers, we would always predict Center.\n",
    "\n",
    "The null accuracy is a benchmark against which you may want to measure every classification model."
   ]
  },
  {
   "cell_type": "code",
   "execution_count": 19,
   "metadata": {},
   "outputs": [
    {
     "name": "stdout",
     "output_type": "stream",
     "text": [
      "G    200\n",
      "F    199\n",
      "C     79\n",
      "Name: pos, dtype: int64\n",
      "G\n"
     ]
    }
   ],
   "source": [
    "most_freq_class = y.value_counts().index[0]\n",
    "print(y.value_counts())\n",
    "print(most_freq_class)"
   ]
  },
  {
   "cell_type": "markdown",
   "metadata": {},
   "source": [
    "#### Compute null accuracy."
   ]
  },
  {
   "cell_type": "code",
   "execution_count": 20,
   "metadata": {},
   "outputs": [
    {
     "data": {
      "text/plain": [
       "0.41841004184100417"
      ]
     },
     "execution_count": 20,
     "metadata": {},
     "output_type": "execute_result"
    }
   ],
   "source": [
    "y.value_counts()[most_freq_class] / len(y)"
   ]
  },
  {
   "cell_type": "markdown",
   "metadata": {},
   "source": [
    "#### Cross-Validation"
   ]
  },
  {
   "cell_type": "code",
   "execution_count": 21,
   "metadata": {},
   "outputs": [
    {
     "data": {
      "text/plain": [
       "array([0.66666667, 0.66666667, 0.77083333, 0.5       , 0.66666667,\n",
       "       0.77083333, 0.6875    , 0.5625    , 0.60416667, 0.67391304])"
      ]
     },
     "execution_count": 21,
     "metadata": {},
     "output_type": "execute_result"
    }
   ],
   "source": [
    "from sklearn.model_selection import cross_val_score\n",
    "knn = KNeighborsClassifier(n_neighbors=5)\n",
    "scores = cross_val_score(knn, X, y, cv=10, scoring='accuracy')\n",
    "scores"
   ]
  },
  {
   "cell_type": "code",
   "execution_count": 22,
   "metadata": {},
   "outputs": [
    {
     "data": {
      "text/plain": [
       "(0.6569746376811595, 0.07986444428356426)"
      ]
     },
     "execution_count": 22,
     "metadata": {},
     "output_type": "execute_result"
    }
   ],
   "source": [
    "(scores.mean(), scores.std())"
   ]
  },
  {
   "cell_type": "code",
   "execution_count": null,
   "metadata": {},
   "outputs": [],
   "source": [
    "# From this we can get a 95% confidence interval on test accuracy\n",
    "(scores.mean() - 2 * scores.std(), scores.mean() + 2 * scores.std())"
   ]
  },
  {
   "cell_type": "code",
   "execution_count": null,
   "metadata": {},
   "outputs": [],
   "source": [
    "from sklearn.model_selection import cross_val_score\n",
    "knn = KNeighborsClassifier(n_neighbors=1)\n",
    "scores = cross_val_score(knn, X, y, cv=10)\n",
    "(scores.mean() - 2*scores.std(), scores.mean() + 2 * scores.std())"
   ]
  },
  {
   "cell_type": "markdown",
   "metadata": {},
   "source": [
    "There is a tradeoff in choosing number of cross-validation folds\n",
    "  * Fewer folds, faster, less aggressive use of test data (cv=1 is just a train/test split)\n",
    "  * More folds, slower.  cv=n-1 is \"all but one validation\""
   ]
  },
  {
   "cell_type": "code",
   "execution_count": 23,
   "metadata": {},
   "outputs": [
    {
     "name": "stdout",
     "output_type": "stream",
     "text": [
      "2 0.6422619047619048 0.0005952380952380931\n",
      "10 0.6819746376811594 0.08114895644566306\n",
      "20 0.6729166666666667 0.08465104022462519\n",
      "50 0.6864999999999999 0.12722829922409867\n"
     ]
    },
    {
     "name": "stderr",
     "output_type": "stream",
     "text": [
      "C:\\ProgramData\\Anaconda3\\lib\\site-packages\\sklearn\\model_selection\\_split.py:605: Warning: The least populated class in y has only 79 members, which is too few. The minimum number of members in any class cannot be less than n_splits=100.\n",
      "  % (min_groups, self.n_splits)), Warning)\n"
     ]
    },
    {
     "name": "stdout",
     "output_type": "stream",
     "text": [
      "100 0.6853333333333333 0.21640086259840405\n"
     ]
    },
    {
     "name": "stderr",
     "output_type": "stream",
     "text": [
      "C:\\ProgramData\\Anaconda3\\lib\\site-packages\\sklearn\\model_selection\\_split.py:605: Warning: The least populated class in y has only 79 members, which is too few. The minimum number of members in any class cannot be less than n_splits=200.\n",
      "  % (min_groups, self.n_splits)), Warning)\n"
     ]
    },
    {
     "name": "stdout",
     "output_type": "stream",
     "text": [
      "200 0.6858333333333334 0.30192783354084246\n"
     ]
    }
   ],
   "source": [
    "knn = KNeighborsClassifier(n_neighbors=10)\n",
    "for v in (2, 10, 20, 50, 100, 200):\n",
    "    cv = cross_val_score(knn, X, y, cv=v)\n",
    "    print (v, cv.mean(), cv.std())    \n"
   ]
  },
  {
   "cell_type": "markdown",
   "metadata": {},
   "source": [
    "##### Hyperparameter Optimization\n",
    "\n",
    "Hyperparameter optimization, or tuning,  means find an optimal value for K\n",
    "\n",
    "<span style=\"color:blue\">What does optimal mean?</span>"
   ]
  },
  {
   "cell_type": "code",
   "execution_count": 24,
   "metadata": {},
   "outputs": [],
   "source": [
    "scores = []\n",
    "for k in range(1, 200, 4):\n",
    "    knn = KNeighborsClassifier(n_neighbors=k)\n",
    "    cv = cross_val_score(knn, X, y, cv=10)\n",
    "    scores.append([k, cv.mean()])"
   ]
  },
  {
   "cell_type": "code",
   "execution_count": 25,
   "metadata": {},
   "outputs": [
    {
     "data": {
      "text/plain": [
       "[1, 0.6047101449275363]"
      ]
     },
     "execution_count": 25,
     "metadata": {},
     "output_type": "execute_result"
    }
   ],
   "source": [
    "scores[0]"
   ]
  },
  {
   "cell_type": "code",
   "execution_count": 26,
   "metadata": {},
   "outputs": [
    {
     "data": {
      "text/plain": [
       "[[1, 0.6047101449275363],\n",
       " [5, 0.6569746376811595],\n",
       " [9, 0.6653079710144928],\n",
       " [13, 0.667391304347826],\n",
       " [17, 0.6528985507246376],\n",
       " [21, 0.6568840579710146],\n",
       " [25, 0.6717391304347826],\n",
       " [29, 0.6528985507246376],\n",
       " [33, 0.6634057971014492],\n",
       " [37, 0.6612318840579711],\n",
       " [41, 0.6591485507246377],\n",
       " [45, 0.6612318840579711],\n",
       " [49, 0.6549818840579711],\n",
       " [53, 0.6570652173913043],\n",
       " [57, 0.6488224637681159],\n",
       " [61, 0.6466485507246377],\n",
       " [65, 0.6570652173913043],\n",
       " [69, 0.6507246376811594],\n",
       " [73, 0.6569746376811594],\n",
       " [77, 0.6465579710144927],\n",
       " [81, 0.6487318840579711],\n",
       " [85, 0.6445652173913043],\n",
       " [89, 0.6341485507246377],\n",
       " [93, 0.6340579710144928],\n",
       " [97, 0.6131340579710145],\n",
       " [101, 0.6089673913043478],\n",
       " [105, 0.6110507246376812],\n",
       " [109, 0.6048007246376812],\n",
       " [113, 0.6089673913043478],\n",
       " [117, 0.6089673913043478],\n",
       " [121, 0.6131340579710145],\n",
       " [125, 0.6110507246376812],\n",
       " [129, 0.6110507246376812],\n",
       " [133, 0.6110507246376812],\n",
       " [137, 0.6110507246376812],\n",
       " [141, 0.6089673913043477],\n",
       " [145, 0.6110507246376812],\n",
       " [149, 0.6110507246376812],\n",
       " [153, 0.6089673913043477],\n",
       " [157, 0.6068840579710145],\n",
       " [161, 0.6089673913043478],\n",
       " [165, 0.6048007246376812],\n",
       " [169, 0.6089673913043478],\n",
       " [173, 0.6027173913043479],\n",
       " [177, 0.6048007246376812],\n",
       " [181, 0.6068840579710145],\n",
       " [185, 0.6048007246376812],\n",
       " [189, 0.6047101449275363],\n",
       " [193, 0.6005434782608695],\n",
       " [197, 0.6026268115942028]]"
      ]
     },
     "execution_count": 26,
     "metadata": {},
     "output_type": "execute_result"
    }
   ],
   "source": [
    "scores"
   ]
  },
  {
   "cell_type": "code",
   "execution_count": 28,
   "metadata": {},
   "outputs": [
    {
     "data": {
      "image/png": "[encoded data removed]",
      "text/plain": [
       "<Figure size 432x288 with 1 Axes>"
      ]
     },
     "metadata": {
      "needs_background": "light"
     },
     "output_type": "display_data"
    }
   ],
   "source": [
    "# This is a plot of test accuracy as a function of k\n",
    "\n",
    "data = pd.DataFrame(scores,columns=['k','score'])\n",
    "data.plot.line(x='k',y='score');"
   ]
  },
  {
   "cell_type": "markdown",
   "metadata": {},
   "source": [
    "#####  Since it looks like > 100 is less interesting, let's give it more focus"
   ]
  },
  {
   "cell_type": "code",
   "execution_count": 29,
   "metadata": {},
   "outputs": [
    {
     "data": {
      "image/png": "[encoded data removed]",
      "text/plain": [
       "<Figure size 432x288 with 1 Axes>"
      ]
     },
     "metadata": {
      "needs_background": "light"
     },
     "output_type": "display_data"
    }
   ],
   "source": [
    "scores = []\n",
    "for k in range(1, 100, 1):\n",
    "    knn = KNeighborsClassifier(n_neighbors=k)\n",
    "    cv = cross_val_score(knn, X, y, cv=10)\n",
    "    scores.append([k, cv.mean()])\n",
    "data = pd.DataFrame(scores,columns=['k','score'])\n",
    "data.plot.line(x='k',y='score');"
   ]
  },
  {
   "cell_type": "markdown",
   "metadata": {},
   "source": [
    "**Question:** As K increases, why does the accuracy rise then fall?\n",
    "\n",
    "**Answer:** ..."
   ]
  },
  {
   "cell_type": "markdown",
   "metadata": {
    "collapsed": true
   },
   "source": [
    "#### Search for the \"best\" value of K."
   ]
  },
  {
   "cell_type": "code",
   "execution_count": 31,
   "metadata": {},
   "outputs": [],
   "source": [
    "# Calculate TRAINING ACCURACY and TESTING ACCURACY for K=1 through 358.\n",
    "\n",
    "X_train, X_test, y_train, y_test = train_test_split(X, y, train_size=0.75, test_size=0.25, random_state = 333)\n",
    "\n",
    "k_range = list(range(1, 100, 2))\n",
    "\n",
    "training_accuracies = []\n",
    "testing_accuracies = []\n",
    "\n",
    "for k in k_range:\n",
    "    knn = KNeighborsClassifier(n_neighbors=k)\n",
    "    knn.fit(X_train, y_train)\n",
    "    \n",
    "    # Calculate training accuracy\n",
    "    y_pred_training = knn.predict(X_train)\n",
    "    training_accuracy = metrics.accuracy_score(y_train, y_pred_training)\n",
    "    training_accuracies.append(training_accuracy)\n",
    "    \n",
    "    # Calculate testing error.\n",
    "    y_pred_test = knn.predict(X_test)\n",
    "    testing_accuracy = metrics.accuracy_score(y_test, y_pred_test)\n",
    "    testing_accuracies.append(testing_accuracy)"
   ]
  },
  {
   "cell_type": "code",
   "execution_count": 32,
   "metadata": {},
   "outputs": [],
   "source": [
    "# Create a DataFrame of K, training error, and testing error.\n",
    "column_dict = {'k': k_range, 'training_accuracy':training_accuracies, 'testing_accuracy':testing_accuracies}\n",
    "df = pd.DataFrame(column_dict).sort_values(by='k')"
   ]
  },
  {
   "cell_type": "code",
   "execution_count": 33,
   "metadata": {},
   "outputs": [
    {
     "data": {
      "image/png": "[encoded data removed]",
      "text/plain": [
       "<Figure size 432x288 with 1 Axes>"
      ]
     },
     "metadata": {
      "needs_background": "light"
     },
     "output_type": "display_data"
    }
   ],
   "source": [
    "# Plot the relationship between k and training and test accuracy\n",
    "import matplotlib.pyplot as plt\n",
    "%matplotlib inline\n",
    "plt.plot( 'k', 'testing_accuracy', data=df, color='skyblue')\n",
    "plt.plot( 'k', 'training_accuracy', data=df, color='olive')\n",
    "plt.legend()\n",
    "plt.xlabel('Value of K for KNN');\n",
    "plt.ylabel('Accuracy');"
   ]
  },
  {
   "cell_type": "markdown",
   "metadata": {},
   "source": [
    "<a id=\"training-error-versus-testing-error\"></a>\n",
    "### Training Accuracy Versus Testing Accuracy"
   ]
  },
  {
   "cell_type": "markdown",
   "metadata": {},
   "source": [
    "- Remember that model complexity is greatest at $K=1$ -- as $K$ gets larger the model tends toward \"predict at the mode\"\n",
    "\n",
    "- **Training accuracy** increases as model complexity increases (lower value of K).\n",
    "- **Testing accuracy** will tend to be low (overfitting, too much complexity) then increase, then decrease (too little complexity)\n",
    "\n",
    "Evaluating the training and testing accuracy is important. For example:\n",
    "\n",
    "- If the training accuracy is much higher than the test accuracy, then our model is likely overfitting. \n",
    "- If the test accuracy starts decreasing as we vary a hyperparameter (K), we may be overfitting.\n",
    "- If either accuracy plateaus, our model is likely underfitting (not complex enough)."
   ]
  },
  {
   "cell_type": "markdown",
   "metadata": {},
   "source": [
    "##### Grid Search:  \n",
    "\n",
    "We have this pattern now\n",
    "* Choose a hyperparameter\n",
    "* Fit a model using cross validation\n",
    "* Record accuracy for that model\n",
    "* Choose the hyperparameter that maximizes cross-val accuracy"
   ]
  },
  {
   "cell_type": "code",
   "execution_count": 34,
   "metadata": {},
   "outputs": [
    {
     "name": "stderr",
     "output_type": "stream",
     "text": [
      "C:\\ProgramData\\Anaconda3\\lib\\site-packages\\sklearn\\cross_validation.py:41: DeprecationWarning: This module was deprecated in version 0.18 in favor of the model_selection module into which all the refactored classes and functions are moved. Also note that the interface of the new CV iterators are different from that of this module. This module will be removed in 0.20.\n",
      "  \"This module will be removed in 0.20.\", DeprecationWarning)\n",
      "C:\\ProgramData\\Anaconda3\\lib\\site-packages\\sklearn\\grid_search.py:42: DeprecationWarning: This module was deprecated in version 0.18 in favor of the model_selection module into which all the refactored classes and functions are moved. This module will be removed in 0.20.\n",
      "  DeprecationWarning)\n"
     ]
    },
    {
     "data": {
      "text/plain": [
       "{'cv': None,\n",
       " 'error_score': 'raise',\n",
       " 'estimator__algorithm': 'auto',\n",
       " 'estimator__leaf_size': 30,\n",
       " 'estimator__metric': 'minkowski',\n",
       " 'estimator__metric_params': None,\n",
       " 'estimator__n_jobs': 1,\n",
       " 'estimator__n_neighbors': 5,\n",
       " 'estimator__p': 2,\n",
       " 'estimator__weights': 'uniform',\n",
       " 'estimator': KNeighborsClassifier(algorithm='auto', leaf_size=30, metric='minkowski',\n",
       "            metric_params=None, n_jobs=1, n_neighbors=5, p=2,\n",
       "            weights='uniform'),\n",
       " 'fit_params': {},\n",
       " 'iid': True,\n",
       " 'n_jobs': 1,\n",
       " 'param_grid': {'n_neighbors': [1,\n",
       "   2,\n",
       "   3,\n",
       "   4,\n",
       "   5,\n",
       "   6,\n",
       "   7,\n",
       "   8,\n",
       "   9,\n",
       "   10,\n",
       "   11,\n",
       "   12,\n",
       "   13,\n",
       "   14,\n",
       "   15,\n",
       "   16,\n",
       "   17,\n",
       "   18,\n",
       "   19,\n",
       "   20,\n",
       "   21,\n",
       "   22,\n",
       "   23,\n",
       "   24,\n",
       "   25,\n",
       "   26,\n",
       "   27,\n",
       "   28,\n",
       "   29,\n",
       "   30,\n",
       "   31,\n",
       "   32,\n",
       "   33,\n",
       "   34,\n",
       "   35,\n",
       "   36,\n",
       "   37,\n",
       "   38,\n",
       "   39,\n",
       "   40,\n",
       "   41,\n",
       "   42,\n",
       "   43,\n",
       "   44,\n",
       "   45,\n",
       "   46,\n",
       "   47,\n",
       "   48,\n",
       "   49,\n",
       "   50,\n",
       "   51,\n",
       "   52,\n",
       "   53,\n",
       "   54,\n",
       "   55,\n",
       "   56,\n",
       "   57,\n",
       "   58,\n",
       "   59,\n",
       "   60,\n",
       "   61,\n",
       "   62,\n",
       "   63,\n",
       "   64,\n",
       "   65,\n",
       "   66,\n",
       "   67,\n",
       "   68,\n",
       "   69,\n",
       "   70,\n",
       "   71,\n",
       "   72,\n",
       "   73,\n",
       "   74,\n",
       "   75,\n",
       "   76,\n",
       "   77,\n",
       "   78,\n",
       "   79,\n",
       "   80,\n",
       "   81,\n",
       "   82,\n",
       "   83,\n",
       "   84,\n",
       "   85,\n",
       "   86,\n",
       "   87,\n",
       "   88,\n",
       "   89,\n",
       "   90,\n",
       "   91,\n",
       "   92,\n",
       "   93,\n",
       "   94,\n",
       "   95,\n",
       "   96,\n",
       "   97,\n",
       "   98,\n",
       "   99]},\n",
       " 'pre_dispatch': '2*n_jobs',\n",
       " 'refit': True,\n",
       " 'scoring': None,\n",
       " 'verbose': 0}"
      ]
     },
     "execution_count": 34,
     "metadata": {},
     "output_type": "execute_result"
    }
   ],
   "source": [
    "from sklearn import grid_search\n",
    "parameters = {'n_neighbors': list(range(1,100))}\n",
    "knn = KNeighborsClassifier()\n",
    "clf = grid_search.GridSearchCV(knn, parameters)\n",
    "clf.fit(X, y)\n",
    "clf.get_params()"
   ]
  },
  {
   "cell_type": "code",
   "execution_count": 35,
   "metadata": {},
   "outputs": [
    {
     "data": {
      "text/plain": [
       "0.7071129707112971"
      ]
     },
     "execution_count": 35,
     "metadata": {},
     "output_type": "execute_result"
    }
   ],
   "source": [
    "metrics.accuracy_score(y, clf.predict(X))"
   ]
  },
  {
   "cell_type": "code",
   "execution_count": 36,
   "metadata": {},
   "outputs": [
    {
     "data": {
      "text/plain": [
       "0.675"
      ]
     },
     "execution_count": 36,
     "metadata": {},
     "output_type": "execute_result"
    }
   ],
   "source": [
    "testing_accuracies[4]"
   ]
  },
  {
   "cell_type": "markdown",
   "metadata": {},
   "source": [
    "### Summary\n",
    "\n",
    "* Classification\n",
    "* Train vs test error\n",
    "* Hyperparameter optimization\n",
    "  * Balancing *bias* versus *variance*\n",
    "* This procedure is exactly the same in scikit-learn regardless of the algorithm!\n",
    "\n",
    "**Advantages of KNN:**\n",
    "\n",
    "- It's simple to understand and explain.\n",
    "- Model training is fast.\n",
    "- It can be used for classification and regression (for regression, take the average value of the K nearest points!).\n",
    "- Being a non-parametric method, it is often successful in classification situations where the decision boundary is very irregular.\n",
    "\n",
    "**Disadvantages of KNN:**\n",
    "\n",
    "- It must store all of the training data.\n",
    "- Its prediction phase can be slow when n is large.\n",
    "- It is sensitive to irrelevant features.\n",
    "- It is sensitive to the scale of the data.\n",
    "- Accuracy is (generally) not competitive with the best supervised learning methods."
   ]
  }
 ],
 "metadata": {
  "kernelspec": {
   "display_name": "Python 3",
   "language": "python",
   "name": "python3"
  },
  "language_info": {
   "codemirror_mode": {
    "name": "ipython",
    "version": 3
   },
   "file_extension": ".py",
   "mimetype": "text/x-python",
   "name": "python",
   "nbconvert_exporter": "python",
   "pygments_lexer": "ipython3",
   "version": "3.7.0"
  }
 },
 "nbformat": 4,
 "nbformat_minor": 1
}
