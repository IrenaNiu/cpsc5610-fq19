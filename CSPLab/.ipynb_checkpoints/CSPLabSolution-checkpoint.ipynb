{
 "cells": [
  {
   "cell_type": "markdown",
   "metadata": {},
   "source": [
    "###  CSP Lab Problems ###\n",
    "\n",
    "Here are three CSP problems (probably) ordered from easiest to hardest\n",
    "\n",
    "-------------------------------------------\n"
   ]
  },
  {
   "cell_type": "markdown",
   "metadata": {},
   "source": [
    "---------------------------------------"
   ]
  },
  {
   "cell_type": "markdown",
   "metadata": {},
   "source": [
    "----------------------------------------------"
   ]
  },
  {
   "cell_type": "markdown",
   "metadata": {},
   "source": [
    "----------------------------------------------"
   ]
  },
  {
   "cell_type": "markdown",
   "metadata": {},
   "source": [
    "**#1  Express the map-coloring problem from R&N Figure 6.1 as a CSP, and solve it.**\n",
    "\n",
    "Make the colors \"B\", \"G\", \"R\", \"Y\"\n",
    "\n",
    "How many solutions are there using \n",
    "* two colors\n",
    "* three colors\n",
    "* four colors"
   ]
  },
  {
   "cell_type": "code",
   "execution_count": 1,
   "metadata": {},
   "outputs": [],
   "source": [
    "from constraint import *\n",
    "colors = [\"B\", \"G\", \"R\", \"Y\"]\n",
    "states = [\"WA\", \"NT\", \"SA\", \"Q\", \"NSW\", \"V\", \"T\"]\n",
    "adjacencies = [(\"WA\", \"NT\"), (\"WA\", \"SA\"), (\"NT\", \"SA\"), (\"NT\", \"Q\"), (\"Q\", \"SA\"),\\\n",
    "             (\"Q\", \"NSW\"), (\"SA\", \"NSW\"), (\"SA\", \"V\"), (\"NSW\", \"V\")]\n",
    "\n",
    "def solveFor(nc=3):\n",
    "    problem= Problem()\n",
    "    problem.addVariables(states, colors[0:nc])\n",
    "    for pair in adjacencies:\n",
    "        problem.addConstraint(lambda a, b: b != a, [pair[0], pair[1]])\n",
    "    return problem.getSolutions()"
   ]
  },
  {
   "cell_type": "code",
   "execution_count": 2,
   "metadata": {},
   "outputs": [
    {
     "name": "stdout",
     "output_type": "stream",
     "text": [
      "0\n",
      "18\n",
      "768\n"
     ]
    }
   ],
   "source": [
    "print(len(solveFor(2)))\n",
    "print(len(solveFor(3)))\n",
    "print(len(solveFor(4)))"
   ]
  },
  {
   "cell_type": "markdown",
   "metadata": {},
   "source": [
    "----------------------------------------------\n",
    "\n",
    "**#2 Solve the classic cryptarithmetic problem**\n",
    "\n",
    "<pre>\n",
    "    S E N D\n",
    " +  M O R E\n",
    " -------------\n",
    "  M O N E Y\n",
    "</pre>\n",
    "\n",
    "where each letter is assigned a digit.  There can be no leading zeros, \n",
    "so S and M cannot be 0\n",
    "\n",
    "R&N Figure 6.2 should be helpful.\n",
    "\n",
    "Notice in Figure 6.2 there is an \"all different\" constraint on the values of the letters.\n",
    "\n",
    "Implement that constraint.\n",
    "\n",
    "What does that additional constraint do to the number of solutions?"
   ]
  },
  {
   "cell_type": "code",
   "execution_count": 2,
   "metadata": {},
   "outputs": [
    {
     "name": "stdout",
     "output_type": "stream",
     "text": [
      "1\n"
     ]
    }
   ],
   "source": [
    "#    S E N D\n",
    "# +  M O R E\n",
    "# -------------\n",
    "#  M O N E Y\n",
    "#   c3\n",
    "#     c2\n",
    "#       c1\n",
    "#         c0\n",
    "\n",
    "#leadingLetters = []\n",
    "#letters = [\"D\", \"E\", \"Y\"]\n",
    "#carries = [\"C0\", \"C1\"]\n",
    "\n",
    "from constraint import *\n",
    "\n",
    "leadingLetters = [\"S\", \"M\"]\n",
    "letters = [\"N\", \"D\", \"O\", \"R\", \"E\", \"Y\"]\n",
    "carries = [\"C0\", \"C1\", \"C2\", \"C3\"]\n",
    "problem = Problem()\n",
    "\n",
    "problem.addVariables(leadingLetters, range(1,10))\n",
    "problem.addVariables(letters, range(0,10))\n",
    "problem.addVariables(carries, range(0,2))\n",
    "\n",
    "def addAdditionConstraint(a1, a2, sum, incarry, outcarry):\n",
    "        problem.addConstraint(lambda a1, a2, sum, incarry: sum == ((a1+a2+incarry) % 10), [a1, a2, sum, incarry])\n",
    "        problem.addConstraint(lambda a1, a2, incarry, outcarry: outcarry == int((a1+a2+incarry)/10),\\\n",
    "                              [a1, a2, incarry, outcarry])\n",
    "\n",
    "def addInequalities():\n",
    "    for l1 in leadingLetters + letters:\n",
    "        for l2 in leadingLetters + letters:\n",
    "            if (l1 != l2):\n",
    "                problem.addConstraint(lambda a1, a2: a1 != a2, [l1, l2])\n",
    "\n",
    "problem.addConstraint(lambda c: c == 0, [\"C0\"])    \n",
    "addAdditionConstraint(\"D\", \"E\", \"Y\", \"C0\", \"C1\")\n",
    "addAdditionConstraint(\"N\", \"R\", \"E\", \"C1\", \"C2\")\n",
    "addAdditionConstraint(\"E\", \"O\", \"N\", \"C2\", \"C3\")\n",
    "addAdditionConstraint(\"S\", \"M\", \"O\", \"C3\", \"M\")\n",
    "addInequalities()\n",
    "                                      \n",
    "print(len(problem.getSolutions()))\n"
   ]
  },
  {
   "cell_type": "markdown",
   "metadata": {},
   "source": [
    "**#3 Solve the \"slightly bigger\" job shop example from the Moore tutorial, slide 44**\n",
    "\n",
    "Short summary\n",
    "\n",
    "1. There are four jobs 1..4;  each job has between two and three subtasks\n",
    "1. For each jobs, the subtasks must be done in sequence\n",
    "1. Each subtask requires a resource,  and two subtasks that use the same resource cannot be scheduled at the same time\n",
    "1. All subtasks take three time units to complete\n",
    "1. All subtasks are ready for execution at time 0, and must complete at or before time 15\n",
    "\n",
    "From the jobs/subtasks/resource uses on the diagram, assign a start time to each subtask that satisfies all the constraints above.\n",
    "\n",
    "\n"
   ]
  },
  {
   "cell_type": "code",
   "execution_count": null,
   "metadata": {
    "scrolled": false
   },
   "outputs": [],
   "source": [
    "########################################\n",
    "##  This is an old, overly complicated version \n",
    "##  where task endpoints were explicit.  Never worked...\n",
    "##  getting no solutions\n",
    "\n",
    "#Job 1\n",
    "#   (o11, r1)   (o12, r2) (o13, r3)\n",
    "#Job 2\n",
    "#   (o21, r1)  (o22, r2)\n",
    "#Job 3\n",
    "#   (o31, r3) (o32, r1) (o33, r2)\n",
    "#Job 4\n",
    "#   (o41, r4) (o42, r2)\n",
    "\n",
    "\n",
    "# Start and end variables for each task\n",
    "#  these are in 0, 15\n",
    "#  End = start + 3\n",
    "# Disjoint constraints\n",
    "\n",
    "#from constraint import *\n",
    "\n",
    "#def addEndpointVariables():\n",
    "#    for task in tasks:\n",
    "#        problem.addVariable(task + \"_begin\", range(0, 16))\n",
    "#        problem.addVariable(task + \"_end\", range(0, 16))\n",
    "\n",
    "#def addEndpointConstraints():\n",
    "#    for task in tasks:\n",
    "#        problem.addConstraint(lambda b, e: e >= b+2, [task+\"_begin\", task+\"_end\"])\n",
    "\n",
    "#def addDisjointConstraint(t1, t2):\n",
    "#    t1b = t1+\"_begin\"; t1e = t1+\"_end\"\n",
    "#    t2b = t2+\"_begin\"; t2e = t2+\"_end\"\n",
    "#    problem.addConstraint(lambda b1, e1, b2, e2: (b2 > e1) or (e2 < b1), [t1b, t1e, t2b, t2e])\n",
    "\n",
    "#def addOrderConstraint(t1, t2):\n",
    "#    problem.addConstraint(lambda t1e, t2b: t1e < t2b, [t1+\"_end\", t2+\"_begin\"])\n",
    "\n",
    "##############################################\n",
    "#tasks = [\"o11\", \"o12\", \"o13\", \"o21\", \"o22\", \"o31\", \"o32\", \"o33\", \"o41\", \"o42\"]\n",
    "\n",
    "#problem = Problem()\n",
    "#addEndpointVariables()\n",
    "#addEndpointConstraints()\n",
    "\n",
    "#addDisjointConstraint(\"o11\", \"o21\")\n",
    "#addDisjointConstraint(\"o21\", \"o32\")\n",
    "#addDisjointConstraint(\"o11\", \"o32\")\n",
    "\n",
    "#addDisjointConstraint(\"o12\", \"o22\")\n",
    "#addDisjointConstraint(\"o12\", \"o33\")\n",
    "#addDisjointConstraint(\"o12\", \"o42\")\n",
    "#addDisjointConstraint(\"o22\", \"o33\")\n",
    "#addDisjointConstraint(\"o22\", \"o42\")\n",
    "#addDisjointConstraint(\"o33\", \"o42\")\n",
    "\n",
    "#addDisjointConstraint(\"o13\", \"o31\")\n",
    "\n",
    "#addOrderConstraint(\"o11\", \"o12\")\n",
    "#addOrderConstraint(\"o12\", \"o13\")\n",
    "#addOrderConstraint(\"o21\", \"o22\")\n",
    "#addOrderConstraint(\"o31\", \"o32\")\n",
    "#addOrderConstraint(\"o32\", \"o33\")\n",
    "#addOrderConstraint(\"o41\", \"o42\")\n",
    " \n",
    "#problem.getSolutions()   \n",
    "    "
   ]
  },
  {
   "cell_type": "code",
   "execution_count": 4,
   "metadata": {},
   "outputs": [
    {
     "name": "stdout",
     "output_type": "stream",
     "text": [
      "[{'o12': 3, 'o22': 4, 'o33': 2, 'o32': 1, 'o42': 1, 'o11': 2, 'o21': 3, 'o13': 4, 'o31': 0, 'o41': 0}, {'o12': 3, 'o22': 4, 'o33': 2, 'o32': 1, 'o42': 1, 'o11': 2, 'o21': 0, 'o13': 4, 'o31': 0, 'o41': 0}, {'o12': 3, 'o22': 4, 'o33': 2, 'o32': 1, 'o42': 1, 'o11': 0, 'o21': 2, 'o13': 4, 'o31': 0, 'o41': 0}, {'o12': 3, 'o22': 4, 'o33': 2, 'o32': 1, 'o42': 1, 'o11': 0, 'o21': 3, 'o13': 4, 'o31': 0, 'o41': 0}]\n"
     ]
    }
   ],
   "source": [
    "#Job 1\n",
    "#   (o11, r1)   (o12, r2) (o13, r3)\n",
    "#Job 2\n",
    "#   (o21, r1)  (o22, r2)\n",
    "#Job 3\n",
    "#   (o31, r3) (o32, r1) (o33, r2)\n",
    "#Job 4\n",
    "#   (o41, r4) (o42, r2)\n",
    "\n",
    "example = [[(\"o11\", \"r1\"), (\"o12\", \"r2\"), (\"o13\", \"r3\")],\n",
    "           [(\"o21\", \"r1\"), (\"o22\", \"r2\")],\n",
    "           [(\"o31\", \"r3\"), (\"o32\", \"r1\"), (\"o33\", \"r2\")],\n",
    "           [(\"o41\", \"r4\"), (\"o42\", \"r2\")]]\n",
    "\n",
    "# Partition 0..15 into five buckets, 0..2, 3..5, 6..8, 9..11, 12..14\n",
    "# A task fits exactly into one of these, and no benefit to starting\n",
    "# a task other than at a boundary\n",
    "from constraint import *\n",
    "\n",
    "\n",
    "def addDisjointConstraint(t1, t2):\n",
    "    problem.addConstraint(lambda t1, t2: t1 != t2, [t1, t2])\n",
    "\n",
    "def addOrderConstraint(t1, t2):\n",
    "    problem.addConstraint(lambda t1, t2: t1<t2, [t1, t2])\n",
    "\n",
    "##############################################\n",
    "tasks = [\"o11\", \"o12\", \"o13\", \"o21\", \"o22\", \"o31\", \"o32\", \"o33\", \"o41\", \"o42\"]\n",
    "\n",
    "problem = Problem()\n",
    "problem.addVariables(tasks, range(0, 5))\n",
    "\n",
    "# R1 shared by o11, o21, o32\n",
    "\n",
    "addDisjointConstraint(\"o11\", \"o21\")\n",
    "addDisjointConstraint(\"o21\", \"o32\")\n",
    "addDisjointConstraint(\"o11\", \"o32\")\n",
    "\n",
    "# R2 shared by o12, o22, o33, o42\n",
    "addDisjointConstraint(\"o12\", \"o22\")\n",
    "addDisjointConstraint(\"o12\", \"o33\")\n",
    "addDisjointConstraint(\"o12\", \"o42\")\n",
    "addDisjointConstraint(\"o22\", \"o33\")\n",
    "addDisjointConstraint(\"o22\", \"o42\")\n",
    "addDisjointConstraint(\"o33\", \"o42\")\n",
    "\n",
    "# R3 shared by o13, o31\n",
    "addDisjointConstraint(\"o13\", \"o31\")\n",
    "\n",
    "addOrderConstraint(\"o11\", \"o12\")\n",
    "addOrderConstraint(\"o12\", \"o13\")\n",
    "addOrderConstraint(\"o21\", \"o22\")\n",
    "addOrderConstraint(\"o31\", \"o32\")\n",
    "addOrderConstraint(\"o32\", \"o33\")\n",
    "addOrderConstraint(\"o41\", \"o42\")\n",
    " \n",
    "print(problem.getSolutions()[0:4])"
   ]
  },
  {
   "cell_type": "markdown",
   "metadata": {},
   "source": [
    "-----------------------------------\n",
    "## Not Understanding These"
   ]
  },
  {
   "cell_type": "code",
   "execution_count": null,
   "metadata": {},
   "outputs": [],
   "source": [
    "from constraint import * \n",
    "from typing import Dict, List, Optional\n",
    "\n",
    "class MapColoring(Constraint[str, str]):\n",
    "     def __init__(self, city1: str, city2: str) -> None:\n",
    "         super().__init__([city1, city2])\n",
    "         self.city1: str = city1\n",
    "         self.city2: str = city2\n",
    "  \n",
    "     def satisfied(self, problem: Dict[str, str]) -> bool:\n",
    "         if self.city1 not in problem or self.city2 not in problem:\n",
    "             return True\n",
    "         return problem[self.city1] != problem[self.city2]\n",
    "  "
   ]
  },
  {
   "cell_type": "code",
   "execution_count": null,
   "metadata": {},
   "outputs": [],
   "source": [
    "from constraint import *\n",
    "from typing import Dict, List, Optional\n",
    "\n",
    "class SendMoreMoney(Constraint[str, int]):\n",
    "    def __init__(self, alpha: List[str]) -> None:\n",
    "        super().__init(alpha)\n",
    "        self.alpha: List[str] = alpha\n",
    "            \n",
    "    def satisfied(self, assg: Dict[str, int]) -> bool:\n",
    "        if len(set(assg.values())) < len(assg):\n",
    "             return False\n",
    "        if len(assg) == len(self.alpha):\n",
    "             s: int = assg[\"S\"]\n",
    "             e: int = assg[\"E\"]\n",
    "             n: int = assg[\"N\"]\n",
    "             d: int = assg[\"D\"]\n",
    "             m: int = assg[\"M\"]\n",
    "             o: int = assg[\"O\"]\n",
    "             r: int = assg[\"R\"]\n",
    "             y: int = assg[\"Y\"]\n",
    "             send: int = s * 1000 + e * 100 + n * 10 + d\n",
    "             more: int = m * 1000 + o * 100 + r * 10 + e\n",
    "             money: int = m * 10000 + o * 1000 + n * 100 + e * 10 + y\n",
    "             return send + more == money\n",
    "        return True\n",
    "    \n",
    "if __name__ == \"__main__\":\n",
    "     letters: List[str] = [\"S\", \"E\", \"N\", \"D\", \"M\", \"O\", \"R\", \"Y\"]\n",
    "     possible_digits: Dict[str, List[int]] = {}\n",
    "     for letter in letters:\n",
    "         possible_digits[letter] = [0, 1, 2, 3, 4, 5, 6, 7, 8, 9]\n",
    "     possible_digits[\"M\"] = [1]  \n",
    "     if solution is None:\n",
    "         print(\"No solution found!\")\n",
    "     else:\n",
    "         print(solution)\n",
    "            "
   ]
  },
  {
   "cell_type": "markdown",
   "metadata": {},
   "source": [
    "This is from the API documentation -- being projected during the lab\n",
    "\n",
    "```\n",
    "addConstraint(self, constraint, variables=None)\n",
    "Add a constraint to the problem\n",
    "\n",
    "Example:\n",
    ">>> problem = Problem()\n",
    ">>> problem.addVariables([\"a\", \"b\"], [1, 2, 3])\n",
    ">>> problem.addConstraint(lambda a, b: b == a+1, [\"a\", \"b\"])\n",
    ">>> solutions = problem.getSolutions()\n",
    ">>>\n",
    "Parameters:\n",
    "constraint - Constraint to be included in the problem\n",
    "           (type=instance a Constraint subclass or a function to be wrapped by FunctionConstraint)\n",
    "variables - Variables affected by the constraint (default to all variables). Depending on the constraint type the order may be important.\n",
    "           (type=set or sequence of variables)\n",
    "```"
   ]
  },
  {
   "cell_type": "code",
   "execution_count": null,
   "metadata": {},
   "outputs": [],
   "source": []
  }
 ],
 "metadata": {
  "kernelspec": {
   "display_name": "Python 3",
   "language": "python",
   "name": "python3"
  },
  "language_info": {
   "codemirror_mode": {
    "name": "ipython",
    "version": 3
   },
   "file_extension": ".py",
   "mimetype": "text/x-python",
   "name": "python",
   "nbconvert_exporter": "python",
   "pygments_lexer": "ipython3",
   "version": "3.7.0"
  }
 },
 "nbformat": 4,
 "nbformat_minor": 2
}
